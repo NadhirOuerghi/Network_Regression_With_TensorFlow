{
  "nbformat": 4,
  "nbformat_minor": 0,
  "metadata": {
    "colab": {
      "name": "01_Neural_Network_Regression_With_TensorFlow.ipynb",
      "provenance": [],
      "collapsed_sections": [],
      "authorship_tag": "ABX9TyP8YwAuwIWcklcMCt8JfSaA",
      "include_colab_link": true
    },
    "kernelspec": {
      "name": "python3",
      "display_name": "Python 3"
    },
    "language_info": {
      "name": "python"
    }
  },
  "cells": [
    {
      "cell_type": "markdown",
      "metadata": {
        "id": "view-in-github",
        "colab_type": "text"
      },
      "source": [
        "<a href=\"https://colab.research.google.com/github/NadhirOuerghi/Network_Regression_With_TensorFlow/blob/main/01_Neural_Network_Regression_With_TensorFlow.ipynb\" target=\"_parent\"><img src=\"https://colab.research.google.com/assets/colab-badge.svg\" alt=\"Open In Colab\"/></a>"
      ]
    },
    {
      "cell_type": "markdown",
      "metadata": {
        "id": "H-rtaVyFdkki"
      },
      "source": [
        "# Introduction to Regression With Neural Networks in TensorFlow\n",
        "\n",
        "There are many definitions for a regression problembut in our case,\n",
        "we're going to simplify it : predicting a numerical variable based \n",
        "on some other combination of variables, even shorte... predicting a number."
      ]
    },
    {
      "cell_type": "code",
      "metadata": {
        "colab": {
          "base_uri": "https://localhost:8080/"
        },
        "id": "Wz2IxlOLgAee",
        "outputId": "493764fa-2097-4ec9-9f4f-d2148be31090"
      },
      "source": [
        "# Import TensorFlow\n",
        "import tensorflow as tf\n",
        "print(tf.__version__)"
      ],
      "execution_count": 1,
      "outputs": [
        {
          "output_type": "stream",
          "text": [
            "2.5.0\n"
          ],
          "name": "stdout"
        }
      ]
    },
    {
      "cell_type": "markdown",
      "metadata": {
        "id": "3wTPuBTFgYyQ"
      },
      "source": [
        "# Creating data to view and fit\n",
        "\n",
        "Since we're working on a regression problem (predicting a number) let's create some linear data (a straight line) to model.\n"
      ]
    },
    {
      "cell_type": "code",
      "metadata": {
        "colab": {
          "base_uri": "https://localhost:8080/",
          "height": 286
        },
        "id": "BA2cMqKdgdca",
        "outputId": "6b13c44b-797c-43cd-af20-473305e085ae"
      },
      "source": [
        "import numpy as np\n",
        "import matplotlib.pyplot as plt\n",
        "\n",
        "# Create features\n",
        "X = np.array([-7.0, -4.0, -1.0, 2.0, 5.0, 8.0, 11.0, 14.0]) # X : input ( features independent variable )\n",
        "\n",
        "# Create labels\n",
        "y = np.array([3.0, 6.0, 9.0, 12.0, 15.0, 18.0, 21.0, 24.0]) # y : labels ( dependent variable )\n",
        "\n",
        "# Visualize it\n",
        "plt.scatter(X, y)\n"
      ],
      "execution_count": 2,
      "outputs": [
        {
          "output_type": "execute_result",
          "data": {
            "text/plain": [
              "<matplotlib.collections.PathCollection at 0x7fb8f2c95e90>"
            ]
          },
          "metadata": {
            "tags": []
          },
          "execution_count": 2
        },
        {
          "output_type": "display_data",
          "data": {
            "image/png": "[encoded data removed]",
            "text/plain": [
              "<Figure size 432x288 with 1 Axes>"
            ]
          },
          "metadata": {
            "tags": [],
            "needs_background": "light"
          }
        }
      ]
    },
    {
      "cell_type": "code",
      "metadata": {
        "colab": {
          "base_uri": "https://localhost:8080/"
        },
        "id": "-LkUDQQShhd_",
        "outputId": "14ab75c4-1ac8-4223-ccfb-0d3cc7662bad"
      },
      "source": [
        "y == X+10"
      ],
      "execution_count": 3,
      "outputs": [
        {
          "output_type": "execute_result",
          "data": {
            "text/plain": [
              "array([ True,  True,  True,  True,  True,  True,  True,  True])"
            ]
          },
          "metadata": {
            "tags": []
          },
          "execution_count": 3
        }
      ]
    },
    {
      "cell_type": "markdown",
      "metadata": {
        "id": "YQaQ599ailMz"
      },
      "source": [
        "# Input and output shapes"
      ]
    },
    {
      "cell_type": "code",
      "metadata": {
        "colab": {
          "base_uri": "https://localhost:8080/"
        },
        "id": "9ifV1S9LirNl",
        "outputId": "2f1226ea-d7fe-4bf0-f05a-d8ceea342aa6"
      },
      "source": [
        "# create a demo tensor for our housing price prediction problem\n",
        "house_info = tf.constant([\"bedroom\", \"bathroom\", \"garage\"])\n",
        "house_price = tf.constant([900500])\n",
        "house_info, house_price"
      ],
      "execution_count": 4,
      "outputs": [
        {
          "output_type": "execute_result",
          "data": {
            "text/plain": [
              "(<tf.Tensor: shape=(3,), dtype=string, numpy=array([b'bedroom', b'bathroom', b'garage'], dtype=object)>,\n",
              " <tf.Tensor: shape=(1,), dtype=int32, numpy=array([900500], dtype=int32)>)"
            ]
          },
          "metadata": {
            "tags": []
          },
          "execution_count": 4
        }
      ]
    },
    {
      "cell_type": "code",
      "metadata": {
        "colab": {
          "base_uri": "https://localhost:8080/"
        },
        "id": "uVxBWb36kH0C",
        "outputId": "dde174d2-a9a9-4c00-82fe-1adbff98af9e"
      },
      "source": [
        "X[0], y[0]"
      ],
      "execution_count": 5,
      "outputs": [
        {
          "output_type": "execute_result",
          "data": {
            "text/plain": [
              "(-7.0, 3.0)"
            ]
          },
          "metadata": {
            "tags": []
          },
          "execution_count": 5
        }
      ]
    },
    {
      "cell_type": "code",
      "metadata": {
        "colab": {
          "base_uri": "https://localhost:8080/"
        },
        "id": "6WdniK8akRhb",
        "outputId": "d4a15edc-8357-4785-8380-20756b6034c6"
      },
      "source": [
        "# Take a single example of X\n",
        "input_shape = X[0].shape \n",
        "\n",
        "# Take a single example of y\n",
        "output_shape = y[0].shape\n",
        "\n",
        "input_shape, output_shape # these are both scalars (no shape)"
      ],
      "execution_count": 6,
      "outputs": [
        {
          "output_type": "execute_result",
          "data": {
            "text/plain": [
              "((), ())"
            ]
          },
          "metadata": {
            "tags": []
          },
          "execution_count": 6
        }
      ]
    },
    {
      "cell_type": "markdown",
      "metadata": {
        "id": "G6pIpoB3kYx0"
      },
      "source": [
        "\n",
        "\n",
        "Huhhh !\n",
        "\n",
        "From this it seems our inputs and outputs have no shape?\n",
        "\n",
        "How could that be?\n",
        "\n",
        "It's because no matter what kind of data we pass to our model, it's always going to take as input and return as ouput some kind of tensor.\n",
        "\n",
        "But in our case because of our dataset (only 2 small lists of numbers), we're looking at a special kind of tensor, more specificially a rank 0 tensor or a scalar.\n"
      ]
    },
    {
      "cell_type": "code",
      "metadata": {
        "colab": {
          "base_uri": "https://localhost:8080/"
        },
        "id": "_XvXV9xWktqt",
        "outputId": "e0db1862-7f09-45f6-bb76-6766c04dba65"
      },
      "source": [
        "# Let's take a look at the single examples invidually\n",
        "X[0], y[0]"
      ],
      "execution_count": 7,
      "outputs": [
        {
          "output_type": "execute_result",
          "data": {
            "text/plain": [
              "(-7.0, 3.0)"
            ]
          },
          "metadata": {
            "tags": []
          },
          "execution_count": 7
        }
      ]
    },
    {
      "cell_type": "markdown",
      "metadata": {
        "id": "QgrQXMf8k3pn"
      },
      "source": [
        "\n",
        "\n",
        "In our case, we're trying to build a model to predict the pattern between X[0] equalling -7.0 and y[0] equalling 3.0.\n",
        "\n",
        "So now we get our answer, we're trying to use 1 X value to predict 1 y value.\n",
        "\n",
        "You might be thinking, \"this seems pretty complicated for just predicting a straight line...\".\n",
        "\n",
        "And you'd be right.\n",
        "\n",
        "But the concepts we're covering here, the concepts of input and output shapes to a model are fundamental.\n",
        "\n",
        "In fact, they're probably two of the things you'll spend the most time on when you work with neural networks: making sure your input and outputs are in the correct shape."
      ]
    },
    {
      "cell_type": "code",
      "metadata": {
        "colab": {
          "base_uri": "https://localhost:8080/"
        },
        "id": "NHuB0Gk0k5bU",
        "outputId": "3398da5d-1b8b-4d29-db93-57ea7e59ea5f"
      },
      "source": [
        "# Turn our NumPy array into tensors\n",
        "X = tf.constant(X)\n",
        "y = tf.constant(y)\n",
        "X, y"
      ],
      "execution_count": 8,
      "outputs": [
        {
          "output_type": "execute_result",
          "data": {
            "text/plain": [
              "(<tf.Tensor: shape=(8,), dtype=float64, numpy=array([-7., -4., -1.,  2.,  5.,  8., 11., 14.])>,\n",
              " <tf.Tensor: shape=(8,), dtype=float64, numpy=array([ 3.,  6.,  9., 12., 15., 18., 21., 24.])>)"
            ]
          },
          "metadata": {
            "tags": []
          },
          "execution_count": 8
        }
      ]
    },
    {
      "cell_type": "code",
      "metadata": {
        "colab": {
          "base_uri": "https://localhost:8080/"
        },
        "id": "A8B6CilLlfDy",
        "outputId": "8efbbb3c-1cc0-4aca-af3f-5aa53df33b5d"
      },
      "source": [
        "input_shape = X[0].shape \n",
        "output_shape = y[0].shape\n",
        "input_shape, output_shape"
      ],
      "execution_count": 9,
      "outputs": [
        {
          "output_type": "execute_result",
          "data": {
            "text/plain": [
              "(TensorShape([]), TensorShape([]))"
            ]
          },
          "metadata": {
            "tags": []
          },
          "execution_count": 9
        }
      ]
    },
    {
      "cell_type": "markdown",
      "metadata": {
        "id": "CY9UqQ2Fm0Pg"
      },
      "source": [
        "\n",
        "# Steps in modelling with TensorFlow\n",
        "\n",
        "Now we know what data we have as well as the input and output shapes, let's see how we'd build a neural network to model it.\n",
        "\n",
        "In TensorFlow, there are typically 3 fundamental steps to creating and training a model.\n",
        "\n",
        "    Creating a model - piece together the layers of a neural network yourself (using the Functional or Sequential API) or import a previously built model (known as transfer learning).\n",
        "    Compiling a model - defining how a models performance should be measured (loss/metrics) as well as defining how it should improve (optimizer).\n",
        "    Fitting a model - letting the model try to find patterns in the data (how does X get to y).\n",
        "\n",
        "Let's see these in action using the Keras Sequential API to build a model for our regression data. And then we'll step through each.\n"
      ]
    },
    {
      "cell_type": "code",
      "metadata": {
        "colab": {
          "base_uri": "https://localhost:8080/"
        },
        "id": "HIwgRglooE43",
        "outputId": "fa36cfe6-f2cc-49b1-cc4a-2c077e5d3a0a"
      },
      "source": [
        "# Set random seed\n",
        "tf.random.set_seed(42)\n",
        "\n",
        "# Create a model using the Sequential API\n",
        "model = tf.keras.Sequential([\n",
        "  tf.keras.layers.Dense(1)\n",
        "])\n",
        "\n",
        "# Compile the model\n",
        "model.compile(loss=tf.keras.losses.mae, # mae is short for mean absolute error\n",
        "              optimizer=tf.keras.optimizers.SGD(), # SGD is short for stochastic gradient descent\n",
        "              metrics=[\"mae\"])\n",
        "\n",
        "# Fit the model\n",
        "model.fit(X, y, epochs=5)\n",
        "\n"
      ],
      "execution_count": 10,
      "outputs": [
        {
          "output_type": "stream",
          "text": [
            "Epoch 1/5\n",
            "1/1 [==============================] - 1s 524ms/step - loss: 11.5048 - mae: 11.5048\n",
            "Epoch 2/5\n",
            "1/1 [==============================] - 0s 7ms/step - loss: 11.3723 - mae: 11.3723\n",
            "Epoch 3/5\n",
            "1/1 [==============================] - 0s 7ms/step - loss: 11.2398 - mae: 11.2398\n",
            "Epoch 4/5\n",
            "1/1 [==============================] - 0s 5ms/step - loss: 11.1073 - mae: 11.1073\n",
            "Epoch 5/5\n",
            "1/1 [==============================] - 0s 3ms/step - loss: 10.9748 - mae: 10.9748\n"
          ],
          "name": "stdout"
        },
        {
          "output_type": "execute_result",
          "data": {
            "text/plain": [
              "<tensorflow.python.keras.callbacks.History at 0x7fb8f2c12f10>"
            ]
          },
          "metadata": {
            "tags": []
          },
          "execution_count": 10
        }
      ]
    },
    {
      "cell_type": "code",
      "metadata": {
        "colab": {
          "base_uri": "https://localhost:8080/"
        },
        "id": "GNl9YV0ltXG8",
        "outputId": "b2932ec8-d2da-4935-c5f3-5f953e222a16"
      },
      "source": [
        "# Check out X and y\n",
        "X, y"
      ],
      "execution_count": 11,
      "outputs": [
        {
          "output_type": "execute_result",
          "data": {
            "text/plain": [
              "(<tf.Tensor: shape=(8,), dtype=float64, numpy=array([-7., -4., -1.,  2.,  5.,  8., 11., 14.])>,\n",
              " <tf.Tensor: shape=(8,), dtype=float64, numpy=array([ 3.,  6.,  9., 12., 15., 18., 21., 24.])>)"
            ]
          },
          "metadata": {
            "tags": []
          },
          "execution_count": 11
        }
      ]
    },
    {
      "cell_type": "code",
      "metadata": {
        "colab": {
          "base_uri": "https://localhost:8080/"
        },
        "id": "JslczEl3teMw",
        "outputId": "09437c27-3745-418f-fcdd-ade5bcedb015"
      },
      "source": [
        "# Make a prediction with the model\n",
        "model.predict([17.0])"
      ],
      "execution_count": 12,
      "outputs": [
        {
          "output_type": "execute_result",
          "data": {
            "text/plain": [
              "array([[12.716021]], dtype=float32)"
            ]
          },
          "metadata": {
            "tags": []
          },
          "execution_count": 12
        }
      ]
    },
    {
      "cell_type": "markdown",
      "metadata": {
        "id": "zYfSABWnt1Mj"
      },
      "source": [
        "# Improving a model\n",
        "\n",
        "How do you think you'd improve upon our current model?\n",
        "\n",
        "If you guessed by tweaking some of the things we did above, you'd be correct.\n",
        "\n",
        "To improve our model, we alter almost every part of the 3 steps we went through before.\n",
        "\n",
        "    Creating a model - here you might want to add more layers, increase the number of hidden units (also called neurons) within each layer, change the activation functions of each layer.\n",
        "    Compiling a model - you might want to choose optimization function or perhaps change the learning rate of the optimization function.\n",
        "    Fitting a model - perhaps you could fit a model for more epochs (leave it training for longer) or on more data (give the model more examples to learn from).\n"
      ]
    },
    {
      "cell_type": "markdown",
      "metadata": {
        "id": "_FLMTKEauqnm"
      },
      "source": [
        "There are many different ways to potentially improve a neural network. Some of the most common include: increasing the number of layers (making the network deeper), increasing the number of hidden units (making the network wider) and changing the learning rate. Because these values are all human-changeable, they're referred to as hyperparameters) and the practice of trying to find the best hyperparameters is referred to as hyperparameter tuning.\n",
        "\n",
        "Woah. We just introduced a bunch of possible steps. The important thing to remember is how you alter each of these will depend on the problem you're working on.\n",
        "\n",
        "And the good thing is, over the next few problems, we'll get hands-on with all of them.\n",
        "\n",
        "For now, let's keep it simple, all we'll do is train our model for longer (everything else will stay the same)."
      ]
    },
    {
      "cell_type": "code",
      "metadata": {
        "colab": {
          "base_uri": "https://localhost:8080/"
        },
        "id": "PqzQLKyyt64I",
        "outputId": "442ff5ef-7a64-4b73-ec6d-322e9c98b5f0"
      },
      "source": [
        "# Let's rebuild our model\n",
        "\n",
        "# Set random seed\n",
        "tf.random.set_seed(42)\n",
        "\n",
        "# Create a model (same as above)\n",
        "model = tf.keras.Sequential([\n",
        "  tf.keras.layers.Dense(1)\n",
        "])\n",
        "\n",
        "# Compile model (same as above)\n",
        "model.compile(loss=tf.keras.losses.mae,\n",
        "              optimizer=tf.keras.optimizers.SGD(),\n",
        "              metrics=[\"mae\"])\n",
        "\n",
        "# Fit model (this time we'll train for longer)\n",
        "model.fit(X, y, epochs=100) # train for 100 epochs not 10"
      ],
      "execution_count": 13,
      "outputs": [
        {
          "output_type": "stream",
          "text": [
            "Epoch 1/100\n",
            "1/1 [==============================] - 0s 241ms/step - loss: 11.5048 - mae: 11.5048\n",
            "Epoch 2/100\n",
            "1/1 [==============================] - 0s 4ms/step - loss: 11.3723 - mae: 11.3723\n",
            "Epoch 3/100\n",
            "1/1 [==============================] - 0s 5ms/step - loss: 11.2398 - mae: 11.2398\n",
            "Epoch 4/100\n",
            "1/1 [==============================] - 0s 6ms/step - loss: 11.1073 - mae: 11.1073\n",
            "Epoch 5/100\n",
            "1/1 [==============================] - 0s 3ms/step - loss: 10.9748 - mae: 10.9748\n",
            "Epoch 6/100\n",
            "1/1 [==============================] - 0s 5ms/step - loss: 10.8423 - mae: 10.8423\n",
            "Epoch 7/100\n",
            "1/1 [==============================] - 0s 4ms/step - loss: 10.7098 - mae: 10.7098\n",
            "Epoch 8/100\n",
            "1/1 [==============================] - 0s 5ms/step - loss: 10.5773 - mae: 10.5773\n",
            "Epoch 9/100\n",
            "1/1 [==============================] - 0s 4ms/step - loss: 10.4448 - mae: 10.4448\n",
            "Epoch 10/100\n",
            "1/1 [==============================] - 0s 5ms/step - loss: 10.3123 - mae: 10.3123\n",
            "Epoch 11/100\n",
            "1/1 [==============================] - 0s 5ms/step - loss: 10.1798 - mae: 10.1798\n",
            "Epoch 12/100\n",
            "1/1 [==============================] - 0s 7ms/step - loss: 10.0473 - mae: 10.0473\n",
            "Epoch 13/100\n",
            "1/1 [==============================] - 0s 4ms/step - loss: 9.9148 - mae: 9.9148\n",
            "Epoch 14/100\n",
            "1/1 [==============================] - 0s 4ms/step - loss: 9.7823 - mae: 9.7823\n",
            "Epoch 15/100\n",
            "1/1 [==============================] - 0s 4ms/step - loss: 9.6498 - mae: 9.6498\n",
            "Epoch 16/100\n",
            "1/1 [==============================] - 0s 7ms/step - loss: 9.5173 - mae: 9.5173\n",
            "Epoch 17/100\n",
            "1/1 [==============================] - 0s 4ms/step - loss: 9.3848 - mae: 9.3848\n",
            "Epoch 18/100\n",
            "1/1 [==============================] - 0s 4ms/step - loss: 9.2523 - mae: 9.2523\n",
            "Epoch 19/100\n",
            "1/1 [==============================] - 0s 6ms/step - loss: 9.1198 - mae: 9.1198\n",
            "Epoch 20/100\n",
            "1/1 [==============================] - 0s 4ms/step - loss: 8.9873 - mae: 8.9873\n",
            "Epoch 21/100\n",
            "1/1 [==============================] - 0s 5ms/step - loss: 8.8548 - mae: 8.8548\n",
            "Epoch 22/100\n",
            "1/1 [==============================] - 0s 5ms/step - loss: 8.7223 - mae: 8.7223\n",
            "Epoch 23/100\n",
            "1/1 [==============================] - 0s 9ms/step - loss: 8.5898 - mae: 8.5898\n",
            "Epoch 24/100\n",
            "1/1 [==============================] - 0s 6ms/step - loss: 8.4573 - mae: 8.4573\n",
            "Epoch 25/100\n",
            "1/1 [==============================] - 0s 8ms/step - loss: 8.3248 - mae: 8.3248\n",
            "Epoch 26/100\n",
            "1/1 [==============================] - 0s 5ms/step - loss: 8.1923 - mae: 8.1923\n",
            "Epoch 27/100\n",
            "1/1 [==============================] - 0s 4ms/step - loss: 8.0598 - mae: 8.0598\n",
            "Epoch 28/100\n",
            "1/1 [==============================] - 0s 7ms/step - loss: 7.9273 - mae: 7.9273\n",
            "Epoch 29/100\n",
            "1/1 [==============================] - 0s 5ms/step - loss: 7.7948 - mae: 7.7948\n",
            "Epoch 30/100\n",
            "1/1 [==============================] - 0s 6ms/step - loss: 7.6623 - mae: 7.6623\n",
            "Epoch 31/100\n",
            "1/1 [==============================] - 0s 7ms/step - loss: 7.5298 - mae: 7.5298\n",
            "Epoch 32/100\n",
            "1/1 [==============================] - 0s 5ms/step - loss: 7.3973 - mae: 7.3973\n",
            "Epoch 33/100\n",
            "1/1 [==============================] - 0s 6ms/step - loss: 7.2648 - mae: 7.2648\n",
            "Epoch 34/100\n",
            "1/1 [==============================] - 0s 6ms/step - loss: 7.2525 - mae: 7.2525\n",
            "Epoch 35/100\n",
            "1/1 [==============================] - 0s 5ms/step - loss: 7.2469 - mae: 7.2469\n",
            "Epoch 36/100\n",
            "1/1 [==============================] - 0s 6ms/step - loss: 7.2413 - mae: 7.2413\n",
            "Epoch 37/100\n",
            "1/1 [==============================] - 0s 5ms/step - loss: 7.2356 - mae: 7.2356\n",
            "Epoch 38/100\n",
            "1/1 [==============================] - 0s 5ms/step - loss: 7.2300 - mae: 7.2300\n",
            "Epoch 39/100\n",
            "1/1 [==============================] - 0s 6ms/step - loss: 7.2244 - mae: 7.2244\n",
            "Epoch 40/100\n",
            "1/1 [==============================] - 0s 4ms/step - loss: 7.2188 - mae: 7.2188\n",
            "Epoch 41/100\n",
            "1/1 [==============================] - 0s 6ms/step - loss: 7.2131 - mae: 7.2131\n",
            "Epoch 42/100\n",
            "1/1 [==============================] - 0s 4ms/step - loss: 7.2075 - mae: 7.2075\n",
            "Epoch 43/100\n",
            "1/1 [==============================] - 0s 7ms/step - loss: 7.2019 - mae: 7.2019\n",
            "Epoch 44/100\n",
            "1/1 [==============================] - 0s 5ms/step - loss: 7.1963 - mae: 7.1963\n",
            "Epoch 45/100\n",
            "1/1 [==============================] - 0s 7ms/step - loss: 7.1906 - mae: 7.1906\n",
            "Epoch 46/100\n",
            "1/1 [==============================] - 0s 6ms/step - loss: 7.1850 - mae: 7.1850\n",
            "Epoch 47/100\n",
            "1/1 [==============================] - 0s 5ms/step - loss: 7.1794 - mae: 7.1794\n",
            "Epoch 48/100\n",
            "1/1 [==============================] - 0s 9ms/step - loss: 7.1738 - mae: 7.1738\n",
            "Epoch 49/100\n",
            "1/1 [==============================] - 0s 5ms/step - loss: 7.1681 - mae: 7.1681\n",
            "Epoch 50/100\n",
            "1/1 [==============================] - 0s 5ms/step - loss: 7.1625 - mae: 7.1625\n",
            "Epoch 51/100\n",
            "1/1 [==============================] - 0s 9ms/step - loss: 7.1569 - mae: 7.1569\n",
            "Epoch 52/100\n",
            "1/1 [==============================] - 0s 5ms/step - loss: 7.1512 - mae: 7.1512\n",
            "Epoch 53/100\n",
            "1/1 [==============================] - 0s 7ms/step - loss: 7.1456 - mae: 7.1456\n",
            "Epoch 54/100\n",
            "1/1 [==============================] - 0s 8ms/step - loss: 7.1400 - mae: 7.1400\n",
            "Epoch 55/100\n",
            "1/1 [==============================] - 0s 5ms/step - loss: 7.1344 - mae: 7.1344\n",
            "Epoch 56/100\n",
            "1/1 [==============================] - 0s 7ms/step - loss: 7.1287 - mae: 7.1287\n",
            "Epoch 57/100\n",
            "1/1 [==============================] - 0s 8ms/step - loss: 7.1231 - mae: 7.1231\n",
            "Epoch 58/100\n",
            "1/1 [==============================] - 0s 5ms/step - loss: 7.1175 - mae: 7.1175\n",
            "Epoch 59/100\n",
            "1/1 [==============================] - 0s 8ms/step - loss: 7.1119 - mae: 7.1119\n",
            "Epoch 60/100\n",
            "1/1 [==============================] - 0s 13ms/step - loss: 7.1063 - mae: 7.1063\n",
            "Epoch 61/100\n",
            "1/1 [==============================] - 0s 5ms/step - loss: 7.1006 - mae: 7.1006\n",
            "Epoch 62/100\n",
            "1/1 [==============================] - 0s 8ms/step - loss: 7.0950 - mae: 7.0950\n",
            "Epoch 63/100\n",
            "1/1 [==============================] - 0s 18ms/step - loss: 7.0894 - mae: 7.0894\n",
            "Epoch 64/100\n",
            "1/1 [==============================] - 0s 4ms/step - loss: 7.0838 - mae: 7.0838\n",
            "Epoch 65/100\n",
            "1/1 [==============================] - 0s 6ms/step - loss: 7.0781 - mae: 7.0781\n",
            "Epoch 66/100\n",
            "1/1 [==============================] - 0s 6ms/step - loss: 7.0725 - mae: 7.0725\n",
            "Epoch 67/100\n",
            "1/1 [==============================] - 0s 8ms/step - loss: 7.0669 - mae: 7.0669\n",
            "Epoch 68/100\n",
            "1/1 [==============================] - 0s 6ms/step - loss: 7.0613 - mae: 7.0613\n",
            "Epoch 69/100\n",
            "1/1 [==============================] - 0s 6ms/step - loss: 7.0556 - mae: 7.0556\n",
            "Epoch 70/100\n",
            "1/1 [==============================] - 0s 18ms/step - loss: 7.0500 - mae: 7.0500\n",
            "Epoch 71/100\n",
            "1/1 [==============================] - 0s 3ms/step - loss: 7.0444 - mae: 7.0444\n",
            "Epoch 72/100\n",
            "1/1 [==============================] - 0s 4ms/step - loss: 7.0388 - mae: 7.0388\n",
            "Epoch 73/100\n",
            "1/1 [==============================] - 0s 7ms/step - loss: 7.0331 - mae: 7.0331\n",
            "Epoch 74/100\n",
            "1/1 [==============================] - 0s 3ms/step - loss: 7.0275 - mae: 7.0275\n",
            "Epoch 75/100\n",
            "1/1 [==============================] - 0s 11ms/step - loss: 7.0219 - mae: 7.0219\n",
            "Epoch 76/100\n",
            "1/1 [==============================] - 0s 6ms/step - loss: 7.0163 - mae: 7.0163\n",
            "Epoch 77/100\n",
            "1/1 [==============================] - 0s 6ms/step - loss: 7.0106 - mae: 7.0106\n",
            "Epoch 78/100\n",
            "1/1 [==============================] - 0s 5ms/step - loss: 7.0050 - mae: 7.0050\n",
            "Epoch 79/100\n",
            "1/1 [==============================] - 0s 4ms/step - loss: 6.9994 - mae: 6.9994\n",
            "Epoch 80/100\n",
            "1/1 [==============================] - 0s 7ms/step - loss: 6.9938 - mae: 6.9938\n",
            "Epoch 81/100\n",
            "1/1 [==============================] - 0s 3ms/step - loss: 6.9881 - mae: 6.9881\n",
            "Epoch 82/100\n",
            "1/1 [==============================] - 0s 7ms/step - loss: 6.9825 - mae: 6.9825\n",
            "Epoch 83/100\n",
            "1/1 [==============================] - 0s 14ms/step - loss: 6.9769 - mae: 6.9769\n",
            "Epoch 84/100\n",
            "1/1 [==============================] - 0s 7ms/step - loss: 6.9713 - mae: 6.9713\n",
            "Epoch 85/100\n",
            "1/1 [==============================] - 0s 7ms/step - loss: 6.9656 - mae: 6.9656\n",
            "Epoch 86/100\n",
            "1/1 [==============================] - 0s 11ms/step - loss: 6.9600 - mae: 6.9600\n",
            "Epoch 87/100\n",
            "1/1 [==============================] - 0s 6ms/step - loss: 6.9544 - mae: 6.9544\n",
            "Epoch 88/100\n",
            "1/1 [==============================] - 0s 8ms/step - loss: 6.9488 - mae: 6.9488\n",
            "Epoch 89/100\n",
            "1/1 [==============================] - 0s 4ms/step - loss: 6.9431 - mae: 6.9431\n",
            "Epoch 90/100\n",
            "1/1 [==============================] - 0s 4ms/step - loss: 6.9375 - mae: 6.9375\n",
            "Epoch 91/100\n",
            "1/1 [==============================] - 0s 7ms/step - loss: 6.9319 - mae: 6.9319\n",
            "Epoch 92/100\n",
            "1/1 [==============================] - 0s 3ms/step - loss: 6.9263 - mae: 6.9263\n",
            "Epoch 93/100\n",
            "1/1 [==============================] - 0s 9ms/step - loss: 6.9206 - mae: 6.9206\n",
            "Epoch 94/100\n",
            "1/1 [==============================] - 0s 8ms/step - loss: 6.9150 - mae: 6.9150\n",
            "Epoch 95/100\n",
            "1/1 [==============================] - 0s 5ms/step - loss: 6.9094 - mae: 6.9094\n",
            "Epoch 96/100\n",
            "1/1 [==============================] - 0s 9ms/step - loss: 6.9038 - mae: 6.9038\n",
            "Epoch 97/100\n",
            "1/1 [==============================] - 0s 16ms/step - loss: 6.8981 - mae: 6.8981\n",
            "Epoch 98/100\n",
            "1/1 [==============================] - 0s 5ms/step - loss: 6.8925 - mae: 6.8925\n",
            "Epoch 99/100\n",
            "1/1 [==============================] - 0s 9ms/step - loss: 6.8869 - mae: 6.8869\n",
            "Epoch 100/100\n",
            "1/1 [==============================] - 0s 10ms/step - loss: 6.8813 - mae: 6.8813\n"
          ],
          "name": "stdout"
        },
        {
          "output_type": "execute_result",
          "data": {
            "text/plain": [
              "<tensorflow.python.keras.callbacks.History at 0x7fb8eee90950>"
            ]
          },
          "metadata": {
            "tags": []
          },
          "execution_count": 13
        }
      ]
    },
    {
      "cell_type": "markdown",
      "metadata": {
        "id": "jgo86eAru-Wk"
      },
      "source": [
        "\n",
        "\n",
        "You might've noticed the loss value decrease from before (and keep decreasing as the number of epochs gets higher).\n",
        "\n",
        "What do you think this means for when we make a prediction with our model?\n",
        "\n",
        "How about we try predict on 17.0 again?\n"
      ]
    },
    {
      "cell_type": "code",
      "metadata": {
        "colab": {
          "base_uri": "https://localhost:8080/"
        },
        "id": "ahlDKMumxxu0",
        "outputId": "78df9ebe-5270-4b8d-e18f-6708da74608e"
      },
      "source": [
        "# Remind ourselves of what X and y are\n",
        "X, y"
      ],
      "execution_count": 14,
      "outputs": [
        {
          "output_type": "execute_result",
          "data": {
            "text/plain": [
              "(<tf.Tensor: shape=(8,), dtype=float64, numpy=array([-7., -4., -1.,  2.,  5.,  8., 11., 14.])>,\n",
              " <tf.Tensor: shape=(8,), dtype=float64, numpy=array([ 3.,  6.,  9., 12., 15., 18., 21., 24.])>)"
            ]
          },
          "metadata": {
            "tags": []
          },
          "execution_count": 14
        }
      ]
    },
    {
      "cell_type": "code",
      "metadata": {
        "colab": {
          "base_uri": "https://localhost:8080/"
        },
        "id": "TJi6nk1xx2_t",
        "outputId": "dbce3909-5d09-4737-fc1f-13e1d6cf9c6d"
      },
      "source": [
        "# Try and predict what y would be if X was 17.0\n",
        "model.predict([17.0]) # the right answer is 27.0 (y = X + 10)"
      ],
      "execution_count": 15,
      "outputs": [
        {
          "output_type": "execute_result",
          "data": {
            "text/plain": [
              "array([[30.158512]], dtype=float32)"
            ]
          },
          "metadata": {
            "tags": []
          },
          "execution_count": 15
        }
      ]
    },
    {
      "cell_type": "code",
      "metadata": {
        "colab": {
          "base_uri": "https://localhost:8080/"
        },
        "id": "TyoOyefA21Ai",
        "outputId": "9375c4f5-1a15-445c-8c74-58b94a844c4a"
      },
      "source": [
        "#Let's see if we can make another to improve our model\n",
        "\n",
        "# 1- Create the model (this time with an extra hidden layer with 100 hidden units)\n",
        "\n",
        "model = tf.keras.Sequential ( [ tf.keras.layers.Dense (100, activation=\"relu\"),\n",
        "\n",
        "tf.keras.layers. Dense (1)\n",
        "\n",
        "])\n",
        "\n",
        "# 2- Compile the model\n",
        "\n",
        "model.compile(loss=tf.keras.losses.mae,\n",
        "              optimizer=tf.keras.optimizers.SGD(),\n",
        "              metrics=[\"mae\"])\n",
        "# 3- Fit the model model.f (X, Y, epochs=100)\n",
        "model.fit(X, y, epochs=100)\n"
      ],
      "execution_count": 16,
      "outputs": [
        {
          "output_type": "stream",
          "text": [
            "Epoch 1/100\n",
            "1/1 [==============================] - 0s 313ms/step - loss: 13.9468 - mae: 13.9468\n",
            "Epoch 2/100\n",
            "1/1 [==============================] - 0s 5ms/step - loss: 13.2859 - mae: 13.2859\n",
            "Epoch 3/100\n",
            "1/1 [==============================] - 0s 10ms/step - loss: 12.6279 - mae: 12.6279\n",
            "Epoch 4/100\n",
            "1/1 [==============================] - 0s 7ms/step - loss: 11.9702 - mae: 11.9702\n",
            "Epoch 5/100\n",
            "1/1 [==============================] - 0s 5ms/step - loss: 11.3044 - mae: 11.3044\n",
            "Epoch 6/100\n",
            "1/1 [==============================] - 0s 4ms/step - loss: 10.6244 - mae: 10.6244\n",
            "Epoch 7/100\n",
            "1/1 [==============================] - 0s 4ms/step - loss: 9.9248 - mae: 9.9248\n",
            "Epoch 8/100\n",
            "1/1 [==============================] - 0s 4ms/step - loss: 9.1949 - mae: 9.1949\n",
            "Epoch 9/100\n",
            "1/1 [==============================] - 0s 4ms/step - loss: 8.4303 - mae: 8.4303\n",
            "Epoch 10/100\n",
            "1/1 [==============================] - 0s 4ms/step - loss: 7.6245 - mae: 7.6245\n",
            "Epoch 11/100\n",
            "1/1 [==============================] - 0s 4ms/step - loss: 6.7723 - mae: 6.7723\n",
            "Epoch 12/100\n",
            "1/1 [==============================] - 0s 4ms/step - loss: 5.8960 - mae: 5.8960\n",
            "Epoch 13/100\n",
            "1/1 [==============================] - 0s 6ms/step - loss: 4.9754 - mae: 4.9754\n",
            "Epoch 14/100\n",
            "1/1 [==============================] - 0s 4ms/step - loss: 4.1323 - mae: 4.1323\n",
            "Epoch 15/100\n",
            "1/1 [==============================] - 0s 4ms/step - loss: 4.0312 - mae: 4.0312\n",
            "Epoch 16/100\n",
            "1/1 [==============================] - 0s 3ms/step - loss: 3.9276 - mae: 3.9276\n",
            "Epoch 17/100\n",
            "1/1 [==============================] - 0s 5ms/step - loss: 3.9605 - mae: 3.9605\n",
            "Epoch 18/100\n",
            "1/1 [==============================] - 0s 5ms/step - loss: 3.9073 - mae: 3.9073\n",
            "Epoch 19/100\n",
            "1/1 [==============================] - 0s 5ms/step - loss: 3.9714 - mae: 3.9714\n",
            "Epoch 20/100\n",
            "1/1 [==============================] - 0s 6ms/step - loss: 3.8999 - mae: 3.8999\n",
            "Epoch 21/100\n",
            "1/1 [==============================] - 0s 4ms/step - loss: 3.9595 - mae: 3.9595\n",
            "Epoch 22/100\n",
            "1/1 [==============================] - 0s 4ms/step - loss: 3.9079 - mae: 3.9079\n",
            "Epoch 23/100\n",
            "1/1 [==============================] - 0s 5ms/step - loss: 3.9333 - mae: 3.9333\n",
            "Epoch 24/100\n",
            "1/1 [==============================] - 0s 6ms/step - loss: 3.9160 - mae: 3.9160\n",
            "Epoch 25/100\n",
            "1/1 [==============================] - 0s 4ms/step - loss: 3.9096 - mae: 3.9096\n",
            "Epoch 26/100\n",
            "1/1 [==============================] - 0s 6ms/step - loss: 3.9309 - mae: 3.9309\n",
            "Epoch 27/100\n",
            "1/1 [==============================] - 0s 12ms/step - loss: 3.8864 - mae: 3.8864\n",
            "Epoch 28/100\n",
            "1/1 [==============================] - 0s 4ms/step - loss: 3.9391 - mae: 3.9391\n",
            "Epoch 29/100\n",
            "1/1 [==============================] - 0s 5ms/step - loss: 3.8681 - mae: 3.8681\n",
            "Epoch 30/100\n",
            "1/1 [==============================] - 0s 6ms/step - loss: 3.9381 - mae: 3.9381\n",
            "Epoch 31/100\n",
            "1/1 [==============================] - 0s 5ms/step - loss: 3.8763 - mae: 3.8763\n",
            "Epoch 32/100\n",
            "1/1 [==============================] - 0s 4ms/step - loss: 3.9117 - mae: 3.9117\n",
            "Epoch 33/100\n",
            "1/1 [==============================] - 0s 5ms/step - loss: 3.8854 - mae: 3.8854\n",
            "Epoch 34/100\n",
            "1/1 [==============================] - 0s 4ms/step - loss: 3.8910 - mae: 3.8910\n",
            "Epoch 35/100\n",
            "1/1 [==============================] - 0s 4ms/step - loss: 3.8996 - mae: 3.8996\n",
            "Epoch 36/100\n",
            "1/1 [==============================] - 0s 4ms/step - loss: 3.8641 - mae: 3.8641\n",
            "Epoch 37/100\n",
            "1/1 [==============================] - 0s 5ms/step - loss: 3.9080 - mae: 3.9080\n",
            "Epoch 38/100\n",
            "1/1 [==============================] - 0s 5ms/step - loss: 3.8374 - mae: 3.8374\n",
            "Epoch 39/100\n",
            "1/1 [==============================] - 0s 6ms/step - loss: 3.9154 - mae: 3.9154\n",
            "Epoch 40/100\n",
            "1/1 [==============================] - 0s 4ms/step - loss: 3.8459 - mae: 3.8459\n",
            "Epoch 41/100\n",
            "1/1 [==============================] - 0s 6ms/step - loss: 3.8888 - mae: 3.8888\n",
            "Epoch 42/100\n",
            "1/1 [==============================] - 0s 8ms/step - loss: 3.8594 - mae: 3.8594\n",
            "Epoch 43/100\n",
            "1/1 [==============================] - 0s 5ms/step - loss: 3.8678 - mae: 3.8678\n",
            "Epoch 44/100\n",
            "1/1 [==============================] - 0s 5ms/step - loss: 3.8695 - mae: 3.8695\n",
            "Epoch 45/100\n",
            "1/1 [==============================] - 0s 5ms/step - loss: 3.8407 - mae: 3.8407\n",
            "Epoch 46/100\n",
            "1/1 [==============================] - 0s 7ms/step - loss: 3.8782 - mae: 3.8782\n",
            "Epoch 47/100\n",
            "1/1 [==============================] - 0s 5ms/step - loss: 3.8134 - mae: 3.8134\n",
            "Epoch 48/100\n",
            "1/1 [==============================] - 0s 7ms/step - loss: 3.8870 - mae: 3.8870\n",
            "Epoch 49/100\n",
            "1/1 [==============================] - 0s 10ms/step - loss: 3.8165 - mae: 3.8165\n",
            "Epoch 50/100\n",
            "1/1 [==============================] - 0s 9ms/step - loss: 3.8678 - mae: 3.8678\n",
            "Epoch 51/100\n",
            "1/1 [==============================] - 0s 7ms/step - loss: 3.8318 - mae: 3.8318\n",
            "Epoch 52/100\n",
            "1/1 [==============================] - 0s 8ms/step - loss: 3.8433 - mae: 3.8433\n",
            "Epoch 53/100\n",
            "1/1 [==============================] - 0s 6ms/step - loss: 3.8405 - mae: 3.8405\n",
            "Epoch 54/100\n",
            "1/1 [==============================] - 0s 5ms/step - loss: 3.8159 - mae: 3.8159\n",
            "Epoch 55/100\n",
            "1/1 [==============================] - 0s 8ms/step - loss: 3.8494 - mae: 3.8494\n",
            "Epoch 56/100\n",
            "1/1 [==============================] - 0s 7ms/step - loss: 3.7884 - mae: 3.7884\n",
            "Epoch 57/100\n",
            "1/1 [==============================] - 0s 8ms/step - loss: 3.8585 - mae: 3.8585\n",
            "Epoch 58/100\n",
            "1/1 [==============================] - 0s 5ms/step - loss: 3.7889 - mae: 3.7889\n",
            "Epoch 59/100\n",
            "1/1 [==============================] - 0s 7ms/step - loss: 3.8451 - mae: 3.8451\n",
            "Epoch 60/100\n",
            "1/1 [==============================] - 0s 5ms/step - loss: 3.8037 - mae: 3.8037\n",
            "Epoch 61/100\n",
            "1/1 [==============================] - 0s 7ms/step - loss: 3.8175 - mae: 3.8175\n",
            "Epoch 62/100\n",
            "1/1 [==============================] - 0s 5ms/step - loss: 3.8126 - mae: 3.8126\n",
            "Epoch 63/100\n",
            "1/1 [==============================] - 0s 8ms/step - loss: 3.7899 - mae: 3.7899\n",
            "Epoch 64/100\n",
            "1/1 [==============================] - 0s 5ms/step - loss: 3.8218 - mae: 3.8218\n",
            "Epoch 65/100\n",
            "1/1 [==============================] - 0s 13ms/step - loss: 3.7622 - mae: 3.7622\n",
            "Epoch 66/100\n",
            "1/1 [==============================] - 0s 30ms/step - loss: 3.8311 - mae: 3.8311\n",
            "Epoch 67/100\n",
            "1/1 [==============================] - 0s 8ms/step - loss: 3.7651 - mae: 3.7651\n",
            "Epoch 68/100\n",
            "1/1 [==============================] - 0s 6ms/step - loss: 3.8185 - mae: 3.8185\n",
            "Epoch 69/100\n",
            "1/1 [==============================] - 0s 4ms/step - loss: 3.7766 - mae: 3.7766\n",
            "Epoch 70/100\n",
            "1/1 [==============================] - 0s 4ms/step - loss: 3.7906 - mae: 3.7906\n",
            "Epoch 71/100\n",
            "1/1 [==============================] - 0s 4ms/step - loss: 3.7858 - mae: 3.7858\n",
            "Epoch 72/100\n",
            "1/1 [==============================] - 0s 6ms/step - loss: 3.7627 - mae: 3.7627\n",
            "Epoch 73/100\n",
            "1/1 [==============================] - 0s 5ms/step - loss: 3.7952 - mae: 3.7952\n",
            "Epoch 74/100\n",
            "1/1 [==============================] - 0s 5ms/step - loss: 3.7347 - mae: 3.7347\n",
            "Epoch 75/100\n",
            "1/1 [==============================] - 0s 10ms/step - loss: 3.8055 - mae: 3.8055\n",
            "Epoch 76/100\n",
            "1/1 [==============================] - 0s 4ms/step - loss: 3.7414 - mae: 3.7414\n",
            "Epoch 77/100\n",
            "1/1 [==============================] - 0s 7ms/step - loss: 3.7906 - mae: 3.7906\n",
            "Epoch 78/100\n",
            "1/1 [==============================] - 0s 5ms/step - loss: 3.7506 - mae: 3.7506\n",
            "Epoch 79/100\n",
            "1/1 [==============================] - 0s 7ms/step - loss: 3.7624 - mae: 3.7624\n",
            "Epoch 80/100\n",
            "1/1 [==============================] - 0s 8ms/step - loss: 3.7599 - mae: 3.7599\n",
            "Epoch 81/100\n",
            "1/1 [==============================] - 0s 5ms/step - loss: 3.7342 - mae: 3.7342\n",
            "Epoch 82/100\n",
            "1/1 [==============================] - 0s 17ms/step - loss: 3.7696 - mae: 3.7696\n",
            "Epoch 83/100\n",
            "1/1 [==============================] - 0s 7ms/step - loss: 3.7059 - mae: 3.7059\n",
            "Epoch 84/100\n",
            "1/1 [==============================] - 0s 9ms/step - loss: 3.7833 - mae: 3.7833\n",
            "Epoch 85/100\n",
            "1/1 [==============================] - 0s 10ms/step - loss: 3.7162 - mae: 3.7162\n",
            "Epoch 86/100\n",
            "1/1 [==============================] - 0s 8ms/step - loss: 3.7614 - mae: 3.7614\n",
            "Epoch 87/100\n",
            "1/1 [==============================] - 0s 13ms/step - loss: 3.7255 - mae: 3.7255\n",
            "Epoch 88/100\n",
            "1/1 [==============================] - 0s 13ms/step - loss: 3.7328 - mae: 3.7328\n",
            "Epoch 89/100\n",
            "1/1 [==============================] - 0s 5ms/step - loss: 3.7351 - mae: 3.7351\n",
            "Epoch 90/100\n",
            "1/1 [==============================] - 0s 5ms/step - loss: 3.7044 - mae: 3.7044\n",
            "Epoch 91/100\n",
            "1/1 [==============================] - 0s 5ms/step - loss: 3.7449 - mae: 3.7449\n",
            "Epoch 92/100\n",
            "1/1 [==============================] - 0s 8ms/step - loss: 3.6776 - mae: 3.6776\n",
            "Epoch 93/100\n",
            "1/1 [==============================] - 0s 5ms/step - loss: 3.7594 - mae: 3.7594\n",
            "Epoch 94/100\n",
            "1/1 [==============================] - 0s 7ms/step - loss: 3.6919 - mae: 3.6919\n",
            "Epoch 95/100\n",
            "1/1 [==============================] - 0s 7ms/step - loss: 3.7307 - mae: 3.7307\n",
            "Epoch 96/100\n",
            "1/1 [==============================] - 0s 20ms/step - loss: 3.7015 - mae: 3.7015\n",
            "Epoch 97/100\n",
            "1/1 [==============================] - 0s 10ms/step - loss: 3.7019 - mae: 3.7019\n",
            "Epoch 98/100\n",
            "1/1 [==============================] - 0s 4ms/step - loss: 3.7114 - mae: 3.7114\n",
            "Epoch 99/100\n",
            "1/1 [==============================] - 0s 5ms/step - loss: 3.6731 - mae: 3.6731\n",
            "Epoch 100/100\n",
            "1/1 [==============================] - 0s 7ms/step - loss: 3.7214 - mae: 3.7214\n"
          ],
          "name": "stdout"
        },
        {
          "output_type": "execute_result",
          "data": {
            "text/plain": [
              "<tensorflow.python.keras.callbacks.History at 0x7fb8eedefb50>"
            ]
          },
          "metadata": {
            "tags": []
          },
          "execution_count": 16
        }
      ]
    },
    {
      "cell_type": "code",
      "metadata": {
        "colab": {
          "base_uri": "https://localhost:8080/"
        },
        "id": "wduSGNpf3uEG",
        "outputId": "24d27efc-67c7-436e-d0e3-dff5e42cb98c"
      },
      "source": [
        "# Remind ourselves of what X and y are\n",
        "X, y"
      ],
      "execution_count": 17,
      "outputs": [
        {
          "output_type": "execute_result",
          "data": {
            "text/plain": [
              "(<tf.Tensor: shape=(8,), dtype=float64, numpy=array([-7., -4., -1.,  2.,  5.,  8., 11., 14.])>,\n",
              " <tf.Tensor: shape=(8,), dtype=float64, numpy=array([ 3.,  6.,  9., 12., 15., 18., 21., 24.])>)"
            ]
          },
          "metadata": {
            "tags": []
          },
          "execution_count": 17
        }
      ]
    },
    {
      "cell_type": "code",
      "metadata": {
        "colab": {
          "base_uri": "https://localhost:8080/"
        },
        "id": "MqWQeVAU34gq",
        "outputId": "4f8ca7fc-f711-43fc-e757-991db5aee416"
      },
      "source": [
        "# Try and predict what y would be if X was 17.0\n",
        "model.predict([17.0]) # the right answer is 27.0 (y = X + 10)"
      ],
      "execution_count": 18,
      "outputs": [
        {
          "output_type": "execute_result",
          "data": {
            "text/plain": [
              "array([[31.941307]], dtype=float32)"
            ]
          },
          "metadata": {
            "tags": []
          },
          "execution_count": 18
        }
      ]
    },
    {
      "cell_type": "code",
      "metadata": {
        "colab": {
          "base_uri": "https://localhost:8080/"
        },
        "id": "Js0uOsEU3-Wb",
        "outputId": "c59f0301-59f3-4e5d-f78d-fecb4a85a7e9"
      },
      "source": [
        "#Let's see if we can make another to improve our model\n",
        "\n",
        "# 1- Create the model (this time with an extra hidden layer with 100 hidden units)\n",
        "\n",
        "model = tf.keras.Sequential ( [ tf.keras.layers.Dense (50, activation=None),\n",
        "\n",
        "tf.keras.layers. Dense (1)\n",
        "\n",
        "])\n",
        "\n",
        "# 2- Compile the model\n",
        "\n",
        "model.compile(loss=tf.keras.losses.mae,\n",
        "              optimizer=tf.keras.optimizers.Adam(learning_rate=0.01),\n",
        "              metrics=[\"mae\"])\n",
        "# 3- Fit the model model.f (X, Y, epochs=100)\n",
        "model.fit(X, y, epochs=100)\n"
      ],
      "execution_count": 19,
      "outputs": [
        {
          "output_type": "stream",
          "text": [
            "Epoch 1/100\n",
            "1/1 [==============================] - 0s 332ms/step - loss: 14.2261 - mae: 14.2261\n",
            "Epoch 2/100\n",
            "1/1 [==============================] - 0s 4ms/step - loss: 13.5328 - mae: 13.5328\n",
            "Epoch 3/100\n",
            "1/1 [==============================] - 0s 4ms/step - loss: 12.8450 - mae: 12.8450\n",
            "Epoch 4/100\n",
            "1/1 [==============================] - 0s 4ms/step - loss: 12.1611 - mae: 12.1611\n",
            "Epoch 5/100\n",
            "1/1 [==============================] - 0s 5ms/step - loss: 11.4786 - mae: 11.4786\n",
            "Epoch 6/100\n",
            "1/1 [==============================] - 0s 4ms/step - loss: 10.7953 - mae: 10.7953\n",
            "Epoch 7/100\n",
            "1/1 [==============================] - 0s 4ms/step - loss: 10.1084 - mae: 10.1084\n",
            "Epoch 8/100\n",
            "1/1 [==============================] - 0s 5ms/step - loss: 9.4153 - mae: 9.4153\n",
            "Epoch 9/100\n",
            "1/1 [==============================] - 0s 7ms/step - loss: 8.7133 - mae: 8.7133\n",
            "Epoch 10/100\n",
            "1/1 [==============================] - 0s 9ms/step - loss: 7.9998 - mae: 7.9998\n",
            "Epoch 11/100\n",
            "1/1 [==============================] - 0s 5ms/step - loss: 7.2724 - mae: 7.2724\n",
            "Epoch 12/100\n",
            "1/1 [==============================] - 0s 5ms/step - loss: 6.6391 - mae: 6.6391\n",
            "Epoch 13/100\n",
            "1/1 [==============================] - 0s 5ms/step - loss: 6.6431 - mae: 6.6431\n",
            "Epoch 14/100\n",
            "1/1 [==============================] - 0s 5ms/step - loss: 6.9208 - mae: 6.9208\n",
            "Epoch 15/100\n",
            "1/1 [==============================] - 0s 11ms/step - loss: 7.0980 - mae: 7.0980\n",
            "Epoch 16/100\n",
            "1/1 [==============================] - 0s 9ms/step - loss: 7.2570 - mae: 7.2570\n",
            "Epoch 17/100\n",
            "1/1 [==============================] - 0s 4ms/step - loss: 7.2611 - mae: 7.2611\n",
            "Epoch 18/100\n",
            "1/1 [==============================] - 0s 8ms/step - loss: 7.1037 - mae: 7.1037\n",
            "Epoch 19/100\n",
            "1/1 [==============================] - 0s 6ms/step - loss: 6.8542 - mae: 6.8542\n",
            "Epoch 20/100\n",
            "1/1 [==============================] - 0s 5ms/step - loss: 6.6416 - mae: 6.6416\n",
            "Epoch 21/100\n",
            "1/1 [==============================] - 0s 5ms/step - loss: 6.4073 - mae: 6.4073\n",
            "Epoch 22/100\n",
            "1/1 [==============================] - 0s 4ms/step - loss: 6.1556 - mae: 6.1556\n",
            "Epoch 23/100\n",
            "1/1 [==============================] - 0s 8ms/step - loss: 5.9512 - mae: 5.9512\n",
            "Epoch 24/100\n",
            "1/1 [==============================] - 0s 8ms/step - loss: 5.9037 - mae: 5.9037\n",
            "Epoch 25/100\n",
            "1/1 [==============================] - 0s 5ms/step - loss: 5.8553 - mae: 5.8553\n",
            "Epoch 26/100\n",
            "1/1 [==============================] - 0s 4ms/step - loss: 5.9016 - mae: 5.9016\n",
            "Epoch 27/100\n",
            "1/1 [==============================] - 0s 4ms/step - loss: 5.8472 - mae: 5.8472\n",
            "Epoch 28/100\n",
            "1/1 [==============================] - 0s 4ms/step - loss: 5.7049 - mae: 5.7049\n",
            "Epoch 29/100\n",
            "1/1 [==============================] - 0s 5ms/step - loss: 5.5259 - mae: 5.5259\n",
            "Epoch 30/100\n",
            "1/1 [==============================] - 0s 4ms/step - loss: 5.4255 - mae: 5.4255\n",
            "Epoch 31/100\n",
            "1/1 [==============================] - 0s 4ms/step - loss: 5.3213 - mae: 5.3213\n",
            "Epoch 32/100\n",
            "1/1 [==============================] - 0s 4ms/step - loss: 5.2131 - mae: 5.2131\n",
            "Epoch 33/100\n",
            "1/1 [==============================] - 0s 4ms/step - loss: 5.1472 - mae: 5.1472\n",
            "Epoch 34/100\n",
            "1/1 [==============================] - 0s 6ms/step - loss: 5.0909 - mae: 5.0909\n",
            "Epoch 35/100\n",
            "1/1 [==============================] - 0s 4ms/step - loss: 4.9926 - mae: 4.9926\n",
            "Epoch 36/100\n",
            "1/1 [==============================] - 0s 8ms/step - loss: 4.8552 - mae: 4.8552\n",
            "Epoch 37/100\n",
            "1/1 [==============================] - 0s 6ms/step - loss: 4.6821 - mae: 4.6821\n",
            "Epoch 38/100\n",
            "1/1 [==============================] - 0s 9ms/step - loss: 4.5740 - mae: 4.5740\n",
            "Epoch 39/100\n",
            "1/1 [==============================] - 0s 5ms/step - loss: 4.4584 - mae: 4.4584\n",
            "Epoch 40/100\n",
            "1/1 [==============================] - 0s 4ms/step - loss: 4.3351 - mae: 4.3351\n",
            "Epoch 41/100\n",
            "1/1 [==============================] - 0s 5ms/step - loss: 4.2039 - mae: 4.2039\n",
            "Epoch 42/100\n",
            "1/1 [==============================] - 0s 5ms/step - loss: 4.0647 - mae: 4.0647\n",
            "Epoch 43/100\n",
            "1/1 [==============================] - 0s 5ms/step - loss: 3.9171 - mae: 3.9171\n",
            "Epoch 44/100\n",
            "1/1 [==============================] - 0s 5ms/step - loss: 3.7610 - mae: 3.7610\n",
            "Epoch 45/100\n",
            "1/1 [==============================] - 0s 7ms/step - loss: 3.5961 - mae: 3.5961\n",
            "Epoch 46/100\n",
            "1/1 [==============================] - 0s 5ms/step - loss: 3.4221 - mae: 3.4221\n",
            "Epoch 47/100\n",
            "1/1 [==============================] - 0s 5ms/step - loss: 3.2387 - mae: 3.2387\n",
            "Epoch 48/100\n",
            "1/1 [==============================] - 0s 5ms/step - loss: 3.0457 - mae: 3.0457\n",
            "Epoch 49/100\n",
            "1/1 [==============================] - 0s 7ms/step - loss: 2.8428 - mae: 2.8428\n",
            "Epoch 50/100\n",
            "1/1 [==============================] - 0s 13ms/step - loss: 2.6857 - mae: 2.6857\n",
            "Epoch 51/100\n",
            "1/1 [==============================] - 0s 7ms/step - loss: 2.4548 - mae: 2.4548\n",
            "Epoch 52/100\n",
            "1/1 [==============================] - 0s 5ms/step - loss: 2.2068 - mae: 2.2068\n",
            "Epoch 53/100\n",
            "1/1 [==============================] - 0s 6ms/step - loss: 1.9829 - mae: 1.9829\n",
            "Epoch 54/100\n",
            "1/1 [==============================] - 0s 6ms/step - loss: 1.8204 - mae: 1.8204\n",
            "Epoch 55/100\n",
            "1/1 [==============================] - 0s 7ms/step - loss: 1.4857 - mae: 1.4857\n",
            "Epoch 56/100\n",
            "1/1 [==============================] - 0s 5ms/step - loss: 1.2132 - mae: 1.2132\n",
            "Epoch 57/100\n",
            "1/1 [==============================] - 0s 5ms/step - loss: 0.9993 - mae: 0.9993\n",
            "Epoch 58/100\n",
            "1/1 [==============================] - 0s 7ms/step - loss: 0.7101 - mae: 0.7101\n",
            "Epoch 59/100\n",
            "1/1 [==============================] - 0s 7ms/step - loss: 0.3594 - mae: 0.3594\n",
            "Epoch 60/100\n",
            "1/1 [==============================] - 0s 9ms/step - loss: 0.1118 - mae: 0.1118\n",
            "Epoch 61/100\n",
            "1/1 [==============================] - 0s 6ms/step - loss: 0.3994 - mae: 0.3994\n",
            "Epoch 62/100\n",
            "1/1 [==============================] - 0s 4ms/step - loss: 0.5249 - mae: 0.5249\n",
            "Epoch 63/100\n",
            "1/1 [==============================] - 0s 4ms/step - loss: 0.8002 - mae: 0.8002\n",
            "Epoch 64/100\n",
            "1/1 [==============================] - 0s 4ms/step - loss: 0.9110 - mae: 0.9110\n",
            "Epoch 65/100\n",
            "1/1 [==============================] - 0s 4ms/step - loss: 0.8892 - mae: 0.8892\n",
            "Epoch 66/100\n",
            "1/1 [==============================] - 0s 4ms/step - loss: 0.9457 - mae: 0.9457\n",
            "Epoch 67/100\n",
            "1/1 [==============================] - 0s 6ms/step - loss: 0.8913 - mae: 0.8913\n",
            "Epoch 68/100\n",
            "1/1 [==============================] - 0s 6ms/step - loss: 0.8768 - mae: 0.8768\n",
            "Epoch 69/100\n",
            "1/1 [==============================] - 0s 4ms/step - loss: 0.7506 - mae: 0.7506\n",
            "Epoch 70/100\n",
            "1/1 [==============================] - 0s 6ms/step - loss: 0.6897 - mae: 0.6897\n",
            "Epoch 71/100\n",
            "1/1 [==============================] - 0s 6ms/step - loss: 0.5674 - mae: 0.5674\n",
            "Epoch 72/100\n",
            "1/1 [==============================] - 0s 5ms/step - loss: 0.3382 - mae: 0.3382\n",
            "Epoch 73/100\n",
            "1/1 [==============================] - 0s 7ms/step - loss: 0.1770 - mae: 0.1770\n",
            "Epoch 74/100\n",
            "1/1 [==============================] - 0s 6ms/step - loss: 0.1846 - mae: 0.1846\n",
            "Epoch 75/100\n",
            "1/1 [==============================] - 0s 5ms/step - loss: 0.2042 - mae: 0.2042\n",
            "Epoch 76/100\n",
            "1/1 [==============================] - 0s 6ms/step - loss: 0.4884 - mae: 0.4884\n",
            "Epoch 77/100\n",
            "1/1 [==============================] - 0s 4ms/step - loss: 0.5454 - mae: 0.5454\n",
            "Epoch 78/100\n",
            "1/1 [==============================] - 0s 6ms/step - loss: 0.4443 - mae: 0.4443\n",
            "Epoch 79/100\n",
            "1/1 [==============================] - 0s 7ms/step - loss: 0.5707 - mae: 0.5707\n",
            "Epoch 80/100\n",
            "1/1 [==============================] - 0s 5ms/step - loss: 0.6051 - mae: 0.6051\n",
            "Epoch 81/100\n",
            "1/1 [==============================] - 0s 8ms/step - loss: 0.4780 - mae: 0.4780\n",
            "Epoch 82/100\n",
            "1/1 [==============================] - 0s 7ms/step - loss: 0.3399 - mae: 0.3399\n",
            "Epoch 83/100\n",
            "1/1 [==============================] - 0s 7ms/step - loss: 0.3067 - mae: 0.3067\n",
            "Epoch 84/100\n",
            "1/1 [==============================] - 0s 6ms/step - loss: 0.1018 - mae: 0.1018\n",
            "Epoch 85/100\n",
            "1/1 [==============================] - 0s 6ms/step - loss: 0.2650 - mae: 0.2650\n",
            "Epoch 86/100\n",
            "1/1 [==============================] - 0s 7ms/step - loss: 0.2374 - mae: 0.2374\n",
            "Epoch 87/100\n",
            "1/1 [==============================] - 0s 7ms/step - loss: 0.3402 - mae: 0.3402\n",
            "Epoch 88/100\n",
            "1/1 [==============================] - 0s 5ms/step - loss: 0.4551 - mae: 0.4551\n",
            "Epoch 89/100\n",
            "1/1 [==============================] - 0s 7ms/step - loss: 0.3949 - mae: 0.3949\n",
            "Epoch 90/100\n",
            "1/1 [==============================] - 0s 5ms/step - loss: 0.2212 - mae: 0.2212\n",
            "Epoch 91/100\n",
            "1/1 [==============================] - 0s 22ms/step - loss: 0.2634 - mae: 0.2634\n",
            "Epoch 92/100\n",
            "1/1 [==============================] - 0s 5ms/step - loss: 0.0835 - mae: 0.0835\n",
            "Epoch 93/100\n",
            "1/1 [==============================] - 0s 4ms/step - loss: 0.2379 - mae: 0.2379\n",
            "Epoch 94/100\n",
            "1/1 [==============================] - 0s 4ms/step - loss: 0.1928 - mae: 0.1928\n",
            "Epoch 95/100\n",
            "1/1 [==============================] - 0s 5ms/step - loss: 0.2699 - mae: 0.2699\n",
            "Epoch 96/100\n",
            "1/1 [==============================] - 0s 5ms/step - loss: 0.3601 - mae: 0.3601\n",
            "Epoch 97/100\n",
            "1/1 [==============================] - 0s 7ms/step - loss: 0.2943 - mae: 0.2943\n",
            "Epoch 98/100\n",
            "1/1 [==============================] - 0s 7ms/step - loss: 0.1065 - mae: 0.1065\n",
            "Epoch 99/100\n",
            "1/1 [==============================] - 0s 7ms/step - loss: 0.1595 - mae: 0.1595\n",
            "Epoch 100/100\n",
            "1/1 [==============================] - 0s 6ms/step - loss: 0.0556 - mae: 0.0556\n"
          ],
          "name": "stdout"
        },
        {
          "output_type": "execute_result",
          "data": {
            "text/plain": [
              "<tensorflow.python.keras.callbacks.History at 0x7fb8ede74c90>"
            ]
          },
          "metadata": {
            "tags": []
          },
          "execution_count": 19
        }
      ]
    },
    {
      "cell_type": "code",
      "metadata": {
        "colab": {
          "base_uri": "https://localhost:8080/"
        },
        "id": "NERbsj2C7gXk",
        "outputId": "07335fc4-51f3-4160-ae98-5214e4267436"
      },
      "source": [
        "# Remind ourselves of what X and y are\n",
        "X, y"
      ],
      "execution_count": 20,
      "outputs": [
        {
          "output_type": "execute_result",
          "data": {
            "text/plain": [
              "(<tf.Tensor: shape=(8,), dtype=float64, numpy=array([-7., -4., -1.,  2.,  5.,  8., 11., 14.])>,\n",
              " <tf.Tensor: shape=(8,), dtype=float64, numpy=array([ 3.,  6.,  9., 12., 15., 18., 21., 24.])>)"
            ]
          },
          "metadata": {
            "tags": []
          },
          "execution_count": 20
        }
      ]
    },
    {
      "cell_type": "code",
      "metadata": {
        "colab": {
          "base_uri": "https://localhost:8080/"
        },
        "id": "tPCPQOKy7kOn",
        "outputId": "f5edb43a-33f1-4b7d-a69e-f7753ffbdcbe"
      },
      "source": [
        "# Try and predict what y would be if X was 17.0\n",
        "model.predict([17.0]) # the right answer is 27.0 (y = X + 10)"
      ],
      "execution_count": 21,
      "outputs": [
        {
          "output_type": "execute_result",
          "data": {
            "text/plain": [
              "array([[27.13847]], dtype=float32)"
            ]
          },
          "metadata": {
            "tags": []
          },
          "execution_count": 21
        }
      ]
    },
    {
      "cell_type": "markdown",
      "metadata": {
        "id": "wzJ2h7Le_xq_"
      },
      "source": [
        "# It's Working Now :D\n",
        "\n",
        "![21d70j.jpg](data:image/jpeg;base64,/9j/4AAQSkZJRgABAQAAAQABAAD/2wCEAAMCAgICAgMCAgIDAwMDBAYEBAQEBAgGBgUGCQgKCgkICQkKDA8MCgsOCwkJDRENDg8QEBEQCgwSExIQEw8QEBABAwMDBAMECAQECBALCQsQEBAQEBAQEBAQEBAQEBAQEBAQEBAQEBAQEBAQEBAQEBAQEBAQEBAQEBAQEBAQEBAQEP/CABEIAbgCDgMBIgACEQEDEQH/xAA3AAAABwEBAQEAAAAAAAAAAAAAAgMEBQYHCAkKAQEAAQUBAQAAAAAAAAAAAAAAAgABAwQFBgf/2gAMAwEAAhADEAAAAMHOqrp4TVGQCTKIsVpGXCfz6CzVtD5/G/qP2KzfPpZ/eHxxePHC+5H4MniTWds9nyH5+kPRXsFl4ZuO9LSL+a0365edphizr2fmAPxRrPY3XZj5IWTrTmaSGhG9xU4LPi1BaJ6OnF5TNPcLmdj8v33ppj7Lhmze8fgyULKA7j7NYvHB73H2kxeHNn9d/FOSC5V25+zbH4YSXtl5OieEJe8EoxeEzb1Xwlx4IcfQfwex+c0b6f8Abrj8/sV0L7GpfPM5+hXE2Lx8cws7ZpEABxFBijJNBuc41TpBErESQZ+ie3+MO0c/Y8Sfoc+fz6AyDwY7F9DPOkD6Km4TyuS7Y9G/Aj33S486KmYZi4t7n4Y9BEsS4z9OfMlL094D784DS1GwQ8wlyxWLjX2bujNdKzR3wv0f89PQtLzN6oy+ypcWemviD9CArnLxH9CvOoC9Au4+FO65BqdK86PbF1wD53+zPiFHJ3J6oeS/rGUfC9U2/nQm9LuROu3KeZ84+kudU3RfiZ9JPnUQdGa6hgAyYhzJ3dxHLX9svni+h3wBFnTwitvPKAqTtzgCzo7Q8kbsIgZThJUH6i7T4x7Rqani39A/z+/QEQeDHX/pJ5LCfZc9qxBPhT0c8Uva124E7C5B7BZ+K93wuoJvTbzJ9IfIxL2I4G6ks6fB57lHrRNh6XenmYL9r5tu/wCkuGPRfxn9BkPOHodQ7Ui+c/6LPm7+kQH8ZeROtedYJ++u7eJu3bEPNNRj/QZ2u3zv+6fghHL1F61eBXv6Ycbx3UnLxB2Pxz2Txyl3X5uek3m8l0h4m/SbmTjpufaH5uMXU/ln7W+Ixxe6nz//AEAeBBA5WCsmaQrgk5NyrrFFGHhHoyyCzF2JA5DpV2Muh0cZXLiRNTrDJkQwpLAGdpWbYZ2q7e3fietqWYiapzMmBUEaZEjtoKxkjGpWF+eN4M0+R3Vg500iq9C0ihUNSVz+1xNS3ZNSh9Fx+hqUfq6UVqrw15Kiz5/b4eIsHp+94Ps4MLs+OdLavP0k1xFjPpTi1HSop7oHakvrQGemS8+JWotrfhMADxsAZKZjmCsL0gzsluKT0PqH0Ozb/jE+9kBUs+O6vsKE/j5nXuHBnB4epeivBV+hX0jkmcAEkY4IUSVOiUGVIATnOiWEVTohiAOlMjHS2KF8nZesPBdC7xe3PHjqWBo1ttSzsdwrkxj9JMJIrPYaN3BIXSj5VkYwWabHVL2BRL9EyG9yxwQtqkY7cODgJBJwiUMSoSDiqQoSVAIxLAGQXDqCidw1p/GQixNSroev89TFQtjaZOK02l1+tOijbxU6W5XqMLdc6mISWMaKFy0KwjgWkzx5iZ2q1FcXQamd3AbnmdwEiQxuAQTEcxSVx13KkskraUUVoKevYtApWx0LUrYIqazttZ7nlPt1tzj8iuSCWhFa1NC7kM3sVnIfPapdr+TGAC5UIVUOJAUxmqkdJJw0cJHHGBxHwkcx5MiJYIe2hFBJaK6hPGCKn16cxfahrUD1ppa2krQRLGHeuCykeOkZTuGLssd0rPdQj0kQ7IomplkWJwtGCMpM0UeEJUMg8j08eq7O1Wh2dwRI7RuMP2rB4dOPd36Hpa07vvM+t51u1JRMjHI3p99bzVa5cCuq2hFQ+l0kyr8nZXb0qp2rllT1MP0h8oJaqT55CqkvRJG/Q7mKY8iJ+/i0IkBwzGWRO4q9q8VFiP2hfeJozrkeFS9DkWXc8Z3uZQTexR6aPLKhxjEphJ1ScK6FwKJsc07N9Vj0G6T0Ku0SelUjEr0II1pMNANkHaImRZuRppCPDusbR6srKKtVtRaN+9QtyS5/u+d+gMn02XLlkZA9PRegrSQHdfM3UkwkRxDYgnsVMXcroffuKrnd5nqRbkxhJS0Tku/023Wj0lSWoQUwmI5AcQbkSZM8k+jJt1p/pV5x23Pn9DXfnuK1vlUKk6jBufQvM+piN7j6fApacbKrKatyLhqAV/BN7wdyxzVct1CG4qRIHCcGAmCuDPC1aSDdTMkXpUbIPSA8aZ3FCcqKe4imtD2r+nNc+GbX1HypzndVlK60+MrA7jJCKxIPoeQCw0rlrPMOZG0ivy14qVj3BVen+w+MuuL/ACzpkomUEPkW3MxDyq/exOS9GjHmsz03p5LwdpKOL2qgz9xdZCeHoDRZqUyrlfVsBIpvLorgdTg1/Ed7zzE6ilPbg4xN+m9K41sGpi7a3CXQ8nGYftuLkeJarluqwXDkVOwsg4VRMg4MMbdJ2inKESpnBAGjJHybSU4JwdUZj+qvlZZa790eUe24ln626zGL9B5fTQ0tGSdZ1ZCMdwXhGN6bZr3WPdqzS55bkXarN4TTpXS5PHyXitXM9ud0lJG72XBHbD6727j/ALNrVP1VQRTN2rpvC1a8y+//ADNvgyuFR2O8NXqW25eapRgeaNpGysZxPo7t20d8h24kI9x1XGbakil3fm7fH9Yywgw3Wsn1itcOFSuSKwAsADROkRYkybg4hcgOqRR4dkOvX3BFiRuzuNNFiXfGP41NwvxF1FYNVq9Bz03ttXxd58q0ZQzybcyyvEEPHznINGrpqfVWjczrdB59K89ahh8kNlVy92rminokgo9G9LfKy8S5vrgbzaloqnoGx4Fj0ei8lXKvy3Kv0xhu4XI53GtizURywixJElAz1f4r0KQcR7jj+7dHaDpeM2sNTeheZpZtoefiGD63kmt19BwRYyewT1WsZ0M/vdPlq+v+QVgrUcMlFWNiIFj7bV0bIyxrsNXcFcIhpGeaxXklZbMdQuVthmnqw1EeX+u2+Zo8SNdIznn+zSmIIzSTysU0V5WvrI2aejWXm/aOk4m28+9BYbNFnkPGUejqdAWuharLQmrzXLnaqTs7HyxpKGnolKpVq5QEbU7Tc9ucg2PIdLyMDgzHI7N6raqlx3fvVol9x/bKqtSdPye4JNx33mxqPcKeIYPr2Q69XuugcOntmrNjLPqU1X7NU2GkVJRsKmI+QaHWm6ja64c0e4PN2qeeOLRXAsvuiOWbwd/WLNSZvo+Quusc1ahQWquEj5sYxfcG9TT4soXfWT5m7x+3vE3T26/rd9ZbGDiNgmIfTzpPItQEbYJet5b52thMhscZLTirxQpp5dYiq+cobBVLrms8IhzR9ys3sFamBeTyjR6GxxqxDtCxpV1ovId8qqwX5XullSJdDym2lRP23m5K1OwUgYPreQ63BckAcjA7sVdmpKFXsdcmKW2Voq1UUqRvLSRuGmwPblalXCEa7GcMM22Pa9yq3Dfk/UOmL1zl0X1nmbhs+b2sjTdj5E0XMW7HRGbGWMlY+Gbm1vUqNzfZdYN8P2vquezmkaLE3RYXLnXWMrauBmi1aZVq4rMSZNLHUihsErT6/LHrtVwnQJ4rg3hWlypOydSnXCYyLTakLAgOTtM00vL+Q7hV3HyHK9ycNyb/ADO4ESHb+YiHlYoywfWMi1qC/JqpBmevoQiqCx1KuPa0CTadJzQVGzO4zRymkPJsdCtD/rpwYR51SQWebc63jBuW9UV7b4f640cKzEIXb4N1BTYMbrtXJGpZU2zc2dF8Q50uT6w+zrmOyX6OxewdBg3KHsFV28pHmfqjH6HVXDSONekq09zr8xFV88knl96hmo8Vnkaj0WuV+PmWwQ+fspq171DBNzmrTUU4h3qHIRJ5RlmoZbzHZmWYuOT7NYES2+e3IreP7LzqVjKVYJDxrVcs0YLkxD0mrutoayqow1dbbdjuVgRWNv5Rmob2oACCYSNW5CJ23DSGaic5dK8z836AOhudNdG5vCwJ03mR3Ue7N27eQbxQWDGtFpVKVvK0qS4zrRLUHU5lZYVo77DknEY4cKfkq5FpOF6N1weCktrgsytFUp/P9BG1aKsyNEWYhxVVtbmJpluuFbmdKQhZqBKlD5reMBqbWwR+SiC5sExiO7AZCTB7Wa3wXSs8RNbFDpVb+tzT7QrWbkR9qk5q2KbxZrxfzmJ0oS9ScNyC1WSjwlYIzg9ZNmUnX5hG7j5KHiCu8z9Ucr873Y0LOp3L6Tr4wP2Pkse7j3sZKpOAcDSKlY+CWlXClXLgOtrVcKrl7einrk96V58Z83Jdiz/DOwOT8fsdG1jnneLGbXeYeuOO6dmE1rP7XQtWI8U6s1lmLtibMtzwTeAryELMQMlOMa2NWG3li2pODDKrBcwY1Y9oCjrrqbOFnP0dAxontdX1W4RFkXYD17ZoOIePb7Wa7SIJGEFUZOxXlVmh0TGuMJCQTScZJwlINHbQhj+TezeN+e7RuqUmL3Harhk76/yBodWMOtJnbgk4j3rKI6e9o+t+a9xV6PcoDJ2GmhUW0djyVgID9bzZqPa5ODQ5H6KwrU6nRzuP6hT73Oc3w0kOY6lpaoeTcLqybizVNv3O+8FXsEC7ppVLUrX3Eqm1YqQjYEk48zdqtHDxA7c6ImCbxnSm2DoNu3vZziJOS/QORqrOLiuS1PYWLiNVtPIV+Vq8LHtFatRE1VVLDLIOGjg6w5K6t5sxevp5VSc76L1hY6Tdut8iEbJRkmdJsnCKkcJH/GZDNNIp/l3fSFHvdXzdOBWkBs596kIWV9H4EhXUe4Zu30bJM3rLhKwti1OZpUhe1ec16ULn+SPShdQLZPWugAMnPSu9kTQj5Fa5WIcioietWCviTFwyO8i/60m5mcdBLNLNAMjDRopJPW5gyIcjpKmWukysyVKqYiqzVfikupzwKUg7h5YBkgqymF9gm9Y/k9DjoA5b1LorS8k1vqfLSNXTW5kKnbmrJJwycOqPJFJ5/wB1mlwnoHntKEcmWnVgsGaXv0rgZWPVa6dCQxTXcqp687PVmWt5dyBTYuuA3EZuCohJYEIkP0gSjlkiWoVTkOkevztfiUOGkgTyHSbcXKbhu3ZaNJ6Gi0kTggBu0bvoyNR9PtFPdiLN3EsdEvtaeqcs01kBhNIRVgYXbd60UkPR9AqUOhzeQpuK9f2PdebeiOg89cNHCWnzCKzdFJYMTgUOJuqcf01XVtsVyPVMhWnCUxZYV723HWhi4jeo5x1TbFT6uiJitSs0V7VbnyNE4MIDABzSRgdJIipEo0EE8Lg6QNGhZqEheodK5zuduBJkGmnmhk4RsxlMkQhdnYnE3EYdpNEypiStaUAtflF7YCRqUxGR9rdnVmaO6ziMk2Ms4gp0oFxSsunxPsVi6l46691uPcLQj3oOGCQJEYSO3SkM0vFc53Wd02yzHnvdwKUZDyK/R9ckukwbmVpIdzxsJQpipZu1OycI90a+irMnuRKDkPVmIAUkuUhHTgoIk0WRE8Jzog0sitpDBYkiDeyDhb8kFuk7E8cIynTioE6rJM7hpGkxHRbrml4p3KvPWCr07MTLU/VbdN3JAX6dgDVxWkBADTQBJGbS+R43zL03tTE+edouU7c9I37/AIBukckIkaqtwkGeaBFZtuMfU+web+iR79gSNSDepafoU42brNm9N4Sk5LuWO1Ne6xk9Ub1DYJupWjKmMsiK0xwkik7DQqTpu3apODHSkrKnRCN9tGWaHeqPWUPVNPPubSruLISreuhKwOqw3kHSiUBuDy+dR0dWs2WxRpsXRk60/hq09D0DMnk0vR7ih3Pd58shGFMLA3TiwU60YoosTyrYca5D0381DMLKNjq8kA/6jzFw3bFmByjHN6zykJN0ehdZXKSrvnPdshJV0CvGKXB0Zfs7n8t6HxFgxXYMpks3J8KZi9Jod1wrbYYTkSJp884IkHQIcJN0nASBDozwuDtzoZK0Ue93KzSzN6/qZ5mTs00UelZVkOT+lnmn7i8v13j13TnXdmTqeMXbVZ3pPzJmfZOHs+tcS+vvmKl0nnPcvgw7djZP2XNO0Dwp67eSN/ON31xF6/BJ5tdA+afs7Ut4Z5DeifmGGn35B6PoLVXXOPqvxEUM/wAl+vXD7tf5rRsVEvNn0fxH0FOPnXlrdesoZvNazz3RrLHOUfYfyIT9tT+v8EmOQW09Et5d9JV3YC0omjCO3j824r9e/KkObVwig6JRlBglHgprUIcNxEK0rFMZ20OQPGbGXIVx3JuqvITDRRUb108q/QrB6Oxba0wXF3JKidOcQO25dCc/ZSy7d8xfTrzFT+m/n73787Sb126x5M1VPqHj/wCynjZo5sx69+QHr+J+AXt74fe4IPwB55+hHDRX+xO7PM72ToTO8OjNxeCe85vRjyfdvRHGNnxhnyHvXgjvdNF4HQ+wE/EfoJ579nMqT4s/Qd4ZQy+xtV5s3+eLzkvu44HcyDonZTwqwjiPYcvh5Npzva6HIMnuvzDcKlt0wQ5mihQ2NNI5OtHiS7cM0ET0rxZtGrW1uv2V9p4dHFlghNl13x8yzNX2o8v6BRMrZ9uvMqj0ch9HsL5VhYZPb/zGyqssXtjxzwp+VbHfmL8nwTr3u8UJ2pauZffYLw01Ew569v8AyCuwFpXFm1Z0VhL3w+bLcsLqe0u0vDLc7GL6x+O9pqN3M9nad5eSNezLepfh/qUsHR3cniDouZo9E6p5uT1W37QebPPWcmPv1knj/wBFTRa9idPuuhit27uPmqMmOevQVUaWOK5zvbhOx77e5YhDksUzgh0mMoAp2rsCEqNdADix6ggSW+oNCA6Png+A0clFqAwkcAO6VZAiNJUCCSwV0AZs0AHObMgAIzGigatCr2gDYyDqgDJG58BVvYEkBxvsUh16Bq8NXEAOj4iaKBWIiQDS1esgcV1VhgQOb6KqVgCcprpMDVyrUAN3m29YAJUGKAG1GWMDF6O1ADd5hYAKJE4Cl//EAFEQAAEDAgIECAcMBgkFAQEBAAEAAgMEEQUSEBMhMQYUIjJBUWFxIDM1UnORsRUjMDRCU1RygbLB0RY2Q2KCoSRARFVjkpOioyV0wuHwZCbx/9oACAEBAAE/A/A2p8rY+cuPQ9q49D2oVsJ6Vx6HtXHYD1oSMy577E2V0viIJJbea26dM6I2nhkiv5zbIyMDc19i47B2rjcHWUKyA9aNXC3rTKqF+4o1cA2bUyWOTmozszZGBz3dTQnOljGaWjmY3rcwpssbxcFOrIW9aZUxSGzUSBtKbNrCWwQvlP7rbp0rovHwSRX85tk1wcLgp87GG289QR4wBmNDUAderKZURv3FOrIW9aFTEdt1x2HtTJGybWqSojj2OQq4idl06ojYLkocZcMzaGoI69WUKhpdkddruo6CbbSUJtY7LDE+Q9TBdPkkh8fTyx/WbZa1uXNdGthHWuPQ9qZURv5pT6mNmwrj0PamVUTzsTqqNmwlcdh7UKiMi91x2HtXHYe1CrhPWg6+1X+Cwy/u5R/xfdOnhGfJ9vpsenCcNGJ4tUio2wwSFzh1m+wJ7qagpy92WKGIdA2BNNNX04cMssMo6RsIWK4eMLxenZB4mV7XNHVt3aKH9bcQ9EP/ABVd8Sn9E72LgWf+nzem/ALhbTa3DOMN51O7N9m5YEb4PSn/AA1j8ctRwh4rEdsoY0Khw+lw6ERU8dut3S7vUFXTVZkbBKH6p2R/YVwowqKmj90qRgZttK0bu9cHzfBqX6v4rheeVQ/Wf+Cw6i91MRbSvJ1TBnk7kG01DTnK1sUUYubbgFHJTV9MJGZZYZB0jYVwgoW4RV3p9kM4JaOo9KwbB4MOga4sDqhwu9/4IVlM6qdRCUa9rc5Z2LhBg0FVSyVcTA2oibmuPldhXBSr4zhQY48qBxZ9nQuFFJr8Sw7k+OdqnesfmUSALncE6qNVUT1bj4x5I7uhcEHZqmu/g/FY15Jq/ROXBXDIBRtxGVgdLITlJ+SFLWU0E0VPLKGyTcxvWsRwymxKExzRjPbkv6WlU7yWWdvGwqjoziWIx0ZdZnOf3KGCnoodXDG2ONg6FBUUuIU+thc2WJ+zcuE2Fx4bI2elGWKfYW+a5UXxOD0bfYjNBreLukZrCM2S+2yxvB6espJJY4mtqI25muA39i4FuLoqq/nt0cMPJ0NvpA+65cEWFuGOkP7SZx/DRwxY5uIsf0PhHtOnGvJNXb5pyh8W26srKw8G6vokjZJzlwPYGVVaG9TfxWNeSav0LvYqOJjamicN5mZ7dGNaj3cq9bfnD2LgaG5awt89v4rhP5Dqf4fvBcHvI1L9T8VwrH9Mws/4p9rdFJRVUfCOsrXxWhkjAa6+/mqu+JVHonexcCvJ83pvwCqYG1NPJTv3SNLSsDY6LCqeJ45TAWn1qp/XSHuH3To4LeOxP/uPzXCjyHU/wfeC4O+RaX6v4rhocvEiOt/4LgcS+sq3nfkasY8lVnoH+xcF/IVN/H98rhiwO4jf5wj2aOM09JwvqpamZsbdUBd3c1SY3g743N90Ido61wMqNVWy0p3TMzDvCq6bX1FHJ8zKXf7T+NlwhquK4TO4c541Y+1NDw0ArgX46t7mfisb8kVfonLg29r8FprdAI/mscoal1VSYpSxa40p5UYO0jsX6atDi12GPBG/3z/0td74+UNtmcXWXBR+txmR1v7Ofa1VnxSf0bvYuDWJ4fSYUyKorI2PzO2ErhViFBW0EbaWqjkc2W9geixVD8Sp/RN9irWudwtoS0Hkwm/+5SkCJ5PUVwI8RVfWauE3kOp7m/eCbxcR8m+ay4ORarBqYdYLvWVHNnqpofm2s/ndcMYvic3QHOYVgkTY8epMv733ToMLHVM5Pzrvam7rD4Tgl8cru5v4rGfJNX6F3sVN46g9Mz26NbFfLrG371wJ8RVfXauE3kOp/h+8FFiWJwwsjgq52saNgDU6rrKqopONzySZZRlzjtGhtRA6V1O2eMyt2uYHcofYq74lUeid7FwK8nzem/AK4vlvtQAbuCqP11h+r/4HRwW8dif/AHH5rhP5Dqf4fvBcHfItL9X8VwxY6R1CxguS5/4LgjG+KsrGSNynK1Yx5KrPQv8AYuC/kKm/j++Vwu3UPptHuTh+I4rXvrKfWFjowOUR8gdSfwYwNrCeI7h84/8ANYdIKKppa2/Nfyu7p0cMKm8lNRDo99d7B+Ke/tXAnxtZ3M/FY35Iq/ROWBY+/CHGKRuenebkdIPWFSVlNXRCellD29ixrAafE4zIwBlSByX9fYVZ21rhYt2ELgd5Wl/7c/eaq34lP6J3sVHwbwWWjglko7ufG1x98dvt3rhPg+HYdQslo6fVudKGk5idlj1qh+JU/om+xGrp21LaN0oEzm5gzrCx+PEpKGXiUrA3Ly25eUR02K4FeKqvrNRc1ou4gDtXDKRrqGDI8H33oPYqCLUUNPD5kTW/yWHzZ8fxRl+iK32BcLos+Faz5qVrvw/FYN5doz2O+6dH7eo9K72qysradiurq6vp4JfG63ub+KxnyTV+hd7FS+PofTM9ujGjCMcq9Z5w9i4GOaRWNb5zT7Vwn8h1P8P3guD/AJGpfqLhWf6Zhbf8Q+1uig/W7EPRD/xVd8SqPRO9i4FeT5vTfgFW1XF8Zw9hOydssf3dFR+uUJ7B93RwX8diX/cfmuE/kSo/g+8Fwe8jUv1fxXCSeOmq8Nml5rXuJ/ksEqYqrGa2WE8l7AQsY8lVnoX+xcF/IVN/H94rhg4DiN/nCfZoi/XWb0f/AIBS+Ld3L+yb+ncqXbTQk+Y32LhS4jGpNvyG+xXv8lcCfG1ncz8Vjfkir9E5cHsLw6pweCWejie85ruLdvOKxQMwfFsP9zo2wiZ2WQN3OFxoxP3vFaxo3a53tXA4/wDV5fQH2tVZ8Un9G72LgZ5Jd6Z3sC4a+TIvTj7pVD8Sp/RN9ir/ANbsP9Cf/JP5ju5cCPEVX1mrhL5Eqe5v3go2wzOigZe73BuiLD6SCpkrIorTTc92Y7Vj0Wuweqb1R5vVtWAm+NUXc77p0ft6j0rvah8FdXXBIf0utPYz8VjPkqr9C72KlHv9D6Znt0WVJiTcM4Q1uv2QzSFrj1bdhThTV1OWnJNDIOu4KvS0FOASyGGMWFzYBYniPuri9PJCDqY5GtZfp279FD+tuIeiH/iq74lUeid7FwL8nzem/ALhjI+GfD52c6MucPsyqKRs0TJmc14Dgsfllpsf4zENsYY4LD8SpMSiElPIL/KZ8pqhpqal1joY2s1js7+0rhFi1PVN9z6aUOaOVI4bu5YB5Hpvq/joxDEPczhNxh497MQa+3UmSUtfTnVvZNFILG3SmiloKcNGSGGMddgFjWIxYtVe9gmGFpaw9Z61g2Lw4jTtaXgVDRZ7Dv71OygpHvxOZrGPDbOkPUtY2an1sZu17MwQPvOUfaqX4rD9RvsXClpONyWHyG+xCneVwNYWz1t+pn4rGtuE1fonLgti0EEHudVvEZveMncb9Cmo6Wpkimmha90RuwnoVdiNJh0RkqZQOpvS5TCSoklqiNsri/1rCMQ9zMRZUuuW8147FDPT1kOsgkbJG7qUTsPw58WGw5I3SXyRj1rhp5Mi9OPulUXxOD0bfYq/9bcP9Ef/ACT+ae5cCR7xVfWborodcyJlv20bvUb6MLramXhPVwuqJTEM4DC45RY9Smj10L4j8tpauDoPuzR3G7P906LWqKi/zrvb8K+COTnIUkQ60Y2ublK4nD2ricPahCwDLZNh1ZvDK9n1TZGLOc0sj3n943RjaW5VxOHtXFYUKSEbdqNLE7oKbTxN3LikJ60yJkfNRgYTmF2nrCcySQZZaiV46nOTWMaLAI0kTlxOHtTYWM3BCENdmie5h/dNk6LWG80sklvON0LNFgE6Frjm6exSRGXxsz328511xeMdN0G5Y+janRttcKnjDRfpKYFJSRybXBNoIAelOgieLFqbTuYLRVMrB1ByFJGDmN3HtTmKoh+UAg98JvFK5l/NNk33yXlkknpKFNGOhGkiPQVxWPqXFIt+1GljK4nF2ricXauJxdq4vGRay4nEjA0jKuJxdqazILDwisyDvhtvgW+Fkt0uVw4p7878g3IbUwJgtpI0lPCmbZQi8re9H4a2iyA8CNkj3ZWNLj1BcVqvo0nqQoK07qWT1L3NxA/2OT1L3KxH6I9e5OJfRHL3JxH6K5SRSxG0kbm94+Bv8LM7JH9ZF6bm53QiBG3fdzlFtemBBX020FWup4+V9ipqbJ747+pU1PLUvEcW8pvBqfpqW+rTwXaM8x6beHIIXD3zKR2quw3DXAuZZjv3VNHq3WvdXH9Rw2GlnmyVRsE3AcL+Zv8AauENGykqGtjFmObcIo3+Uib9igZbambvAtosraKkWa1x61EeX2OFj/UsIq4KSozS7Nm9DF8OP9pGmjqZ6V+eB+Uo4ziP0gepHFsR+lFHE8QP9tcvdCtP9sen1lZ9Kk9aNTVH9vJ61rJz+1d60Xv88rWda1zFdXV1dX+FpsUrqXxc129RWI4lNXTZ5iOTyRboRN1sTAExDQBo2LOwfKC18Y+Wtey3WuMBawTMLXMv2JrWn9lqzdH4LOFrmLXNWvatcCsyYLo7T4EayArVrVoR2VlZZU8bEV+0Tdyur/1B55Z81F10EwXUcdhosdXn3NRmt1o1Dyd9kHg77pkcctmMZd99lk6B1+RDbsKnI5EbGZbN296swHxgTLH/ANKOW2bPmJummN55b9WOtG19hv8AAbToLGHoWpahEFlHUrKOORwysaXHsQw2vP8AZJF7lYj9Dk0xi7lkWWyyqysrKykHJRX7RN3eBdX03+ClN3HQFC7ahuTzZGR4cz90bE+W5u7aexPefmwmDb1FMJj5bdhbtuE6OR4zOkObvTNvO225NlqgTynKOOx7EBku3qKwumaWU7Zo2lsr3OF27dgVRhdBLE5pgYztHQpI9W8szXt0/DYHU0sGfWuDXHpKFbSHdUR+tcapvpEf+bTBz1ZFqsrKyyqymHIRX7RDwLabq6urq6vov4B2uKZQTyNzblJSyQjNJZR/utsgJbc5MkljvZ38keV6t6jAj70WR/JYmtKfzD1nkjQ9tnB9tnSsgQCoaKlm11VVvOrYOaDvU00rCzJK8FvNHmhGpqX86d5+34fYuQuT16aYctWRCsrKysrKbmFFftUN3gWVtNtF9N1n7FrD1LOrrV3qWfvFNDnyu5RHUAqilMhJc/lKHY5M3LKmj+StdWVvsVw92b5LdyG1HegS3ouOrqWdh6wsLoTXRvGsyNadp6V+jVD8p8pPXdfo1QefL61+jeH/AOJ61imCw0cOugkPcVbwtyzhZmrO3Rh8cD6loqTyE2iw35MEK4nQ/MRepcWo/mIv8o00vjVZEeBbRNzEV+2+Gur+A45C1/muTdjynl5e3oUserm7CmlAru3rO4fJRe87mLKTzzfsQ3rO1luWAU54THNfu0UtbWUgdxT5W/Zde7GM9Z/017qY0flv+xiNfjR/aTf5VKcRn8cJ394To5Wc+N47x4ZjaVqQhG0KyhwmvqWB8cYy9pXuBinZ/nXuDivWP869wcV84f59NL43Qd3hTcwo7kPHfDWQsN6zN61nas7FYPbboVK4huR+9mz7EBbepoxIO3rTRZBbkDoduREg5q4qL53OzFFjjydwUbBHowOppqaSQ1EjWXG8r3Ww36ZH617s4WP7bGvdzCvpjfUUeEOFD+037gq7HsPnp3Qxhzy7rarj4EbVS4xWwRCL3PkkDele7lT/AHTMvdup/uide7VX/c9RphkEbszlx6FGvhXuhGvdCNQ1Im3aZuYUV+20bVdX+DkFwsgWrCEbVRcHaJ1OyR73uLhfYViWC0tHSPqoXODo/OO9NLXtzMdcexZbrcUDoGjfo2LerobVgYoy+Tjer3bM6/6MPov8lmwX/wDL6gtdgvXS+oLjWCD5dN6gjiGCD9pB/lWLVmGTQ5YGtL+sBBrn8xpPcuLVJ/s8nqXE6v6LJ6lxKs+iSepcRrfosnqXEK36JJ6l7n130OT1LiVaP7JJ6lSTcSnEk0fN6E3hHh/TrB9i/SHDfPf6l+kGHee71L9IcN893q0y8wrlLldasetW7Vh246ZeYUV+18Gystqv4b9yGnDKKmNJGRUyG/U9cIY6enw51pXl7tgBddR1L4XlzfV1qOuEgsxhz9SN7B3rQQKGgmyzErWsGzMnTwtHOQqYygU8LZ5q5PmhcjzVlj80LKzzQtiw7EBRPuY8yhrppm5m0jrd6Esx/s/+5ayX5j/ctZJ8z/uWsl+Z/wBy1k/zP+5Sz1LGl2oHrVbO6edznMserQGbFkUgsdLxcLUrUrUrVLD+nTJzCiv23wm3S7wG7ucfsUrTIywcb9qkZytypDaobssiLoaQpL22b0IZpPGP+xcQvbc3Z0I4dGL3epIY7t1bRu36I6WpqLuhgc8dJC9zK76JJ6lLSTweOhLe9ZFZWW5AlYPUzTe9yVFrdCyH5wrKfPKynzytWfnCtV/iO9arossLjxhw+1Haectl00bFlVQLO0ncraLI7lQ852mTmoo+OQ+F6U/chpw6uw2GINnjF+5DE8F8wf5Fi9RhVVSnUxjWdBtZDO2drenN0p4IdlttCd52ghNKO9OshfzyiXdacQAuhYbiwoqbV6hzzcm4R4Rnooz61iGKzVrcuqyBaxZwsyuFmAUM+pkD2KjrNdGOW0fath+WPWtnn/zRy+enFnzixd45ue6KA2hRjkjRVjl6ShpO5UXOcr6H81FHxyG74XpT9yGmJtwhGEIgehNoQapsykp2zDbsd1qSF8JySN7isqG0ZelbjoO1G4VpD8pZNEcfvTe5GNPYphZbVtW1ZLpsajEkfMdZNnqvnEJ6v51a6q+dRlqfninh7+c66EattTOaNFRtdpO5DSdyojynaX7kU7xqG7TBuTgE/YmtYWhSgDcowH70WAIbSshGjpT9yGmKVrW8pCqiCFXF3qLawPtbMrJ0bZmat+5TQvp35H/YetEW2pwQN9ARRROxcfiDQ3sUUwmFwnKdHYFrUwhyATAmtTWrIsoRCcFZEbUzmq6q59W7SdyGgI7lR892l25FO8chu0w7kLkqTpTLgBSJg3o8xQjlFOGzR0p+5DSyna+LMuLPJ5LEynZDFb5R3lAhzGlu62mSKOZuSTaFUUr6f95nQVu7kW9IQcs4Rei6ydG8AZxbNuRaqLYxO3KdTk6KTcgmpqBV1cIlFFFDcrqpLc/K0nchoCKo+e7SdyKf45N3aYtyj2KTegpFHuKPMUe8p/N0v3IaI2OkcGN3lMZqm5M106R17L5KpZg06t+47u9Wshpnw9p2xck9RUlLPH8hO7UTb5a5R6VBAXnP0BTR5rdiMahGUIqdcWM+xNwqOy4vqDsC3KNt2qMNui1gV2oC6OwonSFdVIzP0nchpKpOedJ3aJPGpnN0dCiQT96CkUfSnc1R707m6OlCGWQchiNNMzntsFmYO1GU93cqSss7VSuu07r9BUg5SvfkJwBVNVX95m53QfAIRVTSsk22s7rUkWrdZwAUFPrj+71oNDbNHQnGw3XRIPRZA7Sio4Q/lOXJHNbpkjYWpj8osg+6LyUEJAAnuu8olX0DRIffPs0v3eDSeMdpO7RL41M5umLpQ2py6E9MR3KPenbkIZj+zKZSsFnSG7upF9uzsCLrqrjy++N3dKvopphLFd7uU3YUzcijt2qmq9zJd3QfAIusqrX/ANJEMWS7ehyFVUhwbJHFkG8NR22d6tG5GRrJS1/J6j1rem7Ar6cylZtzIbEHlZisyJ5SJV9AV1UuIfydLt3gFUvjXaTom8amc3TGtyKG5OTCioWPedjTZNZHD2u60X9pTnLerJ8esYWHcUQWnKd40UL7ThvQ/klDYEVuR2G/Qqaqye9v5vs8B7xCx0z9zRdQugu6aeX315v3J9JKLvj5Q84HasPnI94k6TyexblJseU5rZG5Hi7Sjr6J++46L9KgqmTnLzH9R6ULjnbNMmxOGsjsmslG9X1b+Wp6g7cigqZ3Ps9GWxWsFlHLmflRfYoHYrqSEyOvpfzfBpfGnwZvGpnNGmMEohyKAFk/eoInSbh9qZBEzozu7Vy7dXciiAh4FezLPfocL6GuyEO6inbSj0aOxOGXaqao1dmP5h6erTjMvIbSN+Xtd3JtM4TBubYelSZ9lPTPtbesr28l2xyik10Yk6elT7x3aJY2zx5HbOo9RRBB5WwjeqWr1g1cm1w3dqvfm6JNyY5HcpX3Ku1Ps1uZZ0xjyFGffSpnbPtUfMGhxOl/N0DQVS+NPgz+NUfM03cFd6cQAtcxUkev5briMIAW6m9AVwidJVtOIjkRv6jbTA/WQRO/dW8rdo3oeaVS1FveZP4SVfapZOMTvn6L2HcoPHN3J9hduYl2a9+pSbZW/wCIy6pXZJMh3OVRuZ36DsVbFY69u53O70CWkObsI3KKTWMEg+3vWw71NbLbpTXK4LFJM4PIWucjO9zcizkrjEg3JszmnMnOzN+1R8waHaX7vBpvGnwZ/GqPmK4WvYVmKu7qTs7huVNRSTyZdzek9SAZG0Mj3N3Inwro6K7bTHvGnD3+85fNKCOkjpW9PqnmlMW924HsQ2MyqMtZKJH7m7VqYKwmSKQt88IyiSYQ5bBps0oi4v0p0meJmgJzc7XRn5QsvaqSXJLk+S9XsUQH7CnbH5elbVU7HobVZWVlZHmBR8waHK6zWT+b4NN406HyNZzlx2NMka8bFP41MPIUktlDtkvpgpDIM8nJZ7UBYZGts3Qdvgvdt0Hdoqviz9OH89/ddBFDwXCx9ikHIKpeTOzpMg/kqgauc990Oc5u5WR0Hb3qqHvmfr0Qv1kbX9m3vQVddrmy/YVxpVE2sKiFm+AUeYo+YND96kfkYtdc3utfcK460Mp6VkWrQjyOuE+VzBdSSGQ7UwdKa4tOxCEyctap4XFbrimVZCqai1fvk+09DVYneiVfQfAd4zRtIOip8Q/u00BIqR2iy26d/gPFxZZwNrxe3QssUcPGY9uzk9igl178kzQT0FRzO5ebeDfQFuQVZCX2LG6KB3Pj+3RVsL4nN6bXWdqO16bu8Ao7lHzBoeqgXj2LI8DcVfRdRm7dNSHEWatU/wA1HZyUwqjqAGZXLXxoSt6kdu71KnpRDy3bX+xWtvROm6JW/QZeVlyp3P0XvokF4X9y6NFO7LOx372k7/BKqNjcypRrKWWO3TsULX69vRlKMZZVh29kh3hRXDMh25dx6wgt6urqQWlcqZ2Sdp0PNiqlmrmcxRtttKzhXCvoKO4KPmDQ/evfE5j3ty7FxJcSXEkIngLVyLVyIRv61kkPUjRhx2riTR0ri4b8tWcHdajM75BG1tyVBTagcvbId/YtgRct+h7mt7FmvoClemc5O5+gWR2FPByOt1aQbHMjtOYIG6ch4JkiL9RM3kv6VU+8ZYILtHOWsdJSyO+WNl1SZrPh22LdneqV9mFnVyhoC3IKspxJHrWDlt/mFdA35XWFKfYq0bWSdexPfozHrUUnWtYEZGo7go+YND9/wbtgK1jyd6hia5mYpsYJytZcqCBkHK+WelF6vpJsETnKGzQXABE3N1DvLkUFfbZOQR3nv0HcmWMTHdmgoeAVNzyd9rbFVxOc1r27S0bQqcBkb3S7A7rUcRpzrXO5DBv60wMZmqW8y25McHNDkEdAKlZqpXR9uxU5uxqlNyqmMvpndm1FhWreehamTqTYHIU61COyyZIzKFrG9ammaDv8HMFnb1+C7mlHeqRrpI2tbtUbGwjrd0lF6PgSnZoBV08rcE0Wj0iw3I7kxSC0rx26aXbSxns8Hp0FRCIvdmZd7RdCWUP1mY71X7dU7oTOXSSsvfKoOW2WLzmqlfe7NJCG9YgzmTfwlUZ2HvW8ojO1zexcVaUIAFqgtWFqlqlJRh64g7ziuIu84riB61rFd55rEGTHsQg85y1EfapmNDNg8E7lT0z6qbVs+09ijjZTR6uL7T0lHSDpkPgO2lNGZydv0i/TobscqsWqpNNCb0o7D4AR0w/GuzJtUlK/PlG0HcVO+mlApS/lBfEh75y3SLk08Wui25tgUZjLTPls++V2nfomZroHM7FRm9+5BM+DDQOjwZ/FodHgRxPnOrYooo6aPVR/aetE+B06Cn7ToCKvtJUYs3N1q6z7VtvoBW4rEBapv5zdOHeId2O8EoIqoLgBl6SqGRweYcxtZSM5b25hsdfuVVy4opd+xMaX0j278puFTNvrGbm5U29uVv0HYu1MKiGrqJGd6CZ/UJ/FIbtMMb5n5GJrWQN1bPtPX8AU7nI6HmwKiGaycVv0BWRW9YiPFO7xpww8mVvcdJ07ldSsD7NvbaooXQPM02wNCyw1Ty4cl1to6wpajVnUZLxt5KmOpyNg2NIzKd2anjc0WzHbZQuJGU9CBFlvQuN63FSbK1372hv9Qn8Whu0RxvlfkZtKjZHTs1bNp6T1rf8AAFHnIoKpO5nnFMGrZ2regFlW/QdqBsViA94HY7Thh5cjf3dJ8AFVAvEVcz0JvtsoX+/RuDf3bqtZkmds2O3KeNz6aN28tG0diY0GmET3WdfMAUyMxeM2Fx2Jmgnar3UzBrGTZrG4bbQ3+oT+LKG5AFxytG0qKIU0eX5Z5xW9G6ur6L6TsTkd6K6ExmeXWu3N3Iu1h7EFewV7pg+VpcLqp5dK/rbpoHWqR2gjQEdF9J2tI7EJRSxtZlzmTaUyOnaw1cd+wdSgnMj8k/KvuUj3tqnPudjtgVXtmzdlwqk3ZBMm79D+hBVLtsX1tDf6hN4sobgqODUN1rue7d2I7fBvpuiUTYFE3IRRR982N2MQAt2IK9ygNJ0TMvG/uQ0UzrTxnt09HggqoGxr9vJOT/71KlbeKaEX3qFrtexttrTtVTC58hfHys2zZ0J8baghjHcqPYU+WIN4u5l2s2Eq2Q5b3t0oFO5quqlrzkfa7RsRO1NV9g+Hm8WVh9PrPfpOY3+aLrlXW/4GodtEfrQ2u7gjYC5TffOU7m9SCMrGbM1+wL3yToyBMaG81Dwd4RFiR26AbEFHo0DwnyZMzHNu129TnUMY2DYHcpCQvpXu+WBa6pnZZmt6xYjrUJy1A+sqluSZ7bc7btTNrI3HpCbomfq2HvshUui95LL/ACinJhTd3w5jMnvbd5VgxjYWc1vg2WVFX0uK59QexbgjeZ37o3qRxY3oWXWDM55t1BNjDDyWhbkzt8OLg3V1N5xLG1jzcXTeCdh79WAdwR4P4RH43ED61JE+Gd9Pt97NtqDfDqN/R9qc176SJ+XmqksI36w2a7rTad0EusdbVs5QPWmhj3GrB2DbbtTJGVbgyeOx+SVIbVOTc1o2BNOidtyO9S/GfsCemmxUe0fD0zLDWdewImyuFs03CzNVgi3QTZOcmOIkd3oXO13q0T+LUbsp7ENoQCsmnZ4VROYpS3lde9e6EwZkbu6bneuOTdgVJUS1Rkmmfmk6T16CfCyRyTZJBcIzyCTknY3YAq7aIuTyeoIXNE9h+SVS7RKz91Q7HtyjbmsqmPNJnjcLjeholFwO9EXrPUnI7CoTfw7rb4TRncGo7Bydw0GMFav95ZH9as/tW3tV+xCQhawFEdSldZEqOO3Kdpn5miB/yPUhoKBv4BWIDlsd2aaB9pHN7Fe/gnRfLK13apYX612XaHHeFMxj2NhDxnYrspmlku+U7R1L4rYMN3SHeoH6zNyLSN6etA5OX03V7FXTuaUxwNSXprg7rXI6Wpr2D4aDxiz32KSVzQMjblcaf0sXG/3VxxqLny8rWW7AvfR+1Wtlbzi1cbZ8q3rXGYOlcfgHNN06XMcznBBzXm2Yetaxnnt9azs88etayPz2+tTObk5wWZvnBBw85RVDHDa8AjtQkY75QWsj+cb61cbwVmaN5Wti+cb60ZY/Pb61roT+1b61XuYWghwO3r0XHWqV4bUN7diuwb5m+tB7T8sH7UZI+mRvrWZrtzroyxt5zwhNE7dIEVK9vnt9aDIKdkb46kHWszEZtxX9EbtzdN73Uk9Ow++bSidfHniy8no6VSSNbLcusA35SMMc7rwyCxO1GaPMTe21NmjPyws23rUULta/Y4WPQEQ4DmuRfY7bj7Ezlu2bVe+74Vhs4Isubt2FB5YeXu60QHdRCIZ5qyxlapnUtUztUkcevp2yC7HStDtvRdfoxgf0L/lf+aocNppuENRh8sd4I8xDcx3dHtX6MYH9C/5H/msLw6lqcdqqCeG8MOss3Meh2xT8HcDggkm4lzGl3jH/AJrB8CwqswyCoqKXNI9u06x3X3rGsJw+iq8Oip6fK2ebLJy3bRcL9GMD+hf8r/zVLh1FLwjnw58F4GA2bmPYv0XwP6F/yP8AzWJcHsHpsPqJ4aSz2Ruc06x2+3esAwTC67C4qmqps8js1zncOnvXCTDYcK1MtFGWRvu1wzE7ftUPBzBpIY5HUe1zQfGO/NOZHDX1dNE3KyN9mi6pYY6rF6ajqG5o35ri9ugr9GcE+hf8r/zWCYLhldSySVNNmLZntHLdu9a/RjA/oX/K/wDNfoxgf0L/AJX/AJrEoYqfEamCFuVjH2aFwcwjCsSw/W1NLnkbIWE53D8VwmwjD8MpIp6Kn1bjLlJzk9B61RcHcKmo4JaikvI+Nrne+O3271wlwyiwumhloodXmflPKJ9qpeDeEvpYXT0uaQsbmOsdvt3rE8MYzGIcMwuLV547nlE237VS8G8Lp2++Q69/S6Tb/JT8HsInbbibYz1x8krFqSfCJTTPdnY4Xjd1hR8G8FkjY91HtLQfGP8AzX6L4J9DP+o781jXBmGlp3VlA5wDNr2E32di4O4Zh+K0sstZT6wtlyjlkbLDqWPYNhuHYZJU0lPq5AW2Odx6e9UHBzDZaGB9ZTF8zmBzzncPxWJYfTDGYcKwqIROLeWcxPt7FS8GsJpm2dT653S6TapuD+DzNymhY3tZyVU0T8Hrm02fPFKLsJ39yzu61nKuDvjYe8J9PTv/AGeXtan0r4+VE7MOpNkB+FjN2oi6yuZzDZa/z2L3h/YhH5r/AFrK5YiHtg1nS11012Zod1i6w6H/APqMSk81jR67flowmK3CHFX9WX+e1Y2/V4RVn/CI9a4O+RaX6v4rhL5Qwj/uPxboof1xqu534I7ijjmMVUD45q67HgtcMjd3qXBXyJD3v+8VwkpON4RMAOVH7437P/V1R/FIfRt9in8r13pFh36w0fc/7p0MxDFKOOo4pV6tjZXHLlB6e5UT3y0cEkhu50bST22XCHEcSpa+GnoqnVtdHmPJB2qSWWokdUTuzSSG7iuBT/6PVQ+bIHesf+lwwj1mEi3yZWlMbkYGdQsuGERlw6EN38Yb7CgLCypTreFlYfmoA0fyWJOLMOqntNiIXkepcFiXYJBc3533iuGzRxamk6Q8j+Sp/ER/UCnqZ2cK6enbK7VSQcpl9nylVAOppWu3FjvYuBXk+b034BY3TccpGUvRJMwHuvtRIa252ALAJ+OcI5Kt/wC1Dy3/AO7lVNkfTSsiNnuY4N77LAcXocPw5tJX1OrmY512OabjasdraTEZqN9FNrNWXZrA9i1n2IOCuroXPNUrmZ9wWexW/wCDj35fOVyOcgQUQEYgVlcOlC6rGk071hcmtw2lkO8wtv6lSw5MWr5vnBF7CswzFnSNqoocmKYjL84YvurhU/Lgso84tH81we8jUv1fxVgd40UP641Xc78NGL4BhFJhtRUU9JlextwdY781wV8iQ97/ALxRAcMp3FRRiKNsQ3MAapvK9d6RYf8ArDR9z/unRJ4mq9IfasP+IU3oWexcJPLFN6L8SnjK9w6iuBj7VlVF5zA71f8A+rGotdRBn+NF98JzgwXd12WMxa2nib/+mH740YJJreEeJv7x6jZYp5Mq/QP+6uCvkODvf94rhr8Sg9L+Cp/ER/UC4nTGq48Yhrw3IHdi4RV89HQyCKkkdnbl1myzbrgX5Pm9N+A0Y5rRhFXqedqz6un+Sw+eSifFXRC5hdu6x0qgxGlxKHXUsl+sdLe9Ylg1FijffmWk6JBvCNPPhdVxOoaOtjx8oK999lyfMXJ8xZv3QiSVIeWUXJgIYPg3EgXG9RvE8QkHSi0jcsxV1s0TC8Lh2Lg3JrMFp79F2+ooMtI5/nWVJU58br6f5tkXsP5pkeWSR/nn8Fwyd/QIY/Om/Arg95Gpfq/iuEE88NdhbYZ5GCSezg11s21u/RQ/rjVdzvwTtxUuN4rUQugmrXOY/YRYLgr5Eh73/eKbVf8AV5KIn9g2VvrIP4aJvK9d6RYd+sNH3P8AunRJ4mq9IfasP+IU3oWexcJfK9N6H8SqsWqX9q4Kvy41b5yJw/8AvUpGCRuU+cHeo3XCCp4rhxlv+0j+8Cpo9awN/ea71G+jglJrcUrJfnGl3+5Yp5Mq/QP+6uCvkODvf94rhr8Sp/S/gqfxEf1Ap5Ht4X00Yccr6faP8yq2NkpZo3C4cwj+S4FeT5vTfgFV1HFxE87nStYft2J7Q9pY4bHCxWG4drsUdhE0j2BpfcjsTeC8eH5qylxCoZJG0kblgOJuxWh18jQHtdkdbrXC5oEFLP8AKbNl9Y/9eE8Xee9BoCabj4N3NKoKjVv1T+a4+oqyLAUWkaTtFutcEn3w18fzczh7NGE1ObhXW9Umdn+U/wDrRwxdeSki7Hu9i4P+RqX6v4rhL5Qwj/uPxboof1xqu534aJuDOCMhke2j2hpPjHfmuCnkSHvd95YnU8U4WUb78l0QjP2l2iqdkxitPRrFhpvwgoyOp33Tok8TVekPtWH/ABCm9Cz2LhJ5YpvQ/iVXttKD2LAnavG6R37xHrGjho/+gQxedLf1BUMvGKKCfz42u/kquTU0k0vmRud/JcHahlBXxSTGzJmGO/V/9ZTxNqIJIHbpGlp+1YbQtw2jjo2PLwy+0964Y1jJpY6OM31N3P7yqfxEf1Qqr9cqP0B9j1P4mT6pXAryfN6b8AuFLnMwh8jd7XsI9aglbPBHO3dI0OCxLJhfCqnrn8mKcco/Zl/JPa2WNzL7HiywjC48IpjTxyF+Z2ckrhXMx/FqIHl6zWEdQ8I7z3q9tyhFmZuk+F744Xjjc/lZbNYSvftxpKi53e9lRQ1U2bLHq8rgz3wEbSrTC5MEpaPlCM2/mmlz76qKSS2/K29kdblH9Hm5fM5G9OhqI2l8lNMxvW5hCo6zNaCTf0Fbu5b0Y7osI0QTYjRhzaGrEbXnMRlBQxLhB/eQ/wBNv5KOKoinFXDNlnuTnt0lcf4Q/wB5t/02/kp3VdRaevqNaWgtbyQFBW41BE2GnrgyNu4ZG7P5KpnxOpfFLU1md0DszDkGw+pR4rj8jsrcSH+m38lnr46mSvhqhxg7C/KNq92+EH94D/Tb+SOMY84FrsQFjs8W38lS12L0cDaekrAyNu4ZGn8FUmsrpRPV1GeRosHWt7E3FsfLgPdEf6bfyTmy618tQ/PJIdptvUInjkbUUsmSWK9jvXulwg/vJv8Apt/JagljmuNy83JQr8diaI48QAa0WA1bfyTpKypmbPWz6x7BYckBYiNjHdtk174nsmidlfGczT2r9Ise+n/8bfyUldXYnNE2uqNZlvbkgb+5R1mNU8bYaevDY2CwGRv5KStxuaN0M+IAseMrhq27vUjAx0QiPQqetxeiGrp6zMwbmyC6mxXHKhuV1U2If4YsuKt1ZF9p3le6ePNFmYiLD/Db+Slq8S403EHVV6iNuUOyDd6u1PxPhDq8xrrgjaNW38lQ1OJUFO4UtXqWOdexYDt9SqazFqumcysrmyQHbbI0X/kqXFsZbG2CnrsjYxYN1bd3qVTX1uIuY2vmEoa4hvJA9igxbFMOdqaeqOrG5rtoTsVx6YW4xHGD0saoqfK4yyPMkh3uOk2CnmJ5rgAoJC7k9m9AR78qJHmpmxu3wmzOjp5qcRZtbm25rWuLLjd9dHNHkZOLE591mW6lxm1QZIo9Y0OjcDm82PKpqtsrYniF2tDZG2z7G3FurarDUGldA8szB4tLY3tbqQq3ibjHFeUXte/3zYbNI2bNm9Oqy6nMGq/Ysivm8117q5btCpK1k7egO6QvqrNIN7VrAveii2PzgrM85bPksJRt8tykkjdvKzwjpuhM15yRxkoNbGCGjvUO0fai3K9zepW8DZNH2qO7Jduk6K3bBfqOmI5ZWO7VuTsyDiN/gyKSeXWl+bp3dirDcRP3C6h5cU0f8Sp9kzVI1wly9vUpIy+UFu3aoGvY0te6+3Z3adnWFUx62Ix5w09ajELSXzOZn6QExzGR2gvbrd1IEkbGqBu0ud0eH//EACgQAAICAQMDBAMBAQEAAAAAAAABESExEEFRYXGBkaGx8CDB4dHxMP/aAAgBAQABPzIv8C+Xg+9HX9JYS9CHf0nM9I9ET9rdk3wFBmwm+R7Uw07lwT7A2iZmafoMkeR/J+gXyxAvrkNj/wAfUvgdTsobbwKzHPUU4UNWEynfAfLjk/yIdn1M8vpA3WQoPgRzeMIYXwYa3E+gWSPyNZHJbHo0K26ANB8DohCmmGifO5CoInFtufgQkO8N/wAhNhWIHUfA6vmtDXsrk+tEAZrgdSjrekflYg/g6npHsL2CEhuQ5K5KzJRXJX4vSxIJXOlEn0ekrkzKheZ/BT9C2jDoT2QmqcqzsmP1ab55xn4eujuL7wWhq2+UOc3InxNHDfb9PwOdcChRzcTuLDUuV3LD5S9SXhLQGMw049fyOYfP5Dkpbhg0UapTby2icP8AEhDLMWCrEdmJGQVxYdrXqIeDbUuXs4Q+uyhK5e46eiPEUr5KGNxsM+XsceCAqS8IQxMhEs3S2ttj0gyKVHyLQ9fZEYtyzE4r0dj65tOnEusSrxGRAu7A4JE3rMfqXkVZWISF3YrSmtR7NQy4GkcI46PjoPL3v8Yi6qmSfKOB0EEOcLlzI12/4PRwI8zA9kl+mi3/ALRfwE1zo2Tf6D0wgQ0K3KK1Q3ZO4lqYol84saQu7b06eICOw2lNHiB7M31uo8HdF92HdaNmdmfc8j34vk26UEMJE8NMmJK9K90+Qs9KR+5/IbuiLCTQ9z7jnpSrgz4r0K4pwhTjMozXpGsfJPrTfoVjM72jCT0ZbvX4ljUIUUtEfpuB7797pi7qUJOkSCLCOyYq1duJYuiQN91yJeSneyLONa0sr4PoeA2yTTpYXMwApz9D6bhkLQHcfcOSTc+uj/ZCrzPP8ETy/IENfDIqZnopWtI9xTAgl8l8nk8nn8/sedFX3HHRqdlplRk330T0vhfFqkcbUzEyfrRHJYA0dcllH3PM92LtRMdBZESlvyz2bQ90+R7M/ufyHSVhJF/FMifdn3XPSH7PbS6pTWXWIROzGTZV57J69jek2psgFnLRn6bgcXjh9RwMI/fJPhrZlClRX7q+CNyAkLDKkn2vImQqcrI2OT6iZbnwj6HgTVbbNlr0Yspht8NJxtHkhX9kxyXWW0I5udZvP+AUhtiXyn5ID+gkL87Q19zkLZohyVuVzo5aOWrwfe86KvpOOkUXseg2RvGf8HszO3P9Szyy0fo+D9zyPdiogdO9l7r30r0h79PevkPC+Re4/InapzgtmORu59Vz0LhTfqr+tEs6WPu/wTi+l+w7aJbJKbQliOVCNIfpuCr/ANJt/Ao4Y8Qq15enUE+4S4Nzr/asJHV0kj9DwPqeCsq6j6LhkbwE6y95cCUKEYrkkPQ3Apmsn3die6Kn9jcM90WQeC+BS6gr8cR31FhJWhOa+Pg6Q4Q2sQnNegz6jcoE4gPA8OIgAmpC6HXPl+tFc33gpKFv8oVqfmXuOvMw+GWx0akZZHXaBpRCx2cNF6bMXqE+iy8yWFe9ix3XyITyiyDj5c9/DQ8GFmSkeUzC0KYDyMlECzZ9i9DFPWkls6G4+zXQLLgnlNUObqvLQLCHsRWSSKMlCkBRpr7IiZD16OTmfk5Mnu/Uh4Qit3cJEO92XEpIqIytmf2fAoKblpT6MllV8nDZv0EbhBWFvb4wjm+8H3YcnP7JmSJMHPD+mkmJ+TEKsNmKTqaeVAmhycDnRoKf7jqUSiemt7F7FiLLHkyGcqXkVMCJv6PsZB1CRZXmcLWmsN4TnSglf+iRYZgDeTNeoYMxtS16jEBVjNpkNHWCZaHpdDqWnZ0fWKmqOo5c3yiAcMJwlBeCrGltMJk1XKh6juXcIl4SKhPoefY/4+DYGMid4JEkzNs46mvaQxzu27sQl7QdQE8XVtsvQlI9bZLMew2n3CHdAlOnqKtpn3M6XqPsY7ggSnN+pLypED/0L2AS0h8lnktUifdCOTzp1/DwWXwWXwWWcJL5LLIcnk7HUrkjdMslaUVmCit/JU8D4I9JOCEoTJkUC67CcteoWUQE2h/i9AJF50sl8a9C8adSyHyQ9yXJ5vQn8OmDDT9m3+Ga4pKXOQeS9ySS9ZeCRZ11vnBZfJDzOnZnUrkwGch20sebxQkHC9CUWugONix9wzmhvuMyM2GJlh0XkrJJ1JWlaSiVrOl5J0QVJwfR6pNVEh+fzgS9pHN9cExO/ofrTwSS9LyWWXk7Fl85L50hCbPcXAopTIa+h8irk3G/wdsWw2iyG7SiGSLwYyQ3IRFCqMbuUpGnTSiUUdSid4JROk7ng6adxkrOI/xN62SmTgg3XiMoH9XoRRM7z39xmv1SebDkiRV0z1r5L08l86dTyXrPUjUzvYxPIwpQY0xBHKTLi9e8wbk4LknkjK98tcuB2FPVoRCTtNyTLbJGU69Y08aUVow6h1dFck60IsZBC406xoYeRDMiA/w/xGJ2OBArbWudO70rXzpWuRaScj9xIq2LmjTfVgTHVhyyQDy5sUv4jcth0E4MuXm4gkXX7E+7cRZ8QkaqDyVnS8FaVpO4bQ9CPIcMRJE6Y2sYP09egVCQxI1TVkTJl036mFpemPP4PIu+lZ0svWuPDybS1k6xUbMEIZZXBHHSMo1IqhIVM4clmoNmXw5i0EplrsOmrnZuo5hDhKoG1oSgFLNax+g6cAoHQF6K0jqdZ1o8EdNI3EQSHIDKI/8AFnTV56nt/C2hc6McEEdCHtogvklrzO7RZLc8lHQWxVlEpepGazhLkdTSM76TCCaEoq7sGk7qNgyb9JGAhqiOB/SA+5a0FiwlgNrGnOqmzbaR5zkrOq+fw663p8Dc7aO78g6/xuAmliwn4IHAgjpojqSySJvmSfBLQE3Bng7QD4ayrAJXCKuCERAxybHYR2EcwOktoVKqf9kbHvE6qYf6Ir4miW/wkltWW0h657823kOT96eSUb0PkdU6yOqJrkWI5H6sgW16cRJ5LEHVpdStVZMxiLYRsdfw86Rp41skLoL4IWY0S3WD0ItJ07XYQicVYrzhWUHWg6ifskz/AIgzFI3mzIVx4LS15LEI2yOl1nn9Lj3WQ9c2DSy9yFpRnUW76YkijjLziFw/lCNKTenSuNKOpAt78iNtYX4eCOmoukOqjZkkGyR9BLQhvYziaYC66L0W0HEjvrc9zLYui2DDI7mIYuj55mhJ+5kWoSNk97pBW2sI7aXkok0JS+EOVWEigTx4/wAOJKHXIlNGzoYpjStBicC9noluQK5K2/PqRyUguZ6onVEOBCk5zweCoo2HO14M6e2lR36Ow40ctDKhCp64Yz1Oho1gC4+X6HHYSDKxr0SZC1Yx72nHuGzWkIbLlbIiek/LHc5yHccNFnK0SepemxkuZesEDu0SJX4wIIaIh4iWoLF+9cpDq/0DMMXDLEsaEJlMlci9x4hnFfZjF7RnCZuIoho7Wg6kN4P+cLhCKqT4ECacndi8T7kPuQ4we0oTxsFEZTiBJ0nc7Sr1kUQzAtJvn8SYs/b8K/GiCHydx1jTER5L5HeC+4n4pgKhZcoV14jG5MmuBD5OUFzLqKuHpoSpTKsLNlwQaGrDq/YUoNWo9ho7rTIbYzEdmhu/Bshgt9zbWx5FxuU3JG4Lidor8AQUEBVJxsMsm+kogcWfMYTpXJWStb9dPH4V56CEPGndqs9Flrx9Uzp8QJehkF2CjkVErSgVlLjucHCbl3MFAFzLviaH7ZMikludQjk5tM9iUinGwEyHYHKnqbNCMkcutmNmnQETIWeDH8GYj3DuJZkswf4XXJfBeIennStN9YEtuDu07iV0cRehlE9CHalWyA9ENyDFg4GcwL0YBMEjuNiWW2zaZLjmWgiCwdx3CXIW49C40r/8UeT4m9C8f3lksefQJ9TL0ojoeSSMj1IvTKYM6u+nHQogeFoTpGjpRC5TFcSogTOlbtV1ZeROQzjMVS3CF/56EH1MsRvmeyg54PBVKFhQdRDZIffSQQsIpNoBi2KZbYt4plCjoi9xO6EnBzC8CyOTIGociNUJla0CtGbTT1192l1y+DuO5aXmKEzrZkJk/wAATkQPIhclZ0yrnvqOCQHtYEdBCGFUunjweW4wF/w3GIOcPzeEGaDIbzmUJ9aMumJAWJB8wvM6dxyMZ3FiL0mMj9HVrV6/LSxuTppGZZZsmKNq/CWYeDfVdT9DYMzhZLk4RUEiR3sh7GhRmRqoiU8rYu2TOIyrx0shMSTG4GcwnJf6EXwCyuH6nIVFMclE3ZGFphuXjZWvQeAbiSehQ+4+R6g5aj502Os6n070nh6eBl50Ys5Eht/BOedbYzJ8vuwWbVeRy+AcvfEJ1ItCju+rKzYoMp50dGXqI5E9QPLI2OkJkQ4SSwkNe0nI3tLgXEngYdcJXCkWUNTiCzEwQQdbOztEM5O7R1GdFbxZ00ZWlDw7/GTnTw/gUUSyKImRvY5ykKqRDKFP7FCFaAsYPYT5LLGKT9jXYnsbTYym/hOrwVpwBpwNkd0in0HOGQ33GUBynbHR7ktzIGzYFjDW5lkr10gYzBMbwXMJC9oS1cp0q20986liG/CRjVxnQo3rTMlAzoVLkieSsKNuQjcC2i8iJsyYGvIxpNjoBKuNCGMzyjMW9jH/AGeT50fQLGXIgYQJ1gLk+rD3cF0Yrjb2PJhUqXb4CfI8ALCSXU6kkos4AxXYb79GEkTIRkh3xNTAu4zCR0i1hIl4JKHofBXI8Gx0TnaykabuN+EWFk6mRu2DCQN8DYmHCEt7NtXQh6j4EVqZIne4PYnmzIKDqG1OYwWjODlP8nRs45xuJAg90YwzbLMVivyeMHeZfIXUaOsAcEkuA9Ld24C4/Y9iORyjoZl4OYw2CUokajT+dqE7JR1ISR50edPIL0qB9yW8wFnkWOzrkqZvSzvwXz0I1RFhGTyzqzls8n/B10rH/Hp5LlyiZuoy0hJp84rwuhDKoyfbRwRgaZ2lPYsaBnTIig9hTbCkyOICzJAJmthPkMYyNBA/qNyQdVlSMwpNhon5VyOBAl4ZjFDIxTEtB3Onky6Xo+ui66PUjppUJ2byRxCmwE5fYgvIjMtj760bSKvVHy0nI2YdNPI8E8t/gxI70ZppSqCqHgRL7SVb4SNDkhQ/gCwPNMubGWGLQqcLw8MofIqh9xMC73CczCmTCyMwyx1OQ8qITdiWjGckBq0MyaqZlsfbRWJrDkhFoaVRj6RkfRexMLg5FWl7IrEQS/B1KKk3nk6uDaT2q+SyicXBZX+F1QzodPkbwWzbYdgyIodRnFSz0HL10knQYysGdUK5mGgilwC2tkSkL0KH1IwYp5RLUGSIksJxN6LCPKTqekDK0E9Y3S0WSqDciWhTA3zTFlSZ1RMRZMz/AALwPqL9NE7nkrOlKqWJtBYk9VqQKqZoFyvrrhP4Z91IPUfQX23WQpRmMpe+PQxxmZkiZQN7FwzZcWrPhpN5FAuj4FlHigwErnWUGPuvwBzkLRxHczyJpmSBs3LyRckuUuOt4ylDB4q0amMngYTfjg7jS92zbRPUohpIRUmMltJ1jbsQZwRwKU6ytDVXAo6HQEVOSij4l9Flr5HrYRAQpptcQEsNiNz9QIEuRwhIlHwQR94JQw6ZcxwKmG7dMoXRORnWIaQhm65/AEb4KhQ62R5O4jyaOsdYy2HkCZDpBkpDHIcQsF028bdB1R+zLsR7GVEcRzpoowkRsbS86WUWl5QuHoxXCzHs3oJ5JnXT9jgmMcC6OCSvZR7s8WJlj90I5wJheoWGYzRLaBYPfIuPAZcFUeUY3RLOqI6Y3W0co5m+ocTuXyVr1O/4M2kTqYTpHIsygl6RX+ptIb+NOu7FubNs0JWi2myG1EJk7JIVJLmCRHDRCCcN8nWDIQVup2MNNnkrJLJynuEmPdivF8BbmMQDRmZursIQoXBAw7G5de411hS7GR97UTPoSwtiEi0LE0F/KOQ6ZJRPkzI3REkfOnk8nWNjRWdP3pGuxcMiCK4HbPRWdJ50Ke2g2gZklQDIubZFYFjWDLA9xsb5K5I6Y6nVHWS+kvRjcKRtyE2Mma+RVYbonKzau45WU8i0s0FSr7YERcBGtruOEYdG5HsdIhkjksMGytJOQwwlqxzd3wLM5E3DbSt9M5HHexYCZt5AYs8nIUPv+E3sQyEeuNLa2VGCxtI6HnSOUjLT06ne6jrJWRmGlaLk98daOjBAlhScVJb3DIS4H0GzbCG1XD3F3EUJcnVKSPKzI54GsUblcFZIRRRWlEGHTWtMxiJ66dSNmcvYpFzvuPwXsysF86LI5kkO5PcifAIfMVmGWSpDNjBcTMlmizoF6WNUO/Oj5NzlOospKpjcyZKbssN2w7FJkWZYIbEYt9TEwUzYbIYTuL4GpCNHOtHfTr+FinnSjqZmSFc6JCu76EzfkD5J5Kzzoxzwep36GWRE+J/VbNlbDsd5E6k47ExUFfgpDzpA8aW2CEEo2ZHeCIbIMhTuAtJaExIb7weJwThqDEFxmE2r40npd9NL06zpZ5/PMYe2iFeehKyQkvLcneTwSXl67ZMWbh3ksjasgudqxLfoPO+BRRDE8ir5HSH0LzwZZn99PB2avQ7cssJvV9iwlwnQO6khcFBNAS5e+UEMtTINb0dvKrvWkA608lc6dfzvW86TCKcyhI34/wCAS7Tqegs7jyXkhkc5yR3mci2ISzjy+JUpHYjaTsM0PgSFaXA4J0URHqdZJEvjROsDOqFIlRxbsBXi52wvE8SMQT7CDGjxljmrs3H20V3ePudxw9K/CuTyVpWl5K5K1k8JjiQbJQ586psSSuCRj3i4MlHJOR9pidxmkkG5jaC0QhTwJ5K2NtHcYostyUJ9NEGZWEeSsDyWeda0ODWjqIoUp6FkkFDGiyTZkmICWJBcIwXEG5zpYyQTuJHJ0yKy+STz+F8i07fiU0uFchzmdSGPGslSWddGxt7EwHaBXPMEN1Rvx7hnXc7lP7iPGnk66WHQxl7lDFmzkaupTpI3N9OhJWGM/wDZKJ5orFKiGTCV+eRJ+tECLHnEuJOisEmSkNr1pm5mK3JRFOdL31vSy9K0rTtYiaGKf6XpWI0bkiR8iVqy2BV/crUnuCmrsE0rAUWgcmNdCi9OunfYnypIv2L5JuFKx2UeBYndGzH7lcFnkcHXSeL6xeE50uJJaqiN6RRG/AjZEvQtDHwVRBsaT9rkTkpLcZ1li9a0rTrpXBWYKzOlFiJ4Zd2jfk5NlFZLJkvtm96ae8DEF8kKbhL0e0EQ2LL5M1b6DXY8o3mRxnTqOciGuD2Oiuobch7PpDCzmk/o0ZpXJZW55EjmW3UenA7iwQ3leBSTgxHP0xKSVQeyErcYRHYURYhviA6Ixzp1p3L50vSzqS5JFnbTyUPQ7iwrgIrD3LLA32ZapdaE+Xk2oWQheWF6e7vWvx35scCyWVtpvBe2vuCOngdNZmR0dYKitIbjIzogC40KQqhTvwLeHEDFBQMthePxXqGNdpLX6kWmI1XkS9OM+xsvVOle0ktOutf+O5wqI1PGS5IyMCe42BvhPAcc+47TXc2PRQ36DwJu5vnbJi6kfLDGT4BsEnfkF/cNmtcM7hqyMUzyRuH6AsgOeBoVrq2KKJn2ieS/wMZ7lt2HWTZgMWZy9iVQfYYaEEqQ8DaXYzGt9ylZ8kImSK1iDsrQmVqI2wby3IOSvJVTZe24nYwf43RTwZv4Sccj6SrTJXokjTl5HWpNsB8nULod0SsQIXaTrpXGl6ddKzz+EukXMPmREfEE8pco3Y6Q/uN75E1qZyUukm5IDG1fTZlM7NPGsHGgISFZOdymTx0pE92HEy5cB16OpKmLdZeDcA4NSvaW6Z50csG+DCUyJWIS2Q6VIRbPCDest1PoOzN1e+0HMrSHC8kEP20ocrV5QluUwGSXqio6VagOJE/TG4XkZs5rmGqXBkRxMBSbnwNtPTDeTwGA2Zl1TufA0O1RM5scigsnvLSaW8JCz6s3wR0BSo9Bg34bj6onotHaD2UGSIny5bdCxsz6oEOpo1MlJpwHhxBcdxChWC/sLz73PCT5FdHuh4wjoIdhegoFI/ybr/psfA3mxlE5L7BgEZ3Fa1D/AAhnnTJmzzp3Z0L55VMQlwNye12JYm6lUpvzOpoPFC9RJSkkYpfhQUof6K+hMZt/bsTG8+jR+z3P5al/ZcB2nLgUViRJZXoMWeJ/dBpb9IHvYkaRrBe6jPqHVC/zJJQTsvSfKZgkAEpfgTyfaAMgJaT3X7EIsKGzkPVH7QhS4SgnX9un/oyA3i2cxtug1sGoGT9H/B9bwIq2dxdpjmkJ+lM+w9/KmJ9Rf2JjM5Jy+iH8udsqhCV0p4wD4S97VQuy9cIT610OsdERIcn+sTMdRowhNLKKyeSy9Op5Ourrj2GPPUFskG1POXM6UjmCWvdCSoP8YJ6joTLvP+FRf4v7Ln/z7/R778hwGhxjT7LgNJqHuZGKphz10eHlMohoY7RJ4SPczN1l77jiV78Or78iZu/UgpCZ99f7JZQoeTcL5KumPgP3p9of4j7/AJaQPvdZ9bwNawsl1x43Yi0udXs0u59oPeyaThtYtDsuS+/UZW8cxU9GIiK79O4QxF1X/wCy6MvLulrk/hPC3g7OhxQVzfgfEtjlFu1sVr0/NhwLRgEz7jfhwLeREdNO9UczkvrKXsLV5VH4kurY+o/gdKp+iIpTwPwv9j3H5E8xmETFDOXp9lwKOXAmR0uxemniLKlmmIeV+AE77jie+BkHIuj/AILC1seiP0MCI9r4iEcB6Z/TT/ri/wBH3/LSA9HV8j63gXjMqann+hDJrJj38poe539miX84jlMQmRMt7MkjaEsoUw6tCW67bNEnK8NENcI+jG/gd3oxjjBL24GMPH/heZ0v8LOMJeznBwZi9Fl40i1tg95sPaG/elseA6tEezaMVYTXw/Z7z8tS/suA0moe49jDOeB9fyJVZdnVvmH40ayWWRDtKd61zvuOIro5B1e+JKG/qVfvRyUd+mZ/p/1LAtnj0BmTNOXwzaab8w8jQGn0uEgx1BUNts/2bDvO0UL0+T6/jQR9Vwe/kxmH1w0p7aNTUkg+wKcm9LD22slw0S1dRRbSX6Fa9vDbCaU959tLzpXOmVO4b5JgsD0fGtiTMTkesTxHvI0rSFjSORwN4UmnoJ2VVzyuRw3WWpjE7ES7LGf5CXoe3bNc0LhxqVBPuQbPOyS7SE0V4b6RZl3pGflMl2PRjTXXkmojdjT7Z36LlwOyQnNsPdDyEao7JxXVsLI3UNnrhL8qVEbITrLtZFSW2Zcp4JLl25ECZVFik21gt2Qt0zxOyVb2FSmIlCU+ejYpLiPB285jYq37GEsFYOYqC8JHnQR3x4CYOlNC3umIpOC4RNeQ3QvIbq/AJbITCoTYTUK9J859xgftO0/OV4N1rWbkYpRCR2UfY22qKbhOL6EbRWnykTVu3ArLE0oHKxIhaa0yE6sXzfDLnBF2xhNK7TjwdO8GfeTJxLMt+dXRLrqUeP8Ak324mIEpPMsnTTsI07snk860f5YxigSNENJPYabPMPsRmNQdTJC1O+ToYmp5udi6gbZn7Qi9O5eBjm5Sin+gUhz7FKPBmlq0Iaf08kP/ALMUFvJrwdVIykX/ADaI3ldFJU0I3zdB6EDQgom7YmzrY68hciFpeZFkYUyg3DVtl50dyL+E9XPHhDd0N4rBWY0rGkJngh9oVNgZW2OhFJPBE4C7yVO96jqMxJE420zWXp+jks7Ihn7DcDBqcbkhms1kN5BtU9nfStazp//EACcQAQACAgICAgEFAQEBAAAAAAEAESExQVFhcYGRoRCxwdHw4fEg/9oACAEBAAE/IR5zL+/UfuVKkky/UTxeHh/c/wDNf3Aqel/6i2n6H9wdTZ6f3E1LzYp7VYf7ozQaBe+qEFtvZbiyZ/WP3gG5KM8hP+wrOF0QnRfAjtdGiv8AqLF4Lbi0r4Z6gQwW2B/LAIkrPctfr0f9TrgVIvQDlmyhLJ9GEj7pX/qhAl63A16ALV6ianLSae4S4gumZb3wR3TnZEP4r+4vrCFaR6IbpK5GCmwWBB6yWKo9wsGchHSMAlmnaA9CxcbIPqQ+jAUi0Nr8CJ1hRip3fH/UE5P8dxChHpjuneI+RXhn8ywWeRHdidE8l8P7isldkV0t/H/Uy3+B/cwiPmNQB2T5EvwS89kv/qXIV7eI8fzmX6Jf5iy4d5ETQYoZYl4fp89Uv3LbBZRmp8l+HM4z2iOMB+AgHWZ8Ow/clhjrlJXbQyPFOP0dbxPTfkErHXUs/ZsRZ0v2tLiWv7rAeAqWVZXgLfiO2gVjz+R60cVGCQIxbyM+yyHaScQEDQ6Nbo92jdv6SWoKnsGpAVeKD1crAvDKWleBVizv3kmIj4Sklil8RuFPyD4cSqHQJC1XTrG6tgBY0rGqtVcMXeSAxZ31sA2ph2NcWRpaRs/siJehfAcUp+G+4DZhHQEXUlQZtr4KPiWgOAqD7h/PjVcMifG6VTlSHsesAJW2ij5q5WcAMnCdlXVmmbCiWlHcsXWvyw8q+DKLGYqAGVOXlXMyFSlxtg7+yePdoQ+oLXC3FAm9KZdjHPNK7thzAn46eW2aZGdLcseZJKBa1HvY0kLBX+gLb/QkcYPd5+GcIpfv9HSDyoN8j9Cw28SuK/03t1L9xjZD1NwEKh1A6QUuAAv+FN6QB/T/AOlxM5+FvhR+7ElLBCXd4YT2P9e/0vZ+VBBKNPOcfp+Vyv6jfhrfmeIhyPPsgO9n036ib1WUH6QtLaM+owMmJ5f9fqkwrebf7X7fpSVvujY/B+oOWw/K0SkWK3laD24PE3gLNBtZh0bL15H8UAGWDweY7ajOn3H+F3iJ6P0O/wB/MUizjlA9kzjequKB0LAtiODCqEBewI1fO50tB5o/RMcbVUI44l7cP1BadW/b9MT126VWbXGUPmMkDw9W/QP4FHMKrq4RNsa+v/Ag4kdOrf7QJm+RayZMxmW/pPNRWYHJZcR5ocI3NGIvflAIEa6+Yh9/oMyQi/7HaV8n6XgxmtD4lu1C/GmK4wWl0NZzc+hwkkwXr9GngMssg0dhyd/r811li6PJ7fkiQjJDsVflV/8AqAJgCxRjNlY5317P11nBv9MN94LxUq1mYRwOwJwsZZ017ku8kA7H7/Z0E2e+YrT/AHcf4XeFKw+Y1PA4C10ZOcPP1PaWfAxEyEeQMfQXv7CsU7nANIwU4DRTcLH9mezFFTLNl9Q6UULf0fpifAK8C5cD1bxNrYMVuAcuV4i7jT9RUkD5ZUFZ0PozvFDyiYy9hh1Yfk5we3fj+iiBHZ/QNgxCrhURX8z2GVXKVnhH3+v0H5cwgQMX5Mvni/7HaW0/pbiridz13EngBAWk5IoO02DPP/F/P/yZ/a9yiVx+50n6GMf9B/oW/wAUexGD9NO7hqrbTOUGXRTQ/wC/02FLDtKjApX239Gvf8BP8ftM/LOTyotBErtaTEAB4MqPlYWMHZmS0x/cf4XePtUVAmW80A+Il5QVOlqaKHh/TK4mv7T+YnWARe2QpdxkUmwfrLcWKEEktJ/j9L/i0cyx/wDVh9wCCgKIzMGktjsDRoJZaqfaDOa+L9Kg0uYq8GYC5i+rYlF3fE5ZszqcQfaWfyxYOZp57hs1AVMMFN4/mQI7tfp5bzepYuOCbxSvIPy4mAhEl/MCLzQA6M/+sJycsgavZaqOhpx+hqWJ6b0AlWzcMC/o+35ICElnZg/TKCGrwa9NI+5SfNGOVt/OniKalX27d/8Ak3AZgj1HIpqg7pDPdN0B9wVDL2DJQ7A+hOZRFkU1XSxYjmOTTKW32vcSxyLLF5tDQfLmHQslYFIu1vGrpmmMGGdea0BWXBAPznTr6ZZut+wFxNyE/SJXbivSXBq+4GH/AKwYGf58FNyO8WpYMiXvCURzdbgbPlPYQK+SA/Mb70c1BL363ZUfmNyOQG+vI1CnausR2HDwjAsRotVyMGWX0StE1N6EyVWxJFmc/sQ8MJEkBSWQgqq0cfpvI7a8HI08Byw5SaPI38okgRbH6V6qoAitpf2n4o+qC/xD9C/q/Tt4/T0iErPTKxJ5jwp1y8uP+eJW3/j6jq4+5zietPqY+3Ih9zxQUmcfxf1Lka/cXorr/wAQqyeoMr5DKtr/AJ1DkXOG4xSeRDwysuZ/ByywilMoevRn/gP6masxyiJZi99hE3Syk+4SIDgjNz7Kke5ZLWn4TwlsvIch4nOlK8HNTLIWZdcP3hvgZxDeCPiK7NsqIW8+P/JTa0o7jN119fDEYzZWe2NKKIbsQ21zC56s57RTjXdo9qzL5oZWMmL4itR8qV5/p6hNJ6Z4vq/qA2afp+JS2Fzv/iAH8yWpX4/1AinVAhqGiPlHz/Up5o8x1Y3E7VOeWZkOAnMfmLgR4NckDyhxK3lDPZUQ99ys9xvt+l/sl27+ZmH7o3ib/vD+5DCEt1xE7LNmQsRzmRO1srVuY2iuwMN7zPM3BIuX7Tjkl76xAteAZbxHcLhFxK16QU2zXm0eNRGyLCG+H4hWjEs6eojf9Sy8r5IPtX1FteKm3zuLeBKzxLOsbzxPcATJ8xcvpF+4PxJ86L7Yvv5it2y1cMuBK3EfPxAfn5jVWEOZbLCK42cRy5qexUrPUQpszK0y9hctYXdHkS04TVp7l2pdx/EF4/ZHe8+IletNlfcs/Z5l+CXzF5l+0HPNy3PmFe2Y+GX85e/wiMtwbtlJMIwd/cTkf0i32ytwNadZY2D9kMy5YN3UOOmUWy0MVq3cCJ5BDXm4Q5Uttzm1VWxHqvzKVfuNciL6dpM3vqV933xD4MZn4hMXTV5kbVKsjke2LBaYQx9RftPzS4PyZfrELoZpfzFfP6R2XzLRtUc4fc4/8zgO2Pwr0WPxKga8Sm1PqMCrqX/8rFL8avPzMsP6a+ovOM4t3Nuri4zAm+5aOkv/AMn7UVtxTL7mXn+8X2qOkJ0zUKL65JdBgK4NZln3uG+5fDIXr+4Ids3dH6lYMODpRP2ntN5IMbdOCaq7RrtjK+zAw4WL/HcLF7qP/ePpld2DqfQ3W49r1C95uVbUy9TVOjXaFiecRq5eWFIOEKv5hlwRROUFYqw7lcYOIZo7/wAS/iOMF9Ag5i3PEHMLBgtNds4lxeR/iP8AP3L+Igees7E8zy71CLoetSw+CNR2FXie8X0pbLRfN7u6BynziuVfazjNXiX4N87gvp3D+6FoelwfA+IOWZf4mc6RYCv/ACc8o/5ccuF9y8vg/Rx/Auk9TStLx/zKmq0fNaTkjdsXOWssqlfSHTm9ATvkzAR2fmJ+RN3ONcR30ru+I3EAbN/qOkIcVuMVd1MSu6KrG409TXidEpFkVemYLg97GX8eyLrtzL8BFycTED9kH0j8IiAzNu8cxJ2uNTsw9niPYH8TyQlh0IOE8Fs8aVvvsldEW9Cx/Kibnkcsf4RYldu+WXHrxPPFxH8ytN/EOUOV2vmUG3GoLKzBfcLfymYJLppN2z4IVf8AcIff3AG+OoP2jTeZVO5j5JREyGtHNiC0p1EqxR3CQs1t7g3J1cwfLMrJL+16CKOJ5Sri21Gq5jy8XtZdBdUKr8+ZclArpVjadIV4bNv1X1BL1lwZhex58WBQbGX1NOCt3nwUQb6aMWT4PMH6icgnENu4R+UR9YtjWwgFqq1OE3G4H9TZre4U18Maa6lVz4FcGV15y5dn8UTf6fuGeMvxPUJ/HqceTj9D7J8k8RUOPRiZc8w/hqN3mV9we/1CP/VBJfxcI/lK3H+xNOU/M+h5l/LuK75me+fqUK5deMO2dYsl676lcpvUDcvGWBNjGguiaaUGWFmWu9ysJVTh9EfgLtje61NxZ6rGNcvqRM2Rrt7Zz5jxwnF+L+IVqfBxOJp+mw5C5kPLXjKMEAdKszfv+JeWBa75XOQgkOGnDEHwx/CJ/qnzMTyVxKL98wD/ADK6SjtfqJgCuIdVQn53FSJLzRsv/anJprGf4n+YDnZJWPMF/DnmV/zUw3uHrmdaT6yv4jj5m03Ux+jKzh7NR1i4amkdI+8aMA44gebOojHbxH0PcB5fMMHmLQhQ7Qd5DL7S+jpMeo+Uz4N7mekLDdIfUM+y4/Irw3KdbBp4myUrcsRbml5sbiyi57V/FQCr1eXM2T1xjMG0uOpty/Uv6NlQK1MO9M5d1vvCRL4OMck+CKiP+/5hwTM8WTtxcMemyqZn2W79zLtKJXzHH79S/uO+8ziPzFh8JX34YHeDmP8AsYPwazuX0P3PzK+Jd3xDPjUT5Y9QyrHxHZ3zGH/Oo/8ApM4wGfMz908O6lfFyvuV+YwfJcd4/NHp+IsrK5SxnnkhsxRLz8R776h2yM2juHclUUNwPW4qQbiiGJmjfdzP7hwLhzMQ8cx8u+Ix3Ws8cQ/nYlUCw0bV1DWebjK8v3FzM8csNVSgoibm6Y235ESHFskl99n3gycdzoPcW/iet8E/iYne81/qGMAQ9s7I9iniJGs5nSR/phn2fcfgSPTvzHs/mDau6jtLPMPrbugPhla3hzfBTI9f6vExCfKdoupyjFe+IHgHmJ6Yn+uPyrgiZaQ+LEG3vEOXlDF+zKPKB/mJuJ8SvlE3Hc2RInyiZeeiJvuuJW34lLXmXLjfqB0vxC4oGUe7l+G2+Hh/iZCsuaXmEv2ZtfMRpjHT9pbg3qp6HiBrHFN6fc53TRPpK+Mcu044MHxOA1Gyw4fMeg4l29+Zks1g5iodJVStG20RjTX+3F/4v+IA/TSn4nDdl04n4hI5Xkks0VxaP7R1/cRXA8Eu4lPr5gZOVYllv3GtrFOWYjLzL/dTmvqdD9A/mHmu7/3P/Zf3MRzcWHqH8OoepfUXG4vycz546lf9Rj6iDL2mze5WO8Svco+K0wLjJImYsLXzEfdxC3uI/wDZTnSfdHDqK5Z7YdunmOb74YqTqOXdO52w2u1ZfxcQNzCEYhXO+XJ1ACy43B801mH2QPHyRcsPqCucswFaOVx5grSp/wCMEvU17SUxS98E0OzfErD7fAcihOWJxLntx+In4v8AGpwz2f8AEcHw2U8wXs4C/jLhX4hn9IHO0658SrZV4l+3mZXtx2rDLAa/nPPpgmx8/wDJZ/d/yVduofmaqApZ4I1mXGWRpyGNPHqPvi6l+rSO3jc+9D9rgZ+Uria1B835miD0+ZdYryRN/wARN/zEYm+Yn09SvjxGE/8AEClYdzr8PK35iXnPnUArE0d8HqXvI6EVz7ywNG7auqjZgrijuU2IvU/B1LydKR57Qdc1D+4Zjb+wzV9QbPg1Nnh5LnCRThmFtWmvG673UriPiKv9P2m5R/nqO5/mdTktOAX9obOXA6/UaaCnMwjdwPydZQ6R94Uab5Q7FfKH7qtEmG5VUzVdzp8RG8+n9p/s/wBw/wAn+Z/m/wBx52xg4R7gK/OA+GDhnOE7ljVYmYuF9ojlm6ncv5UGm8VqVE/9/SdiQR/GCbhl54r9O/NXH4lEr8x+P8Tr4gyxA+GH4GxiFg6zOlECg/OHlSOhw0ruzcB8rdtHbC8+Onc7GuSeS4vIIXALPZHFsVjc6SHmZTvw2Riyo1cxc8vWMxKMzjFQFWKbrJcQ/wAtw+JvcFf2f7im1zqAZydz1nOQid7TUu4RHpSP4glvuxOxPyovAPxnKPxlaJyhD7i5nvkuXHDXOEf9E/5yV9TueZCHILfE9/qGmyvMKb4zKY3pzL9xS4z2EP5I7cVJofqZlESzxDjET7lXvEeYy3X+J1SGfSW9jBz1AW4vuE8/MCA4ZcYgz4MU/aJXPdy34Lm2egcpU9yw82PsphW4nFagexiwlukeIQ0mXNXBH8bGtwjN5VqtcXHnMDyr7mYKotbu9ftB40VWVvmaPBDAHCbB6iuanpUCMlqmI85D3jljzuNpURsY5VHjMh3/AME/8Ih2nwRPF9Rn7KkK5RjJ4jtZtu2+YV8HJie2ELQXvmVuUwZz7uZ6j5h8vib2SbrTbnf6Ss7qAezOYM+bnLAHP6G2kqmV+IFPUTXjmJSsT0RqZi/aYgRPz1Eo72hz/mYZi7ESyz5jewKUrzo9RR9M3zj1CQ2Pmy1/MX36Jecbg3rvC9xh6cRlhxlgIvUCzbp0xapuwYqKrUsSuYi68lF2F/3OqltzljX+ScO5xHonryQkdmrtjk1zV3DrR8pn/VPS+ZXAk3pI4qXZtDrsd2QHmbjJxW/WVuSdsGkrqjUXZmTiZcVZAbc4Ib/mLQvUr5Tg7eYG3iK+n4hx3B+Zn6mPb2jh9IfVHfgT0Nx/lUOF5xEzUvTKu4W5PkiY/ZIZo/eXnNOof5i+GSVqJ8GB59xOa+I438Q2bQPQgQPT1GLK+y5qz7J02XrLoat+ihqvmoOWq/62I8LUZnh7iabN9/3GrULSQUHfMXIlKu4gdZnDbxPrBiWn9yj9gzyLi9zZzzctPXMZcKYYmf3D7uCZ+WZ3CXd54jFm3GYQrH4f0ey7dbl37AjlyOZoyIdOVkfvqmH/ACggqdp0aYvNN6n5QvPcVqexxl0i6itt41PwGbtJOHoJWEo9kC4/JOrvoIbfMQA+1j5UHmp0RauF2PuP9Ul5VN/HM09ofl3NP5gNQrsnEBNU5i3LDRbMuaFB3JdNveohbH8j2SsCvCeL8ywYd/JLA98/M/kHqc2CoD74Ijen43N/KerRhIPbxbdSj9QT0Jv9xFEK4hb03jDMUrejU9yadJgYHx+sdaYvuEpOn4jmgO7NzwxWYC+FcdzYE6jF/L+gttxf+ovmKT89pL35T94s+cS1fKfu3Hjtgh6GN12SGqfc8pRCvg7ixB4g19kZvhvJcFS5WA+rcyXNT/MQr2hsOuoMQXfhK5L8zuHdxZueL4JeHF5X0SyLFPiah1m14IQ98RQa91kexiV5daS0OBOJXY09WZdd7rhmZ4z3msMn4i7zl/EK2CrQDazB9O7XmZeLronRDOo78hB9mUasKO7T0jvErwMJPQPMdTmpU1rE9RnvplQd3nLNID4Zj+iA/hmH3bMYjp5lTNfEXsEU9sI3Cw54Y/ui28y/j5jy6qaNu48m+YO4KxOS1St3miL0L1BZtFb8v5h8mI//AEjr3scb3iZb3llf2nyOoM4OPqGjA4lOCu3BO1meGW6w+ojhbRUDMaqm5htSkuPX5llTuB6eaZ3F9EzUMVy3EU+bnP1LLFLnC+pnU7eKbmin3mHEe6IcSvheZuOVvfonrd4lz1zMLGj5R6o2tMOUUytywfL3UPBTuECreYY3vEymM8xs8Iq51TmKyuOyf4EZnaPXlP7yED5cEr4axE/k3DlzBz1B3ZB+biw5zU8NiLL9Is+YfBUPtPxkbPRn8Iu0yxY4R/bNPAmxD++Y9uYT8yW8cwMc6uo37mZkVfSlEFogWqvHYvLWJuqk6mLoXSMr56Z3Q1Y7jDRAv+Kclt1hE0kKgm111vmVVdGIe1mxgZeK74lh3jDMNa0aqJMcsJv2SwujimfzM5hoFgfB3AqbPN+YWeNX8xoOtY+bTBpzKdCOw4ZgAzVEv2iO7LgMtrE7mGqZ7y8VOWH3LvB7lNKUVdRkXsz+gKz2xFMTtFFwd9z/AEHMMP5llwizrFz9yWZzVQtul8T4g4i5IJd7Yu8xZw0ebi7UXPc+Y/UOeGo8LeYjg0aj+wNw2PEv5Q47IdOyYL9EaoNXAFs2huyiLnHIdfcpAAFGAjXOM7uEgl9ANLzHB2ZflxTeocb71DX1i+xRzMve0xGdztlXRS5X0zjArkbHzB8HuXh8ShwTmPOXdzDGFuXZBNtDh9YMMULkT/Y+IA3n1fNxrN1YiSxi/BsvfcaPekbJ6ky9wH8BL/suLC5zV4zKdVNx90t55urjeWOiV75qK+TqeT5hC/iomiChlyrMz7TdPM2c01Bx2uDR3HeeZhe6j5OIufmXFZE36n78L9E3XSIu4705XMTLUu+7itaiw2shPIjBxVzOImmtBKYcxs0+IvOLxTipibj1zHuep6/qFRbr8XNkZZ6Ysoudc5dReGus4lr5bOo/s5hvz/DPcxDZztvp2QdZESobD4jWd9qi58G2HIGK+aMHzLkN7Zo3VergVhZRbnJM8dLdrn1WLxCcdTOanXqmURTTjT2dSp750uvcy5pQmbwxM3ZoQL5Y1M/2iXBlIyHFplMNtrWoftcaDAyzqmvMcXa4PlEbyMQYtsk464t1LDwYZIkPCp53P55n1E3eUM/e5sGdR42FnMXzS8vlxL8kcNW/qfmaIcngzeeYrnmDbc8T0+WWRwMyrvPq4fOHsYyH4ejPfd13wRtqnRJswv43O35+UHxPJqF/tNvE5fUFdQGuU3+8+8Rcpl9WUuA6pzef5i9jDTyMCxqTVMrud/zGAsDc3+Sc8N1t3Z2RZk1vaFuvmpfPmq07JUV1WW71GbESOnJfc0FjUcHD9yx4t8ke3pdEzwleZ2+o1dMhpEdkqrjJsf5lfJ9tyS96z0Yjy3xzuVexq5+6hKFu17qLn5XGUb9hF0bB0sZY9XuLTyCYjX1aZ+YubgtgkHiofhOtp7J+IVmxtil/+oj8RfEIP/BL1GDwxoZXB9BF/KGPaGtYPcWc3vgj3TEunwS22FnxfrDsJawscXDmgB4ju6i5/wCqU8nuCnn9dgPDi5ftzE9we40+F/yThzV+Ie2camxi/wDJh/aW6Sisxdl5dQ/2YuDTjUNXbhwPUxKKadl9/EQWvPxK3Eyq1dwMa/eO/wBX8qzzCQA6U14L6jS1Fr2GcyyW9u4HhhqrubxkY68mEmx3kSIc6D8anziUljHHiFz/AANJ1g572bMd2KLL5JhlXfW/zFTRrEwjrRfUWGjKgzCTtFajbPlJL63nma4qH8xUbl3f7zlZZW5+UcmnxmH/AKlt/wB8RlXaPy4l5/y4rHdxMddzl3FR8R78EKDoxUdpSdjDo6g0lhhxe4QWgMKHtfKxNY3iM/hFdfMUHnMDblzTFLKuqnzGLb1sltPq4E8n83X8xzHfHxLWun8Of5iyRmYPKvcMnfMPczDA8bI/utlUELovv5hgSDEfC5ucLKPlIvbEtqvTO6CHxhXzPbaJh/xCqVuu8iG40WiYqUnmdvED9gfmsP3HcUtHw2YZYnu+Di/xPNTfmZp9hcjO1mvuB2w4qMlduWW23qfK+ornjxFZ4RqzXBhsj++fQ7i/oQr3OaDF5rjzxnUbuOAcLZiz+Zfl8y5V95nNWeJbzyan1yriB3GG7ae95ga1rUvF4z5g1ZZNfEEqQb1r7YpHJOe4k/NM58+49YIv3xBbzu4pRNmYKZLr9RYbXzL/AHob7hz4M4ZhD2KWazqA/sIceTUWX3T6i/fuJ5Ehq/zB+28QFM32jQ8ka/Gi30I3+JS1YUKZriXekOOx/wAxueHj4ckMuat+JSuaYz3Cq59wcynCO4GqXj77jdaEyeEl/wDNVejh/FMTfdtiQbt9XjD+I/qTSkGDHCptiEST0PEyMBiLof3xWOKMfEuKMIvcca28ZluUvF3C3z4uDQl+YcXyinhOZc417jlGjGZfM5xmKmNCi0rdT04cmoViZ6++JeCUzdQvM1vBWWGW0pXR0sxTa4NfFTBrnfqXL2xAoub7ai36xG/tnMM9Ig245iw5sx7lb8hJXT0R5ZYiH4Z82JM0c+/ibHARo/c8RnfmnPjqHPZn3L9Dg4lb2PjmI+dVG/jpl1iefTLZoVFyyv5gmu3MW2fEACDFp9QSWXY7qtPojvSnMeyouVvDKeBWvUXdr1japVSsNZhgw6NmRlG2lBe9P7QuMpg7gPuL+LnUF8LqHsfUx/ah/Miz7Zkeo9z/AO8p6KnGWPJAzbC8TE8OyG2GvMu+X3Ki0ycxEKzUL7RPZCGf3EKLW8QZxpwkweGrld2nLL+/xU+R6JpNnXMy72SUs/7grPbPfh1v6jm552wp5ig5z46hVfBxObruBMGDNMRxW7h1E10o4YN9hmICLYMxrv8AE3a7/BNLsCsTGd3LqBDr20wXfCNVP2TDuY2vL1F2eGIvlrJH8otdyBAxyuVNSrPqjIKXuEocClUG5Z2o0svVfuWlNlDnipF8hjqGwZTDXMMnHVwTyzeJZrt4mE2yvnuD9DjxCOyDh58fUPY/TjmYrX0w4U+YY/GCBrMX0eZ2F1FsVj+8Xl1nUVlIvNuNMU5XkZW2i4dT6hQ4prEsPnct43M+rANV8JDM1iuotfL1C1967heFE0RR1nFF3EALoBvzDpow2eLFu7ZsjLsL5IhZbhn3vrcILFtEBW8O0jX9ROfH0ytaLijiHyO1lnhOHGTXUJtbsz7isyOYWlredwzzOT1libe+4Dds9aYjCqlTmyfwIPYbI/eu4uvLEHPuP+M1c5miXfi9/wA6hqAW1nxlmNKJY0dFM0we5M317l6rWhzRdJ+YJjnFkX9MbHTep4RW2DBNentJzOCF8ypa/NpPkFr+SFbpVrkpP5+pVnR4nkn/AKcW9r2zDk4kcG8RXuif0C/pw/KLC/aCS8cx17S4X0eIPzP53OOi6iwKDqWA+dXBiJAIPQ69ejrO5f3jr3loYt1+AY/HDMveN9xXV1dFsBTh8T+5bmyXR3FV8GvMN8fq+ZkbK7lNcubhlfBmUX3uXGYJV/DAOOuZeRkOppc0x7gf+ImblNjdtUyw8CsTtUPlX4ic2sQU+0N8Wwcs0ywgC5mkP6lmBJ0XEurdNujdfvDE1NtV6x6zYVsepsz8EyiNQTSlGk7Hcx1Wqt5z96+JaC03b6Z9AmqzPvlY/mBVhmEXHz5lGHqf8EfdlnTrlJqHFWR4GDRvpge0PcH/ANSw4ER44hwJbL1zLguOq8y3y8ri+hnaKWIdTeMHlmlT9PgmaWW5iPmV4PLF3x3HuKmZnFz3nfqB/b1NRbbKjkcT1LfuEuU//ZH8L3Bzclq7YB9SZAwXDCG3n8/zNoyvDOI/IwHkqX79T6Vi53snHIn1PJnOUGO8Zi9UCuq/1Sz421NXqo4EYsqhUMVHZqK+QW6+IbENH4ozGLNRc4w3+I/vwwT34gH8phy6YjkRo92/z+IhLbcfMeThbqZgCpv3OQX4miPqGenE+L9xzx4H1NGXwnEeAPc3HzXLt78ztWcUQ275P0QvLfEm2PdxlTRM/MNPRmfvXMrwe4a3DfmHU0w3cHftZlyDW3ct8EtMrbwSk/OKiOdrxc2Xx08Rafyx88pqN2y6WCec9Q60vt4jD5WxeBQviId9FUcQOxiDR0bDti4u0DqDd4Fxcqo2M/sG8/5Lp1fmdx2K7nswRfNeSPPvqdGfc7dR2R0xxIWzmjZtlkdi4uq5Lih879ScsQrcrEo7+5dLZ9zXJNE5Rxt1nP5Fwmu83GjeRxMz9prC/Nial7hUzzX6CfyOITe3ipzhP2pn1Kz0+oPW8Q+x5iz/AEh6wO6/qHwcFEHcfL1BxL/KT7BK1yxLP8yztKiF39TlWYv7zz7vRLGGI20RPGnNbiZbXEDlcXyc7i9DuMHu7qN23biVe3UWGeLcSj1Z/wDIwiPL4gzD3ysLmlzNxpsV5nk5aioN78ToEN9Lf7z/AHuP5S912SfIxD4cx3xT+IfaCG3Eongi92M0eYt+cxpTdfiOqKPOHf7xK0wfYdZi3wVedWYZdjARu64IoC5VtVd+4q8Y++ufqoYHMUOlFwieeE6Zc05wzoF9JlIuzMeTyyv+J51E+bi+jLw9oB2S/Bi4fzmN/LE/1y7PjEaizeV7lZOPqcfuj2L1FT4CD5Je/UtALnjOaykDOac39R2WRpxc30axuL4FZOpvpp+oS3PxMV4MWj135jx2IsOaIGmnuHJn0Q2eBCUj3/EPdg1Hk3Ur2vU20qoteI0s3W7gOf3j6MERizTP0kW+Nz/UxHAKa/mv5nPCtQ7YvbOZx4fmW/fEWxhmsRTtyEfxKptA1iLAKaut6qOPoo+NqUIBFFKAFx7B5qPAzgC5gpO41U2Fu1OJyejXmLpnWLl5Nz+ZVps16mC7sOk3+8sv13FYzWZee8/oV/8Abg5Zi6zn9C2Pl7IO/pF/1wd51L/BL3DnjwxfSztdbIq9W2YgAKaOp29TKQzDldX1HM20eon8PuKbo3mB3rxMdnp5ib4dMTjTFy6Mf/SLq1HnhTjzBRWep1gArdErKDFviOOvLfc9INRts1eeZzrzNeqnhIMyoyPPieAxHwn/ACDXA7m2WcJ7ag9Fi/Lpg58J8LCu/WJe+eYz/wBiY1rE5eY3vVM5XTm05mse9OXrUTN64MLFFbTDrierpqs/MaUAu5Q2xQNN63cFrj0TNcgSZGGPMOjNXfRcWvd/oh+LCXvYY+i+pUGL+KlXmVriUzM+YHtXFQ3Le9+Z5AvuD3HUT6CNDfXLtibE+M56+o3KBeLi9aam0fgvUG+r5mVXgaImOCxs/jFksVx3E1yfgRC7TuOx+M8cnczWEk6XlidVtL34gxxoxqJm/iDsE6O4gcrdCRGOuJ3DPI2PU7xWt4f+zPPeZ+W4ZXd2d4v+I3PEW9TDnJmDuD5b7j3vqWvs1LV5imWeUJYKwyytKxm5PuFgWSOXDFgs8+SvUXQN9is8RjOKNm1x/EpXFgniD0KY+xtxdu9QjFB0+I89rqmNg13BcO9+I8tM/nzMQ576gwF/lL8uoM+kFrubQQv2nr9Svc6MQ6QqtT5fbF7i48+TUem03c+bvNRTjDxU8wZ8wMkPn46lXjERfSXKoNs8jbDsgs/AR6Dac3oDlgxmD3ZjtagOZSzbeoontBRmKa4ZYYbYMcS//DLY4qY8u7mIE1vTzOwOP1iPqcfwj6RP5jc2YXMO9oiza/MaxGznUXbb3L/3cC/ipiwT+JVL+0ujFTW8pY6lxkVQP/JS7k7tMv5hGDBOLOfzGJL65vmz7hZbh8xsfqpgy8xmS8ZqGblxFE8q95vMDstuI3vqGwvFS/aL8E/f3BzpB+fJFZbFg8QYvbXErzXllznu474sblFwttcJ6NzeRcvXqbaEzHwz4ICu2GLS8Loi/ASvh1mXRBy88R5yfcX8bYxNL4uQ0QdXU8WzHXWVZy5aNLOD1MDRQqnARLcOMlg1Lbd8z+Jioa25L5WHwXt7n5/iHOlEq+183F3vEfkiV8TgPF/Of4xB2zL6SDZetg7sg2854gHDqL/IuUcquX85g5hz1LhUGeKsr5zKSaw7cY/ab8xHS4w+JXfojRSx/EbKqrrpl9tBOAdV+It0s68YP2ja3U9uSpco8JqEHaelUWvcCJO+eoxrY15l3gZ9yUQMuURy4IFnUqk55ieFx8IO8xVCX2gbgZvQvWcvxCwGrjby4261p5l5d5lUwq9cRG8/fUvHJxH47wMBA3KV1bE+bzFa4xyQs8kd94hF73d5jre9pi3qWbGKOsOMTlaDxLLDlat+5VnmxjcHypn38RfSL13uPNNOZeXnNeocfQS6PWVrebDRm5gADqB81ALm4e7gwXzMQwKadbf2MJ64Inko3cbLm4h7aqpdf4xF5ZqI2ficGXg4CTARLlnP/BDjvG1Xw1LRJWdocB+YtMtz5Os+YcsO9puljwQBNBUq2sdQfwXCtIMPeA/iLxja9EOvTmcA8Rcpp9THvom4HgRNyv8AqUeInyiGe5Z/6g0cEvLginm5fpDw9Mc43O67ZbF2cNcQcdnGcwudnGdQLOSqg9C+XUdIMXHwHeIvwb3Ju2PBBrYVrzEl7ebmRtEmrdmbadUl544gxPcfEsvVCceYAFE5ksDTjmVu2ypfX0uOfgJD2X+0RbzmshKxvnip6mY0rSasE4Pdxse2wlpo3LxdLuxqJpzCVxxkFT6Co87y2TI0+nMT5f2hhdmo/nzH0HcV8uIRMa5cTEWv1pnFRvZG3s8v5jYahM3QuviB1N4q7ZlDDSbNpfxFhtQbo5mY8uI1DdG5/wATqSgnjEC1u1it9zdNYn9n6LlLl0d/cWGzae6L5Tiso+y+o3nSG34nLDDUHAKTgIMkhW9amdLS1ejiPwHNEd7XHuI/xpxRp/Eadjwx+EO7gGU1olmV5l3JXX0dz/bgb/ubfEHBxNZZyl/EVr4WeImDtrXUAc6rIcwcr1xFftmL8kX1hxD+eZ7NNOUWPpjxgTFxXU00/wDYGu8uauJeuu488GIost8XC14fEwO3OI8fjEcZAo30lSt2wzN5phuw39zu8vMdiARSraY0Oa/MOTaCuIrBgYPT35xYCNU2eIP6R3bxn6jduIo6m6KKxXULrUpjMFA7RjiXvmo14SzP9Qi5Z5l/o/5lPcvfllnvuP7wYqO96XuBM5xu5mUkyTcYrUwZhOahuWO4kznMqjzPwMMyC0XtUxuov50xW4uWyX4oKLNEBk72aMogjaDBA1YUUYQFafQmb6VY2pfjEP8AHj6SqspueqVZSEWZrB3GgN8ywh+Le5evRiIeAahoEBpE5Hohw6fTSqFJROIg2+yVjBOTkf8AIpnFMUvzhFBmfZzKs+2B1PXyuGrTCNoQ5GbUDdI1NEjBAR8BAVJRPA7wKim5NnEaz1pKxpqJraKGxChrzm5UNgEb2rmFWieZTbxJ0lhvemS9XEH2LccYxysXCc7hOCdJWvMWzgxfb4uEKZWUR9eIjFQOi8swz4zxLlueI25LUe70G/eHQtYosPMsmBYMpMv2NlR4X/caO/VjkG3BjBIMvQALESy9TNtQq13EINFdPZ7nNeXjLsJgosDbMTRV4n/Zj7sE5AugDXBPKCSa47hmo5ljluFMz+vuF1v3s8zy5UF5sJCqQc9xFvSkhEaDiY7xVQyWj7FTRhRXYVl4JvVLaV+WLwdlyjEGDTMgCHEELnNiAxe9zzYVNqHU2YaeUr8s4z5AhhI0muIhLIg3UoW4ROS7gsIBldRsjzirjhbamXGt7BdCG2CFUJ+CbowB+/mBhKZjb40vi/LGb7Dt74PyJLzaKU2U/RPw81ErpDmQyvamkx/c461rU7TIjKK4v0vNWxWWChbX7h2qNjFktL4i0xxVehDLhxMJ8UIldlDjKv4ys5su7/2wfccKuCu7uv5siLFRujVDYxk3SFWm9gSDtN8IJMddFUE13mH7ZkBnc+L9eRKSJr95i/c+v0kvoys8RCK8VS2+FOMRHuA1k+Ir9sQToFvYkoxOY0uuVv8AEBwiGTBuOW8T0Datmc0+SRlALdJqakQekubWBP01vbyPSA0pHI1J2H6glsRSJGOJuLqgWBLHiYlAoPNxWjlTy0fM8nvClCsGst/pLpnds0FtnrmYDhsFyVGDLxCgtpome3aCVB89ulAD4Iq1kR4gqdK3yk+t1noKgsaP/XuBG0IeiFk59+f5RH1CFSDiR4cKq2igj2NY5ZSfjP8AY6xdxdmgFx5ZtwzQrdKQ/oTSyhw6BPuRtQU0ARWlRQzYPiw+I14FWlUO/dRAuqdiQafc67gBS0d4Dt4JTE1n7z0HWZ9iWu1XnQRVCoA4K8sAONdy+O/MqFQYfzK+Ur/VL8p9PEr/AKgR50PmXyaivfiZ+LoSBc5Nxd82YWeC845hku3x1F3e4RrUflLPQT/Zm4fBAPrP8fUsw9ehA/dNEqX1/wAqaKJnn9DZvImaS6/WWyKwUxSj+mYXSDvkitYAS2HaR2RLy07Ig/aVFovB4mbG7/Q2Hn/TkHY6lNkaqnzmjB52KfxnF4a9r+IKWYb4QfYnMwH0o/R4XT9CP11ZX5eP+x1lxkVRuWhdOyrzKXhHmLUK+cWLVn9Ca4CvJw1X7LK46ZHH8kbRwN3GeC0PG5X0B/CA/s8LHldUUdQ/6NVuM1RwW9gdPfB8Uqb51zidGusRRwPNxphL5ZnmjsYGavXpvUAxZTGO5myZ/cYr57iPplW8JU4eKizMv/Vqcdxq6pfyNxK8FGsh2TZqs+M/a1wQw1fKR1ZG8x30vUsvG36m3L/r8ME/30Zfctq4AwIeZ+H/AIBiFUuTv+UH6J8Oxj8tCxrA9v6y0qKR0/E+JEFSvL9KH7bnH7z9f0CvqV8/6Ww8/wCnIZwBg0zDXNhDLME80zazPmjPzGyGm+w/LHRTWzqgWuCByhN+B/VVle6JL/Y6w/freMCz2YYNPsIo/RmVc/WE/I+IPhhOBSSgYvI9zQlIX6g2LrvYo4JWRxB+NvGAOhwu7gMPk0KPv6v0L+47vcfxLvKYE7TDuaItN28zp7IPiF55nzFd7htkZfmG3n8Snuu4nzCs6nw+IPKp+pV1pH0X+IjNS7tnZcSyq/UL+nqX/wCywmwuErXzh+5f6PcQQvAV/ln9HoaB84qMf1nEDZUtlqFMOqd7KDT9DV6uFdIG/Av0DCOAhekPA/onGmcf6SDKFwE4EsnL/wCZcqv0kyngDDn+TMEDmr4QU+4ydLn/AEal9CyV46Si3Ebm5cCUnwyznColODWYBFSjMoPeBX0n+F1/TZ/s9/0RuD7yBD9xE79aIfvOWxZpqL0Wf3LGT1elZ8MrPbcmgAaAP5gtkIWurpZ17TP+Zf8AZcYpLad24invOx3ELiDhvWZdFXaNkWROuiX+YPhL9Etf71+nzLaCxs+n4KzAWqdKLQKzQM5WACCTJwN089IRUB/chVAF8n4zGR4ghtrDXMxOvMwpo+JeOI0EZEGlRRcdDUF+vpxDnCdmyHOS/OyWXPKqnbN5MR3xqX9krFQu3aCK1psJOOKNJDssurmE3Rejcw1fyKJsUSbzpUre1XfLN42fVWAGWKxiYPdk1V15TAOJPTG2vwHEANjMzrl7UikhYqPKCZEsrzLwdN1YKGEb3Aazq3FF8UDG7ugB8ENBfEhA4CaWSZ7uJKnzAUKtaPMS15HpULbaImXJ7K3VE2wPEW+4xKt8bgqnDk04jfwM9C4jXfkLyQyMqy+i1X5ZgMMkyhYUw8MQkoDA+aoAPALAOsIGW0TE9Z/IIjZP2au2VEE1wNQ9lBgX818peYZLxC4kDQw0pC1s0IWAygRBZDIcwj1CU7BZddsywxKqgrVTRjwS94U+2g2DwiEaczbSu8HxLl9t7+1ZZT4yxuuo8cJtNEXSAWrk4ieoNlX3FDjiARWXczNMXaA7Zrisx46IN9OpX9iP36n4lU5ZTMNfnGXW9w5bZKwIXFgdDVtxVrO4MbXstsXjWcIIaHVLhLhAqc3ENIpWySxNhRO2b0uoQYOQbuXSoq3zHpX3F4Xjt1HO1o5wzDsM2G+vd7jjcHSG82O1yZn7/wDWLdn+SdlOYF29IvUNKUEBW/4sSURxRA1Al+OGIKQOG6k7WYbu3lmZVmb7c6m5M4FcTigk6iW6ESsVHqPlx7i1vXwzxFbQdeZfgp33Fj2biA8fIQ3m83XkjdGb5xEL19zAA/ezYPPDMmQZ4iWd8sHg50x/9n/hE/B1BVtgt6ZQFVz18fUuaW0DNrVTmRLY47D6isbSHeoup9csbyr4N+eyIARVPj/2fSA5i/O499e/EolrjdI2P3FJwaLxpfTVRQ9BzuoCHN3l1EEua5h3irfLcr2l/EoieyZ4J//EACsQAQEAAgECBQMFAQEBAQAAAAERACExQVEQYXGBkTChsSBAUGDB0fDh8f/aAAgBAQABPxDx/wD9fhKzhSK/nEhdA+ESQWnamFrSapkPuvrIws0vLzWtk4+hoPfFikmqvPIe2E3fFeVMlyBwcDJYC/nAV1qcwf3Qmf8AcpgSyn+5ckANAxTT1EIfOIRKLEcgFfYzZ0gjO6YPnORc7oPTGRRSJLiweYBP9cBqlUmFF0S5eFEBrrk1sND7bBnbAQuxPGNtBsPYANqugM1CUse6onvkqlTW4wYDGT/uDxhWA/nGw7ZSWNUbWDV980QZUn/cDLRCB++eaAiZghPd5MAhPO5SU9XrgD5JgpACEyWAtJwKpRDd0QHPTOccmMNDU6dZbl4OT2xTe4BMLI0dnA5l40OJ0LEC/wC5o68xkKGRAZ/uOBNEN/3FPysgnA1gP5x+yeozHeHIPVHEg/OWTtjy+nM83b//ALUIPy37YqjByDZgCgByuEegRjdyPBBObki4lCCEFoNitCKDqIJ2opNA7sgIVQBXDMzQmdbY6iAjRBMZhYCaNKgodwVaceXLz0A/OLrGTsjGBr6P3/4431UqXBJsKzibcUkTEvoH+ZQByQTmpVL5LDm4CAOFrWp1EAAwVdLpyeQeTYRBYwIsC2/EzTGN9BFiwgC+QR9jG2YBA51/24NhmJyLySNEuNDClsIpzhubAXa1xDdjtITHSgSIiZRULycv3G+aC4BQrSCHBapkR1B4KkmrcEVeWEBkBHCltqSJhZL6gGkfK3F0GPIB7emdzgFiKHQ8oBZr+yENVewBgvbmVZE7eJW4ulR4fziZQBfUn84F5FcJ7AsBEBC4K7rkgQKcoCwtFdY3NCcTW9BSwImA2j6amI/JpivvNRAU9BB9AyIkQDhnlkhSU1Vc65cXnBfIRNhvYjiqGvumNNTA0xIsC6Vo7qzkBK5iUKZBIEEbkzqU+4BEDvAJurEsd7tfwYiEDqsMaxEo3Rg9Rs04LHy/fwheAnQx9vnYkN0GovginrTaXftcXttfp+va/ocGSQqJh+CNVD/54YGrfCYaA66DODXhcQjoc59vvkoqK5Vi+n3sRGFPXZNPjAEI03204cgtLuWP/O/giI9E9Kdm4D3l8GYYHusnVcHmbD3DF/Nr/jIp7YSonyQPueF7HO5JeSGh+y4q2Il4JHmYigqniC0Pjnd4CWisneJkLaHQn6M/HhHOfgkC9UWebGX9NPCNm+cLmJNC9O4XE6H2dBQKWgPLb44pMbedyuYBN+XnA5yeuOXKLAq2p4XQWXmrdXrPYMFh6ghAREFyqwWsZgE1hB1BERiJlUK5My4NCLCzgzZtYJsDPy5386uG8t7E5sWJsfPNwpmeoi6S9x4L2axyOhGg7DlBy4yQpIBRX2HCgOZ7hH2soAwXRW0982DII5PjRPbBOvUGhn3+FhdnUXmp5HzYVHJKb9Py8NUIJAB5WdmCHl9SVfb/AP8ARwh8KMpkd14TNqhy9lNHJ+YectOMjal4q1a8C6nFphoHrjNjdzIcXwGoRLOxwjkA9JccmYwiBWroII7gg+p3wa0cwfUso81zl+JxhTxghOI9WkyoIAYFPISJ1Lm2cXv75WCHCft4ehI2i8B1Ki+eSjr9olOfLkEBpensHFPflgAIIlE64K6JyxajoEL9T3NAMhnv5btWr4RQGkHihSSgGA2EHE4zwMQsgwlMdjImBU4UNQDkgHdSKYoaM2LhOiIj6Zc1UqvNxI3RT1y6ZsqMAKIwALoDOm7cfk0rqA8LFuL6/clECE0VQwNk3h49XovYysNAKAwWj2nCbQdiKBUAqh6uMhFBrtDs65+cpdUF5WT5qL74VCuvCM+d6mAIo6PMB8q3qGUcHza+B8cfq87/AD7379+2mAPGceE5aNjwok3Hp8u/fEpiu/8AOPAxlNbsOvwYma6d9gD7TPLxvtLwEHnjzMw/ATsDrnVG9d+/gHoc7zCPl8KIQ+cW/ODQnmVtfsOGF2wFmiAirgUrPPH/AAISgNBeE9euVo6NgOMKBeyx9sF3LZ4+BEfPhVjoJnTe+deCS3EurLwKO3AYhEz6hVXqrl4QnasPIFHqvhN9IlGoeQ8LoxG1Ya32BXgB0xXjLadNtSYqCeEORfpLoeij2wc+ovBv8cFMUDDrg40HT1IX5H48TK9KSKHt/wDfCaqw8l41dxJedGSGn4FFb5ZCMMBwBwZ2FKTYc1y1pDS5ElCdlL2TnL5o9j8Chh1/qpnu/vvLfrPv/OaSiU+sfxh2VKHo+DVSx2vhKpsuWK498zmjTZBIFDyDDcxk4kadBEaIIiZNP3RsFe33Ueq4krCiEFkYU3aiIxz8HfVD8YOFLO6kYtQhPb/rh22mWbDnSGVYtMCCetDDLo6oIlc6HkSxUZQYTkIiIGyqTNmXMHfaodWEFYFcFQBYwIlShyK5ZwZ3Teih9kycw+IGYiXSrOjcw/agbwKAORuYNSoIbEHFn/MhKr1ipVVVWrkVfiTowKhEsCmgT4XBYlXXqq5Bvk6vQQhvaEGoLowGEk8cbO4OJj7gEJDs64eEKOyC4Zil6tH5Hw/uf8eU4VzoGST0b/MDkeMsWo3YAAbIs73US6tjoLQQbBw8G0GcV1VDhSoVy7R+gJihQWDOmP0ExTgY6iI6oKXHIUASpyHIEI0QdYigQUCJVAAu2UmiKkviOkKOyE4ZO5+jP5xDWxnyyDn1cK/kx4ZORKY4iCQ3726/AEKgylUKQENdxzimKQiD5TBaUSRS4jwjdeEKQW/L6t+0z80SmbzJH+YXGGkE/GAEpQKJi/28yYlBc7nACo6buafPqk8VYuHA2EDsLUMZAHGnGLFWwhhG3Eob+MOCXEHACA7R/mLF6RSf8xSl8kBgCoOyNPjKc8L7gGx9MFAANvNm0awv4icqPnlp4uo/zA24RMwXIUfGA26nQ7VGeVyqQrJfMWpwZqBYYDEMyntAmxHYmcA3or1noOO2Ko0qXzGm82IKhcZRYWhCm2usZrvvVUeF/wDNiQIfZyovUDTB4zJNA9cdEy707dI+2IkWxT3Ta+uIRAQOmGl7Pptij0OiQpvhyPETBOaCvm4NYGIXn2xvA7AfjDi4Spv4ysFGxEwVTnZP88HkD7qnB2ddhTHmWkF/GSA10MMUMpAgn2xf1tiJ+MJjLp+qf+fuz/HM09vf/wC//wDU31/81nvX/wDfdI/z/ef5e+//AN+//fO/763d9/8Av33/AH3+t/2k/PvX/X/5+P8A/wCLHpv+b2v5V3+XFfK+o1nk7P8AvW337l3d/b/7/wDVL3D833bv9/o/vn/dxd038/8A/wCr3p/5xdTd/wAv/Nb0+n6u/M/v7d5S/wDX5q/1+Hvkf+5316eMO2awDOOPO/mHW9nd1v8A+/yz37/db38zX/e1bplc78Tzj/D9P353tv5vXv8Aev7rsH2emv8A/V9nfzv7Ob63z+v/AG9QC8fox+P73/X+C8zbf8fX7vd/9putmls3r/f9+38+/c/bf/H/ADxjNsRX/r5Hz+//APZ8f8n+2+9/2rtz/ng1/rH/APv/AP57v9Pv2/x/76/t3et8/wB/P9f+/n9+X/t/r+r8/wBfrzt/+/nrwfa9+/bv2T+Is/ox/a/86/8APc/7b+d35f8A/wC/qtv+3z36f1+Un5/P3v8Au/vvF99X/wBnP7j3vnD+r2vOvHb9H8NP1d/91z5/T/l/1q8+F937T/8ADd33t89+33SP7i8/+ebz7j2/t74q+H8uzvn9yu7y+/8Av/Nv8vBek7vAP/YK/wCvv/8AvPP/AO71+b1Xnf8AwfpF7X3vfZ/v/wCZ9H39/wC7UXv/AOFtvv8Afn73nb3t/sT+o/d2SO336/7Evf8A3z/vv56/7n7n/wD30v8Afz7/AH5fnJPGD1S/7z9P1ddc+fjs5+h7/sY5+vP1/wB7P3/12N65/wA/3/27P3fHjL//ANxv3nv/AJXpvDrW+f7/APft/wDsfP8A4rP27/e/95X/AH5T6QvDP2NMv1VD6767/sWH+fux7bz/AH/xv+3v/wAm+3gyzWZ3PG2f1/0N9+/P92/1ffVt7/77/e/9/v8A3xP753/quf8A/wB/zf8ArZ//AP8Aj/u+27P1f7Zcz+908/v/AMH3/wBtpf7lnwfPh2rlH+/vJ/vwv2u1tUXV73183614+5zw987wjpX8Lvf/AKfn/wDv+n+/6/7r/WuZX++/97dz4X/9v++uF/51+vX/AJ3/AHsk6/8AniXnx+/+6yuk/wClud1neZ+v317/ANn+2vR4D9p/x5f/AFv/APunH/XP++/1z71/j/QT/wD/AP8Azv11s+bv1+dJPPqWa/63n+bL/wBH3m+933X49+7n6v69/P8AvpNbvXdjnH1VB6Hzf/AfF5n54e+3H89r3j9Z/NxW+7PD+n0/7D//AOn/AOv9f8/re+77/r/Z9v8A/wD7+9z37/E8St5Wqm+SH+69extn6v8An/ox37373zN3fvv/APt98f8At39Xp+/Kf1V71dufftUMpJv1igYfndS/rfzLx/gb7h877v8A/wD9/uvd/wD/AKz9z3/fte1s+NPP4D/cJz/wv/f/APe37vf0bhXt8/8A5+z+/wB28/z+16/3v/P3T/P7f/W8X3nh58DmfAn9X+dD++9+L/fmX6Xuuf8AAhV/kfTzv9d31r7/AP8ATfxu+/8Ad3S+7/8A8s9ZHzf3WfVY79P63s//AO/86/8Ac/8A+P8A/U/3uUaP7RnT+/8Ae1u0n+in+O/x+nUH3g/Pv8f/AO7/AP0D3b/+++b2fv8Af/a9f4/9+/8A/wDPtb9p3/nr9RX7/wCc28rzfq/yb+/3/wB+7qXWfNXf6/3/APc2S/sXHfgzre3neWv13x8uvX+hH/z+dbP2zv8A+1/W/fH/APKvXf1PmO2d7y7/ABL7lxr/ANW/7/p1/mF29K//APx5/wD+vXf7n/ye9vs9/wCu/wBbrpX33f1zj/P9Sj8V+b9vveq+n/u/efcXp/tY2f7+/wC57/T+I9c/pZ2vDjcHTPW/rv8Afhef+2+//lu7/d5/v+//ANs69/8A9u9rzvf/APe3nrap/ve+6Hjw+/X/AECf/wC8/wA7/wD2v8/f+f8Afv8A73+x++/99HPf87f8X/v/AP39fd/CzVzrpmLrP3dP932/2e/f7+5eLrK+uj/eP9/6/wD/AB/uv+f6utroX+hf++78/vn6t/603vzk/wDX93/12r+Nb+5d1/fn72f5/lj7v/8A/wDpv53/AP8A/f8Alq/+1/cZ5/0Bp5/d85+071v/AO2fv/anu/8A/wC/PH3/AH89+L/91f0b5/8Akfr/AN+3z/8AH+OVf+/9v/6en9WvnWX/APW+8r93n8//AHd//l3+4pelfL//AMDdx/8A3/3me1fKZ1B5vYr9/wD/APX/AP1Y33/M/wBz4/r/AP230f3eff8A9/8AB7Xn4+j/AO8933576fqL+t7v/wDd8/vF38f18a9/da//AP3/AO/revaq/qvP0/8Aff7964Z//wD/AL//AMHd/wDTX3f1g9P+9uv38/A9+sn/AK5ve7Pl/wAf/d6vfX5v91f/AO/r3oxvcvR9rkZP8X/Dy3ff+65f90v/AP8A1+vH9u/1tbna/nzq73/7S3c3/r9uo7/2v+fvTd6iX7/41z9xb30Qf/UD+/6nf8XP/wD+71z+3ref/wD/AP8A/bb+/P8AvD339PXv/wD/AH73f2f+/wCR/oltF+/Xx7663/uv/wDX7Ltfv83/AHvff/3/AJ9r/r/p/f8AvPdv/P8A/wC//wC//fjXrd/389++9/8A7rO/6f8Av7+r+z/933/CfN+07/fv7t7mP97+V/ef+nL+fd+vqvz9/f8AP5/Kv/v3v+99+nvv/wDPSr6f23iv/wD/APtv/e/+8/8A/wDe8+/dvqPf/wC7/wDd/wDbn3+jr/8A/wD/AMv4aTPuv9y8/wC78b/u2/73P+ub+74/ff8AE0d3u3/V/wD+seX9eH7zX/lCb93ve6v/AHn1qT/tiubftvP/AI/X/wD959/7+v7b+D/3rseP97//AOd+9e//AP8A/wD9V/rutp/49/377/8Av59T8/3v/f8Af/ev3P3/AP8A/wBc/dev/T/Wlm+37b/r+fr78v11/c+/X/8AvDrnbueP9/8A5/7+2+5fe89/r7r795yHdu//APv/AO4+5/8A7/8A/wDPfvd5/wDaO791c/f9vv2T/X/ffzhf/wBv/f8Av7tyevy/09cfv++2/wD/AOt/z7W/93/LJf8AvLPx9C+1/wD3czp3v+3Hvn97/wDS733fu7f+/wD/AP33+Pz/AO3/AFPdtf8A/wC5v9vfX8zf/dn/AP8Axtv/AOf03fe36+ev/wC/e83/AP3z16L/AOT4/wCXX76/7+N//Rn49+nn/wCju/8Azn1/3f533T+n/wBN9/8ALX79fs/5z/r/AL/rfvf9/f8A7fb/AL2s8f8A+r7tnv8A5/8A39OrD9vsfM+X9M/DzzP66/8A/wD/ANC/z4dr9v8A+bb/AP8Amd/6/jHP+gZ+PSzvZ7sVy/7f+cfUfv5/9b//AET89f8A/wD7v7n/AP8An5/r/wBf7f5/54r1P/W/09/m/wD/AP773fvrwm9/Xsf7flf+T3/5+9dsV/8Af/8A7/59/wC/k/8A9kDwLP3nuZPoKW/c272f8iZv6E773vr/AJ/77t/7/wD9P+5/z/nfj/1/lydVivv/AP7e/Cf03z//AHzPK/6yd9X+35r/AP8A9Mqf/Gvf5rv/AH//ANx/vdb/ANf4L/8A+Dt17Tlv09361/6F1/31+spc1/8A/wA//wCxuJ//APz/AH/r+/8A+7f/AP5vqv7v+/8APb/rP/fv/jV/7cp+9/22NPf+9uu/8twv++u/0n+f59u+u/r55/P93433vur/AP3/AFf2zrv/AO/mtN7keX71rPF0/wD6/e9Hv/8A1r/nQH99W/1fY/8A+/t//pXf/d6/+P8A+9O/999k/v8A5/8Af6/d/X/KV9/5rv8A7Xu/y+d39/8A/wC+/v8A/wB6v9918/PTXn8B+7P8fzf+3N8/b/7Xvf8A3bvv57X9/wB9/v3/AP8APnn+5/u/9O/Pv3/s+78tv2/12f8A537NM3+zy/uyv/5//wC/2/Wf/wDz7f7+N+9v+c//AP8Av/v3O9+Q+/5r1/ffn7/+/wCffy+1/oX/AN/1/wC929/2+v8A/wBxuH7/AO//AN//AP8A/wBEf8zj+b3/AG9mu/S6r/je/n//AP8Afday5/8An+8/r/su/wC+/wDn2/f+1H91XuZ/vN+/v717f8te/wCX8cz+67/f/wD/AN+r/wDfq/hu/v4XD9//APP6/wCD+tz38bPm/qX7ZU7l/r7/AFv3/f8A6+P/AHv+n2z/AL/87e/Er8/7/t/3+v8A/wD0Y/d7nmvV/X65b/etvs/N/f7/AHev7/S/7wNf7b9//wDgfzTn9/n+9sZ2W/pe37vhf+eEgv8A0zv/ANTJ7+xp/wA//wDYi9P+/wD19y+/7i9/+n9x/wD+u/8Ahf8APf8A3/8A+/e+/wBf+/uv6b+89/J/7F4+76+//wDz/H8v77/1/v8A7m+v26//APf/AP8Ayxk+/wD/AEp/6P3/AGpsP/8Av/8AcN9va5/vvwlveR1//wD6ry4uv/8APZ/d68f+tKvt/ev/APT7/wB9Z679p59+/wDfXb/6/wBPU7/J3/8Aed/f7/8AnoVM334b3+KPH/uPe8/jf9R+fv8Aefv/AGdfwrvdepv7PNP/AOF0q/h5B/8A1mvt/wD2v/8Ay/vt+v8A79+/7s0/t8/H/wC/6n+f3+f+f7/d/wD7/wD/AFb/AOFvPn9ve6/++j2/nT//AP4189D/AMbPz+nfv/60D+//AO//AG/z9hq/+3ZZ9z/p/Y9/+/b984vf31f/ALf0Vnf/AG/9/XP876f0X7Xzv013/et/Y+v57N1PS1zb9/X7PX3T/X8fn/3n+3/ip7i/+v3/AF99/wC8/wD/AK//ALPv/wD3/wDz3f8A7d/9/wDf7R++/l6y93/0+3+vB77+x5u//wDN7XyvPvP/APz0f/f7+n9H+/8AU/8A/wBvFe5hZb8/+/8Avj8O/IZR+5i+11V/Oa6+xB97h0lf+Z4gwjuffhB8ML8uX/Mef+5JB7pPzido+p/OJ5jxE/3N4D/x3zlkLj88KGnRK91xkcFDA79OedJRPxceFTZj5MlluwR++OxWIpfnDrw/P/cSUPn/AOmK1hz3axzTs7W5FB6nBuBSYY5e1xs+7gxdy/inPPBMH850Hl/HLjaAuAU+MGrjAIfvkUbsAfOdJkKvk5wrQa4DAdkTfRMWhg1hUs60ed4j7KtMu3BqlyToha5KidhcaO019HyI4EGq/OERHSP1UlNr/wB+5W9/s/4P9/xv+9fjm/8Ap+l9l9MG+Zt/PT/+/wDuL99F1+S3NwJqEtEd57tLjULaUEnMjmLWFNbv5GfpsjnlbRzleWuDt6soRLZx5diAmN0dAYF4/JKuBDp3FCNltW41/UaEaJs1KewmV+j0XbKagMCM2OaJXdrWFwmhZWtcITt0bxjUMPICq7RloQCADa6CY/ISR2urK7RztvIUvxi9FkaKYOILbj03ZseUREUK6r4OxY888av3xmxDnKtR3iFNbRaYuVgXlW50Oa6c0mloDrmXHA8M2Z2qgA6GRTTbuTCQ7I886ysrrLjSgBYBlvayCUsVASkORg66nWVW2w6BRBTeQux4A4Cxy2d4HNY2v9gOBIBpEoEOl84Vwwg2vGHnWAz6KGbJrUo77hZAhEMEpU7anSbdReFgZBiaQbkKsbUtI7yUSKK9ooOg761SMKqDQ60cS1PVkSOj3MKNhVgLJXli8lvo0AoeeB3BzyNILOEJXAAgDQ+jz92f+0vce1/Vf9//AP8AM8e+3fqz7/8AH26fv9fTr37ves+67Q68CGS5V7IY34qJ2Q+ziJY7dCr8/wCvAVEQo4LvlL7ZOJOb1Qnuk98ksgTfP4yPUueOEGOO/nNY2WgVCdEweRFlUg65im5oGf8AOf8A7NmRRhu164ObmzwX+C5pw7lNNNaM6IthpKFEYALoDApp8g7LKKCGuOc5SuLMB6MjQGDje7yKD7r+MYibHKfPfX3w5Qi/EY/GFC2aWB2ScIj2CH2MFgefManknujik0oKwDYiCPlim3VgVR6BoOgBiVETaAs7K/t4ETvwdWSVIHroSxmHoo+gonaLgS2LTJPGmhXb2DFQKXl5fIA+2DtG0e/uR6cSF8DmjoRq9JkTqUiZAOTLqubYAhGK9ysZev7ev/6fMe+U/H/T5Xyu9d/697vf9+/3/G/99OI7QfIYLQKOsS+GHDDGOf8A3nkwl44cvF9X48IPQjOQ/wCR74Bal5jDj4XtcELtmPwyDT7l44PjxR1fIVlEjgrBBQcJ0LSGecGECnw6NEOoimNa2CoE+cGNkxteq840ISFO/hgbpi+Xh3FEopPLwLWfURKz2jvs/NnNmBFp9yOGbWjr7nCe+LqrSuFL4fhz1Fb1fPRA+IUgd3hBHmfpPROhbAIQs1lc05GigSSqjyXj60JMVt7UVso7MHouRx2ySgCE3FzzmIRdRA41LopjUhmHewTrnWV0Y7hQbxQLzJC0yHXkNuzSYdsL4SlBIzeor6o+28/39/1//W//AH82Xf8A31/V/wD37Z+3+/8Af67n/f8Avl/onmJPxjIiJDZghhP5gWB9jnNCpcOj9w9RycQbTqHvvk/VAz1mPcp9QzTIOMmNdxQiIpC6vijWypDo1HHH/ltxoAbDhPDFKWNb1Se58rwAdzz+uNeCMi1ytebw7mOL0Dr4T9f88YH90H4T7ZFOSv8A+WOFvXRdhO+o/S4awMHuW4RGAqvQytGCaKf57xCkAKdiHkH/AL4EThyWDvTFGinTKSzULoT0cSo84oKLC4RL9gzAdn+ooryRTAawI3oDsDGonNwYwInrhDGJRyYBfxkPTCpGzIWGCPEn5NPZR4Dn+4vZQt/V/wD/AP8A/p9//wB6/wBP+/34fPt/Fn7jJl3g95Nfg+3g1K3WiM9yeS8HnC6cx7IHycKBEepgFmdHhHQotZiL9YVlEjm7BOkQjLsNJMrgxxIII+Tod4EmA6Gw7mHA9ewPg3CUCb5XChpvHo6kTXL4TbfYsikdUI90+Crxi4mj3BPqGXAoPkvnmJH0zyrdIKOBFWxg4OhUGtjAXJj1Z3RGqKmX5nLFNsAUCugqu8efr4OIo6MnTviBQ0iZIaTICmFXMpdJin6H5v2SgYOtHjp+3AxIc2NWwcJHzOKCJ/axLs6g8YK4GNYJIC8ta6wAChACxzyNz5eT6vP/AH//APv/AM+X+v8A7/tVb5ZNzgBKuQciNRExd6JBCoCvGAgxVM9CMFIYAoEfcpDQSg2QNKLCCS2LAtC7gi9ntjV7oOInI1DtovBiq2nXgRokgu6T9fxfz7L8v8+7/wD1UcJK6tmlBDXGTCl5jmnHypoPMBNTgEJU1GxB6ZFrkBsQWV3UXWJqVTwodzJqO8JLAGEfko4dhFtoDVeHKeIwCbom+SL0bhfc0KREdjA1JUNqgCUU03GQgcia2Y7alhCGC9N4EIVA0cudEPqM7U8D5sOVB9Tj0XGgMWbzfLY/uwJaRjkmN2IMOfbiZUydQ4AqWABdTEhXyy7QoBVVm1ynrZWCpmxqLvnwr7vZWrZarAFBXCIphhOmOM7A9DQJLL3kmpWqX409ozeY4JXbqf3ekKCXSZOu7tjXZ8526TV/LI0EA0HGBUGF5GorsqyrXk1VqjVVVV24qD4ETQVVgHLh0/UwBiNG5e7ohAe/bbenRmnJX2vDOI0YIasq0DyiiwJgzQsjTWLJo/8AKwwAbHzzUzRPpGiXSmyUxo5O4XQU84Dy24zyhqzUB9yHs4OkX/6FFSAVeA+p/wCf3/vz/wD+/Of9xf8AVvvb/wD7v8ZJN5efKt3nvJ4LxrnBlJjEUBl0QVAwje+2wKKZOQaW8OtcCQWOVoIR6YNbsnElPEHC71RQJJzx4WGvQIXN0W2ijaF43ndng8fPtB/5ru+/9m/eXM/f39/+/lt//wD37/ovr87Ncv7/ALP2np/pW/38/wD8/v8A/wC9/wB//af/AP31/wCfz/6/u32fbf8AfEMf+t6x9n7v/wBOzb+3/T7+OH9gCdC74bnm/wD9+1Lf/wC7n//EADMRAAIBAgMHAwMDAwUAAAAAAAACAQMEEBESBRMgISIxMhRBQgZRUiM0YiQzYTBxcoGx/9oACAECAQE/AMHbQucEXLx2PUMRcT7m/Ym4n2PUMbzn2FrTnzJqsTXnLkLV6JaTfMTW5ciK7R3N9IlZpnKSa0xJNdvYWrNTlI9WVnKBa0+5v2N/ORFZsya7Z8ia7G/Yic44ZjPuPHVMQVIynkZ8siIzJjLi189HAs5jvMTyInOM8H1ewsyyxM8CtpwXLRIncTDRj1DeUlXuZ5xlhMZcWiNWrgSMsyq+TCTqWJImJjOCrUhIEnOOCGywWeUlHywjHWazSs88iVie5CrHaDQv2JWJ7waF+xpX7EaYk0LPOYJlZ5GmBdP2JaJ5DvENlBVqyvYrXLyRUuIjKGnIWvUo+LG+q1JzacyzqT2KU5vzMoMoIWDKCNMESsdsNeD0i5rbs9Y56hxLhyjVNGOvgQfuTcYXDj+ZrHfXhR5Ft+Z5mZnxXGvC5om5EtusS2Q0fhgy8erWVqI5Wc0O7iWw9EtqIybsR08yi6VPDg1j4P0D3eGgSibnCODRxXLmtJLmiImQjmvrKNz1j1us80QopuyOKq46HzwTDUe/DoNBoOvC5RzfZOXD5oI7/PFEfXrwR+g1/wAyk/8ALgfC5kfBzfYa8Pkak4mTCt0FzR6xGHQRxENZkRBuyCjWHrfyN9/I3yfma0KyczcvhtK83A21SwvN44mD46zWaxMbmlrNCFZNDjmgooaB0LZhNBoQdB6JoEQpIUYQeORVPqA1ufT79YmDkD8KYOh6TMubN9Bo0Gk14JzKNt0CWxoEQ3Os9IJZiUSig+H1AmH0/wCZGDt1Yu4jlZy3d8a1zuy2feIOXNmhWouhoNBbUXKPhhWrdZR6+GiPh9QeY6H08nWUT3HIILlT4D9aFt4ia3H/AE/Mopb156yhbJo6C5tuolCtbI/mVrP8DL2LO2EQrOOUa27HrOJr/Iou+NXDb3wHQ2J54sQIhcCIPRLOwctrPQX9skpyOqg5s256Du3WXFsVIH8B7j+oKKeA9ErfgPgh1lsj/M6MKuG3UH8zYnmQQP2wRzc7wo2hRthIHHL9MnNmuN8Ry4thaP5m1LdKdxmWD7y3Lf8Asl5bfMoolQrWzwJyNbju4gj47e+BoNi+YojlXBELYRBENXQfEdDaSZGzX6xhHw0dZt6269eo+n7n4CIOh+0uDQlcvE3blE0OOUsK1bQPRS78xNm2/wCJbWdGmXFY3ziXKCOlQS2Eo5GkTF/I2wniWnmR4CYOh9QP1mza27csLneIIbSo+5s3rQ2lblFMhMEPcez3jnpt2IiiIblJPTIemQtrPdlFDSInQKInzNfWXCm1V6Ci/NCi+aDJhcobd/cFF/I+n7z4D/mXKbwsX3blym8QkR5NYj4azfcG6Le2ERDQIgg/mN2KSFTwNpJ0HzLTmg6uMP4H1D+5KPgbFrbtyj+ogho/qCp4D0esyNJoNyZKZYwW1t8xEKYmCOfIdxNesbsX6dBHcsH6Ct+oInQJ4H1AnWOxRfI2bW3lumD+Y/Yf/QolvREToNB/yPkP1ieGDoaxKpeJ0FROs2a/RjoPqG28SsaD6cuPgOVSl2Kxq4ExooUUN1hqPbBu2DuN5iaCu/QXXmbIrDpjtqj0ZlbzPxNhPu38hi7fwKPgXKdeEYvgia3La2TQImWKIeBNTIe8La51+Z3G7mgr+BtJLv1BsL1aXHWJIw6m0/2w/cqlhW3dyhRfoLlCn4F158XuWyfMo6zWakJqU47yPWWPce4p/cuakO5nGZRqRrLarT+40LPaRGiO8j6fuX8xLlnWydBKsTyzGaJnLMd17Zl6v6ZXovDmn/BlMPnkWNxEW6RMlZy+v3+BbXL1PMjgQ0Fo4jiOmG2s4ue/tAzs3eSWlpzkzkiZFWWnKBXZZziTZbT6mIz+5tFpm5bmOrplLe5KS0RPsRPuQ7LOcSQ7LOcSZz3HqM8RnPYZFeMpgVFhdIyrlpmDsUpaV5m7SR7b7CXL030OI+C4o+Qj60NIjm2ozqK3+MFjOcuHZX7pf+//AA2nyunLrxp/7Crna5/5I7cUdisjNKyvtJBQbUuU4SXL9ZbeGCOLVSOUyRUpzOWZvFie5ZXUT2NG8NybSsq1wi7uM5gp7JuXic1KOyrneRqXKCdm3GeWknZtysZypNJ4nKYIoubLtqqV4qTHKDaOz69W4Z0XOJLrZ9dlTTGeUZSemehbaakc8zsU7d6q5pGZQ2dUZW1xl9j0FxnlpKuzayRGmMy5aLT+7yFvqDRyk9VSmM4kpOtWOkpJojnhK9A79ZbJ0Y1LdJiW9yKCZRJ6dJLdITPIsPDGMMoPzK3mwhY+eD+Zf+BW8zZxTKnnh9QCFubNxrFt+44P/8QANREAAgECAwYEBAQHAQAAAAAAAAIBAwQQERIFEyEiMTIGFEFCICMkUTM0YWIVMENScoGxwf/aAAgBAwEBPwA3hb876ZPLIRapA1mvtk8qmQtovqeTQ8quQ1ouXDqRaJEcRbWM5zngPbRFSEU8suQtrOqdU8BrNJjlPKxlwkrWkKuaTxEs1lYmZ4lOyRY5ivZqsZqUbRWjUxUs1ntPJUzyS6v0JtEy4C2aZcSLJM5zPJ0ypGXDBExiZic4E4rBSnNeJC5NqJbKRZ1cfi0Rnq+CeAq6iYy4YU4WZ4mnRyk4epUTXHXB5mKql00rTzjHffBT7IKHb/uTLJtWeETE9MM/UmYiM5wziZyM8sIaJnKMJjIp09S5jRk0wTErOUlGlNVsoHWVbiTiy6piftg8cyyXPZ8OgdCHaIyzIll6SS7T1k1PllmQ7L0k3jfczbpmS7TGUyU5aIy1ETpnOJJh26yb6cssyImJzgoLM9SlTiWyktaCQnAWyoNOcrGY9pRqdyxIlBKcZJGRe0onqXs6O03j/c3j/cpVXnrJvHn1JqNPWSXlus4cMNZb0tZ5eDcj0oN9hpw0/EluQhbJzlshkMg/QvHLl8NJpw0mnG30e/DeZGsepJvhNBo5MNOGg046SzILNOczShzn8SPPOVrlys71B6Lj8PhRMHUS2x1mvCj3jm+NeOjDRhZoeUfvLZ/2lyzvyCWzm5K1nyHlh+DsVn14wPj+olxhr+CmP2YajXBScRymIPoLB08whWtuQtkyc3PPrHf9hR5x+xiULnvNa/2kp+z4EQdC21mr9uDI5u3NDmsQdDRihqN8I+8NCFHg/IbNvN4mTlZOfXAj4a4H5yXLl21mth/8sd2PSHLfgnea/wB5qNkWHmz+CG1LLyo/eQRjoQ3JpIFwThJbVvehRrbxOIjyUXHcSsg6e8vPxjPB0PMueZce5rFLW/eMKIeDx9B4nTkUfrh7CPg14Pg7lG5eCz2uiG+SpziOUWg5C8fJC8rPr7iiaBytR+x5ZxKLifLHfHwl2YeJ35ByD2Yc+stk3iFZC3o6yqg3QboW9t5ouU3Bviw2xofnLa8S67BLlxLkv7nNC5QouInIXJqNbiO42CYeE+zDxH+CP1EPZg7lg5c95bvzj9R5La2e77CtYXdomtCtWfXzms0FnfvaFttfed5v0y1l5fj/ADCinOc+ke3fvERB0KgmCdRjwm5rPEf4Y74ewfoN3lmXPeUdBc3iD3Jsq/e1uBPq6Jtuz8rcYv1KD85Ro/TFROcovz85Rs/ehrwf+/CsOnweFsPEP5fH2YPR5xOEFzc5HmWHfM1lHqeH7neWx4ptu1xMbb5blhcbyjkXiaKxWfnNhX6fgubUo+V54La53g6iUeQWipoKyYbtzwwbw27P05o5zy7idoiGqIHuSs+t8NeEHhl+Q8R0c7cTvx5jYjG2rb3juWtbdvrE0X9iVvpKhZpv+cdMjWay5cQsyjWeh2D7SuCttKtX5C2tveaEcrDu8Fa5HHPXBhHPDLm0k3lm4/CcUNiF5R3kF5bbh8PDl5/RPENHK4Ni3OSZFZ9YyFMuRRLhzzjj3JrEvHgS5ce5Lm5HfBz1GwQ8K95c9jl+nzhDRInebHTkG6G3bb1ELC58pco54gTf2yViwrZOonQfQcC4QRHOY0m6QdMjRJScubnnHc4CDkYp1PDb/OK3YbST6lxOuCGx3+Se82rb7xB03b5CCXO8sdB0cS5fI3prc3xrNWCdw6DrkVqxrxQbqRg7mk8PPlcn9M28n1JljsJ/kid5W+YbSo7u4ELF+DoaOcTs/kaStcjua4xQTqOO+DobJf6tCgeI0+oNcY7CrFHDbac4haOOnEp9mGmPhTqXNY14Oa+TFUHNGNlwrFg+umh4pt+fWP1NGGyq3zhNegpazaqZnuNnWxc9SjjA/QdcHcd8dJqETnGthLb2Fzbbg14SU+qlhVepRTQbdoz5fnNGQmGzfzCGt9AilymdFisnObOcrcS3+GO4fqXLj9TThCy3SBEaZ6CUqk+hRpz6iROsubaXQuaU0/QWZjjMDK09IIRvseHG+nyk2wsTb5FalMehpmI6CU3yzyLKOcovrg0/qTlkX1JpfOILNOBs6wtp7za9nRT8P4tJcj9TTOGxtM23+xUVekCrCxlBlBMQM0LGcjIrrlMG11jyjcPt/wBNmLEWylN0fOF9OEmzHyuoiCrnrnMZFaMpgamrRpmOBlERkJSWnM6Y6kTKznBMzM5kTMcYwulhX5RKzlK+z7x7HzSa0Ho7uR/gdB+84YbDbOmy/rhM5RmR0wnphtaM7Rv9f9NmflULPvq/5f8AkFjV0X2X6QXS6azR+uGfHD1wkptERMNheU4R4mPXDW5ZJ9MX6P5jGKNSYziCbarEZ5CUnnjkXVlMc8k64Ec2Xe07Z2irOUSPta2WYiGzK21bbROhs5I2pazHcTtK2ziIYi5pTGcSTc049Tal1SehNNZ4ybP2jb0rdUqNlMFrtCgr1NU5ZzmWdylfaStTngXllVerLJGcSXFVbV9FXhJX2nSVllJz+5G0raYz1FLatB5nVOX2Leqt1+FxJt6kTlkbl4nKSrMUe8uq0Vm4dINZRfnLb5dsXj/Oxo3VSJhfQm7qRLQUrypPAV5qdxtOksPwIHwQicKfZhdD9cNmfm0KHYeJu/BMPD57xjamFIti4/LE4//Z)"
      ]
    },
    {
      "cell_type": "markdown",
      "metadata": {
        "id": "-IaDBfKSdvKa"
      },
      "source": [
        "# Evaluating a model\n",
        "\n",
        "A typical workflow you'll go through when building neural networks is:\n",
        "\n",
        "Build a model -> fit it -> evaluate it -> build (tweak) a model -> fit it -> evaulate it -> build (tweak) a model -> fit it -> evaluate it...\n",
        "\n",
        "The tweaking comes from maybe not building a model from scratch but adjusting an existing one."
      ]
    },
    {
      "cell_type": "markdown",
      "metadata": {
        "id": "KHDVc36aezcI"
      },
      "source": [
        ""
      ]
    },
    {
      "cell_type": "markdown",
      "metadata": {
        "id": "dLeYRzarftBh"
      },
      "source": [
        "Visualize, visualize, visualize\n",
        "\n",
        "When it comes to evaluation, you'll want to remember the words: \"visualize, visualize, visualize.\"\n",
        "\n",
        "This is because you're probably better looking at something (doing) than you are thinking about something.\n",
        "\n",
        "It's a good idea to visualize:\n",
        "\n",
        "    The data - what data are you working with? What does it look like?\n",
        "    The model itself - what does the architecture look like? What are the different shapes?\n",
        "    The training of a model - how does a model perform while it learns?\n",
        "    The predictions of a model - how do the predictions of a model line up against the ground truth (the original labels)?\n",
        "\n",
        "Let's start by visualizing the model.\n",
        "\n",
        "But first, we'll create a little bit of a bigger dataset and a new model we can use (it'll be the same as before, but the more practice the better)."
      ]
    },
    {
      "cell_type": "code",
      "metadata": {
        "colab": {
          "base_uri": "https://localhost:8080/"
        },
        "id": "MJNj1rhIfuhC",
        "outputId": "a7053a3d-2576-4d90-ce68-e53750f936c0"
      },
      "source": [
        "# Make a bigger dataset\n",
        "X = np.arange(-100, 100, 4)\n",
        "X\n",
        "\n"
      ],
      "execution_count": 22,
      "outputs": [
        {
          "output_type": "execute_result",
          "data": {
            "text/plain": [
              "array([-100,  -96,  -92,  -88,  -84,  -80,  -76,  -72,  -68,  -64,  -60,\n",
              "        -56,  -52,  -48,  -44,  -40,  -36,  -32,  -28,  -24,  -20,  -16,\n",
              "        -12,   -8,   -4,    0,    4,    8,   12,   16,   20,   24,   28,\n",
              "         32,   36,   40,   44,   48,   52,   56,   60,   64,   68,   72,\n",
              "         76,   80,   84,   88,   92,   96])"
            ]
          },
          "metadata": {
            "tags": []
          },
          "execution_count": 22
        }
      ]
    },
    {
      "cell_type": "code",
      "metadata": {
        "colab": {
          "base_uri": "https://localhost:8080/"
        },
        "id": "Um6v3ziWgWAy",
        "outputId": "87d8efa8-4cc3-4853-8723-c9b526bf1c64"
      },
      "source": [
        "# Make labels for the dataset (adhering to the same pattern as before)\n",
        "y = np.arange(-90, 110, 4)\n",
        "y\n",
        "\n"
      ],
      "execution_count": 23,
      "outputs": [
        {
          "output_type": "execute_result",
          "data": {
            "text/plain": [
              "array([-90, -86, -82, -78, -74, -70, -66, -62, -58, -54, -50, -46, -42,\n",
              "       -38, -34, -30, -26, -22, -18, -14, -10,  -6,  -2,   2,   6,  10,\n",
              "        14,  18,  22,  26,  30,  34,  38,  42,  46,  50,  54,  58,  62,\n",
              "        66,  70,  74,  78,  82,  86,  90,  94,  98, 102, 106])"
            ]
          },
          "metadata": {
            "tags": []
          },
          "execution_count": 23
        }
      ]
    },
    {
      "cell_type": "code",
      "metadata": {
        "colab": {
          "base_uri": "https://localhost:8080/",
          "height": 282
        },
        "id": "4H9_0QiigxuU",
        "outputId": "97f5f925-f86e-4738-e626-ba31f02d4f1d"
      },
      "source": [
        "# Visualize the data\n",
        "import matplotlib.pyplot as plt\n",
        "plt.scatter(X, y)"
      ],
      "execution_count": 24,
      "outputs": [
        {
          "output_type": "execute_result",
          "data": {
            "text/plain": [
              "<matplotlib.collections.PathCollection at 0x7fb8f2c95d50>"
            ]
          },
          "metadata": {
            "tags": []
          },
          "execution_count": 24
        },
        {
          "output_type": "display_data",
          "data": {
            "image/png": "[encoded data removed]",
            "text/plain": [
              "<Figure size 432x288 with 1 Axes>"
            ]
          },
          "metadata": {
            "tags": [],
            "needs_background": "light"
          }
        }
      ]
    },
    {
      "cell_type": "markdown",
      "metadata": {
        "id": "tiNyDLyEg_6V"
      },
      "source": [
        "# Split data into training/test set"
      ]
    },
    {
      "cell_type": "markdown",
      "metadata": {
        "id": "2B3jkZtchOjs"
      },
      "source": [
        "One of the other most common and important steps in a machine learning project is creating a training and test set (and when required, a validation set).\n",
        "\n",
        "Each set serves a specific purpose:\n",
        "\n",
        "    Training set - the model learns from this data, which is typically 70-80% of the total data available (like the course materials you study during the semester).\n",
        "    Validation set - the model gets tuned on this data, which is typically 10-15% of the total data available (like the practice exam you take before the final exam).\n",
        "    Test set - the model gets evaluated on this data to test what it has learned, it's typically 10-15% of the total data available (like the final exam you take at the end of the semester).\n",
        "\n",
        "For now, we'll just use a training and test set, this means we'll have a dataset for our model to learn on as well as be evaluated on.\n",
        "\n",
        "We can create them by splitting our X and y arrays."
      ]
    },
    {
      "cell_type": "code",
      "metadata": {
        "colab": {
          "base_uri": "https://localhost:8080/"
        },
        "id": "EoughNPvhPdI",
        "outputId": "d8bd6efc-2b5f-462b-b81c-0f2d26b23460"
      },
      "source": [
        "# Check how many samples we have\n",
        "len(X)\n",
        "\n"
      ],
      "execution_count": 25,
      "outputs": [
        {
          "output_type": "execute_result",
          "data": {
            "text/plain": [
              "50"
            ]
          },
          "metadata": {
            "tags": []
          },
          "execution_count": 25
        }
      ]
    },
    {
      "cell_type": "code",
      "metadata": {
        "colab": {
          "base_uri": "https://localhost:8080/"
        },
        "id": "o-RUIyqzhdNM",
        "outputId": "3f3b36de-cfc9-464b-85e1-482d726e2d2f"
      },
      "source": [
        "# Split data into train and test sets\n",
        "X_train = X[:40] # first 40 examples (80% of data)\n",
        "y_train = y[:40]\n",
        "\n",
        "X_test = X[40:] # last 10 examples (20% of data)\n",
        "y_test = y[40:]\n",
        "\n",
        "len(X_train), len(X_test)\n",
        "\n"
      ],
      "execution_count": 26,
      "outputs": [
        {
          "output_type": "execute_result",
          "data": {
            "text/plain": [
              "(40, 10)"
            ]
          },
          "metadata": {
            "tags": []
          },
          "execution_count": 26
        }
      ]
    },
    {
      "cell_type": "markdown",
      "metadata": {
        "id": "KQKB3-FuhfR6"
      },
      "source": [
        "# Visualizing the data\n",
        "\n",
        "Now we've got our training and test data, it's a good idea to visualize it.\n",
        "\n",
        "Let's plot it with some nice colours to differentiate what's what.\n"
      ]
    },
    {
      "cell_type": "code",
      "metadata": {
        "colab": {
          "base_uri": "https://localhost:8080/",
          "height": 428
        },
        "id": "Qh88nf6sjBFC",
        "outputId": "d13a0888-f873-4315-9140-33e8032b3d98"
      },
      "source": [
        "plt.figure(figsize=(10, 7))\n",
        "# Plot training data in blue\n",
        "plt.scatter(X_train, y_train, c='b', label='Training data')\n",
        "# Plot test data in green\n",
        "plt.scatter(X_test, y_test, c='g', label='Testing data')\n",
        "# Show the legend\n",
        "plt.legend();"
      ],
      "execution_count": 27,
      "outputs": [
        {
          "output_type": "display_data",
          "data": {
            "image/png": "[encoded data removed]",
            "text/plain": [
              "<Figure size 720x504 with 1 Axes>"
            ]
          },
          "metadata": {
            "tags": [],
            "needs_background": "light"
          }
        }
      ]
    },
    {
      "cell_type": "markdown",
      "metadata": {
        "id": "-HOXZ_7Gju6z"
      },
      "source": [
        "\n",
        "\n",
        "Beautiful! Any time you can visualize your data, your model, your anything, it's a good idea.\n",
        "\n",
        "With this graph in mind, what we'll be trying to do is build a model which learns the pattern in the blue dots (X_train) to draw the green dots (X_test).\n",
        "\n",
        "Time to build a model. We'll make the exact same one from before (the one we trained for longer).\n"
      ]
    },
    {
      "cell_type": "code",
      "metadata": {
        "id": "JE0EXUWMjv5D"
      },
      "source": [
        "# Set random seed\n",
        "tf.random.set_seed(42)\n",
        "\n",
        "# Create a model (same as above)\n",
        "model = tf.keras.Sequential([\n",
        "  tf.keras.layers.Dense(1)\n",
        "])\n",
        "\n",
        "# Compile model (same as above)\n",
        "model.compile(loss=tf.keras.losses.mae,\n",
        "              optimizer=tf.keras.optimizers.SGD(),\n",
        "              metrics=[\"mae\"])\n",
        "\n",
        "# Fit model (same as above)\n",
        "#model.fit(X_train, y_train, epochs=100) # commented out on purpose (not fitting it just yet)"
      ],
      "execution_count": 28,
      "outputs": []
    },
    {
      "cell_type": "markdown",
      "metadata": {
        "id": "xRCkeQl7lbkX"
      },
      "source": [
        "# Visualizing the model\n",
        "\n",
        "After you've built a model, you might want to take a look at it (especially if you haven't built many before).\n",
        "\n",
        "You can take a look at the layers and shapes of your model by calling summary() on it."
      ]
    },
    {
      "cell_type": "code",
      "metadata": {
        "colab": {
          "base_uri": "https://localhost:8080/",
          "height": 358
        },
        "id": "1CBm-26PlfxN",
        "outputId": "969b7fc5-6a9e-420c-dea3-aced379b8e7d"
      },
      "source": [
        "# Doesn't work (model not fit/built)\n",
        "model.summary()\n",
        "\n"
      ],
      "execution_count": 31,
      "outputs": [
        {
          "output_type": "error",
          "ename": "ValueError",
          "evalue": "ignored",
          "traceback": [
            "\u001b[0;31m---------------------------------------------------------------------------\u001b[0m",
            "\u001b[0;31mValueError\u001b[0m                                Traceback (most recent call last)",
            "\u001b[0;32m<ipython-input-31-ea1f3be9cb3d>\u001b[0m in \u001b[0;36m<module>\u001b[0;34m()\u001b[0m\n\u001b[1;32m      1\u001b[0m \u001b[0;31m# Doesn't work (model not fit/built)\u001b[0m\u001b[0;34m\u001b[0m\u001b[0;34m\u001b[0m\u001b[0;34m\u001b[0m\u001b[0m\n\u001b[0;32m----> 2\u001b[0;31m \u001b[0mmodel\u001b[0m\u001b[0;34m.\u001b[0m\u001b[0msummary\u001b[0m\u001b[0;34m(\u001b[0m\u001b[0;34m)\u001b[0m\u001b[0;34m\u001b[0m\u001b[0;34m\u001b[0m\u001b[0m\n\u001b[0m\u001b[1;32m      3\u001b[0m \u001b[0;34m\u001b[0m\u001b[0m\n",
            "\u001b[0;32m/usr/local/lib/python3.7/dist-packages/tensorflow/python/keras/engine/training.py\u001b[0m in \u001b[0;36msummary\u001b[0;34m(self, line_length, positions, print_fn)\u001b[0m\n\u001b[1;32m   2475\u001b[0m     \"\"\"\n\u001b[1;32m   2476\u001b[0m     \u001b[0;32mif\u001b[0m \u001b[0;32mnot\u001b[0m \u001b[0mself\u001b[0m\u001b[0;34m.\u001b[0m\u001b[0mbuilt\u001b[0m\u001b[0;34m:\u001b[0m\u001b[0;34m\u001b[0m\u001b[0;34m\u001b[0m\u001b[0m\n\u001b[0;32m-> 2477\u001b[0;31m       raise ValueError('This model has not yet been built. '\n\u001b[0m\u001b[1;32m   2478\u001b[0m                        \u001b[0;34m'Build the model first by calling `build()` or calling '\u001b[0m\u001b[0;34m\u001b[0m\u001b[0;34m\u001b[0m\u001b[0m\n\u001b[1;32m   2479\u001b[0m                        \u001b[0;34m'`fit()` with some data, or specify '\u001b[0m\u001b[0;34m\u001b[0m\u001b[0;34m\u001b[0m\u001b[0m\n",
            "\u001b[0;31mValueError\u001b[0m: This model has not yet been built. Build the model first by calling `build()` or calling `fit()` with some data, or specify an `input_shape` argument in the first layer(s) for automatic build."
          ]
        }
      ]
    },
    {
      "cell_type": "code",
      "metadata": {
        "id": "1PCLgH-tlkzg"
      },
      "source": [
        "# Set random seed\n",
        "tf.random.set_seed(42)\n",
        "\n",
        "# Create a model (same as above)\n",
        "model = tf.keras.Sequential([\n",
        "  tf.keras.layers.Dense(10, input_shape=[1], name=\"input_layer\"),\n",
        "  tf.keras.layers.Dense(1, name=\"output_layer\") # define the input_shape to our model\n",
        "], name=\"Model_1\")\n",
        "\n",
        "# Compile model (same as above)\n",
        "model.compile(loss=tf.keras.losses.mae,\n",
        "              optimizer=tf.keras.optimizers.SGD(),\n",
        "              metrics=[\"mae\"])"
      ],
      "execution_count": 32,
      "outputs": []
    },
    {
      "cell_type": "code",
      "metadata": {
        "colab": {
          "base_uri": "https://localhost:8080/"
        },
        "id": "K7fNwl5dl1qE",
        "outputId": "9b92cdb2-d435-43b7-c980-656d79cad481"
      },
      "source": [
        "# This will work after specifying the input shape\n",
        "model.summary()\n",
        "\n"
      ],
      "execution_count": 33,
      "outputs": [
        {
          "output_type": "stream",
          "text": [
            "Model: \"Model_1\"\n",
            "_________________________________________________________________\n",
            "Layer (type)                 Output Shape              Param #   \n",
            "=================================================================\n",
            "input_layer (Dense)          (None, 10)                20        \n",
            "_________________________________________________________________\n",
            "output_layer (Dense)         (None, 1)                 11        \n",
            "=================================================================\n",
            "Total params: 31\n",
            "Trainable params: 31\n",
            "Non-trainable params: 0\n",
            "_________________________________________________________________\n"
          ],
          "name": "stdout"
        }
      ]
    },
    {
      "cell_type": "markdown",
      "metadata": {
        "id": "cknSruCjnAF6"
      },
      "source": [
        "\n",
        "\n",
        "Calling summary() on our model shows us the layers it contains, the output shape and the number of parameters.\n",
        "\n",
        "    Total params - total number of parameters in the model.\n",
        "    Trainable parameters - these are the parameters (patterns) the model can update as it trains.\n",
        "    Non-trainable parameters - these parameters aren't updated during training (this is typical when you bring in the already learned patterns from other models during transfer learning).\n"
      ]
    },
    {
      "cell_type": "markdown",
      "metadata": {
        "id": "oJsq8S4JoEp7"
      },
      "source": [
        "📖 Resource: For a more in-depth overview of the trainable parameters within a layer, check out MIT's introduction to deep learning video."
      ]
    },
    {
      "cell_type": "code",
      "metadata": {
        "colab": {
          "base_uri": "https://localhost:8080/"
        },
        "id": "TtttP4JIoGyc",
        "outputId": "a9d140ea-73a0-42cc-b8d6-0ad40e277a09"
      },
      "source": [
        "# Fit the model to the training data\n",
        "model.fit(X_train, y_train, epochs=100, verbose=0) # verbose controls how much gets output\n",
        "\n"
      ],
      "execution_count": 34,
      "outputs": [
        {
          "output_type": "execute_result",
          "data": {
            "text/plain": [
              "<tensorflow.python.keras.callbacks.History at 0x7fb8eebfda50>"
            ]
          },
          "metadata": {
            "tags": []
          },
          "execution_count": 34
        }
      ]
    },
    {
      "cell_type": "code",
      "metadata": {
        "colab": {
          "base_uri": "https://localhost:8080/"
        },
        "id": "0PsqfHVepL8c",
        "outputId": "b3514367-340a-42f3-fffd-37570aa87bec"
      },
      "source": [
        "# Check the model summary\n",
        "model.summary()\n",
        "\n"
      ],
      "execution_count": 35,
      "outputs": [
        {
          "output_type": "stream",
          "text": [
            "Model: \"Model_1\"\n",
            "_________________________________________________________________\n",
            "Layer (type)                 Output Shape              Param #   \n",
            "=================================================================\n",
            "input_layer (Dense)          (None, 10)                20        \n",
            "_________________________________________________________________\n",
            "output_layer (Dense)         (None, 1)                 11        \n",
            "=================================================================\n",
            "Total params: 31\n",
            "Trainable params: 31\n",
            "Non-trainable params: 0\n",
            "_________________________________________________________________\n"
          ],
          "name": "stdout"
        }
      ]
    },
    {
      "cell_type": "markdown",
      "metadata": {
        "id": "mDmmjiBBr6FC"
      },
      "source": [
        "\n",
        "\n",
        "Alongside summary, you can also view a 2D plot of the model using plot_model().\n"
      ]
    },
    {
      "cell_type": "code",
      "metadata": {
        "colab": {
          "base_uri": "https://localhost:8080/",
          "height": 312
        },
        "id": "QE0rnoAZprDE",
        "outputId": "f7a9f6f7-9354-46ed-e951-3a1bc899dae3"
      },
      "source": [
        "from tensorflow.keras.utils import plot_model\n",
        "\n",
        "plot_model(model=model, show_shapes=True)\n",
        "\n"
      ],
      "execution_count": 36,
      "outputs": [
        {
          "output_type": "execute_result",
          "data": {
            "image/png": "[encoded data removed]",
            "text/plain": [
              "<IPython.core.display.Image object>"
            ]
          },
          "metadata": {
            "tags": []
          },
          "execution_count": 36
        }
      ]
    },
    {
      "cell_type": "markdown",
      "metadata": {
        "id": "mi-0PmaXr7u_"
      },
      "source": [
        "\n",
        "\n",
        "In our case, the model we used only has an input and an output but visualizing more complicated models can be very helpful for debugging.\n"
      ]
    },
    {
      "cell_type": "markdown",
      "metadata": {
        "id": "y1ulj34Tr-sd"
      },
      "source": [
        "# Visualizing the predictions\n",
        "\n",
        "Now we've got a trained model, let's visualize some predictions.\n",
        "\n",
        "To visualize predictions, it's always a good idea to plot them against the ground truth labels.\n",
        "\n",
        "Often you'll see this in the form of y_test vs. y_pred (ground truth vs. predictions).\n",
        "\n",
        "First, we'll make some predictions on the test data (X_test), remember the model has never seen the test data.\n"
      ]
    },
    {
      "cell_type": "code",
      "metadata": {
        "colab": {
          "base_uri": "https://localhost:8080/"
        },
        "id": "ZmbQ7NxFsI4b",
        "outputId": "8d4b0d89-738a-43e4-8042-20c640a7529e"
      },
      "source": [
        "# Make predictions\n",
        "y_preds = model.predict(X_test)\n",
        "y_preds\n",
        "\n"
      ],
      "execution_count": 37,
      "outputs": [
        {
          "output_type": "stream",
          "text": [
            "WARNING:tensorflow:5 out of the last 5 calls to <function Model.make_predict_function.<locals>.predict_function at 0x7fb8eeb33dd0> triggered tf.function retracing. Tracing is expensive and the excessive number of tracings could be due to (1) creating @tf.function repeatedly in a loop, (2) passing tensors with different shapes, (3) passing Python objects instead of tensors. For (1), please define your @tf.function outside of the loop. For (2), @tf.function has experimental_relax_shapes=True option that relaxes argument shapes that can avoid unnecessary retracing. For (3), please refer to https://www.tensorflow.org/guide/function#controlling_retracing and https://www.tensorflow.org/api_docs/python/tf/function for  more details.\n"
          ],
          "name": "stdout"
        },
        {
          "output_type": "execute_result",
          "data": {
            "text/plain": [
              "array([[ 70.55218 ],\n",
              "       [ 75.13991 ],\n",
              "       [ 79.72763 ],\n",
              "       [ 84.31535 ],\n",
              "       [ 88.903076],\n",
              "       [ 93.49081 ],\n",
              "       [ 98.07853 ],\n",
              "       [102.66625 ],\n",
              "       [107.253975],\n",
              "       [111.8417  ]], dtype=float32)"
            ]
          },
          "metadata": {
            "tags": []
          },
          "execution_count": 37
        }
      ]
    },
    {
      "cell_type": "code",
      "metadata": {
        "colab": {
          "base_uri": "https://localhost:8080/"
        },
        "id": "HACcbHeWs0ur",
        "outputId": "acae9448-038d-45a8-c80e-43b505ae9d96"
      },
      "source": [
        "y_test"
      ],
      "execution_count": 38,
      "outputs": [
        {
          "output_type": "execute_result",
          "data": {
            "text/plain": [
              "array([ 70,  74,  78,  82,  86,  90,  94,  98, 102, 106])"
            ]
          },
          "metadata": {
            "tags": []
          },
          "execution_count": 38
        }
      ]
    },
    {
      "cell_type": "markdown",
      "metadata": {
        "id": "XdVFfaWrtH_P"
      },
      "source": [
        "\n",
        "\n",
        "Okay, we get a list of numbers but how do these compare to the ground truth labels?\n",
        "\n",
        "Let's build a plotting function to find out."
      ]
    },
    {
      "cell_type": "code",
      "metadata": {
        "id": "8bJLe6RitI27"
      },
      "source": [
        "def plot_predictions(train_data=X_train, \n",
        "                     train_labels=y_train, \n",
        "                     test_data=X_test, \n",
        "                     test_labels=y_test, \n",
        "                     predictions=y_preds):\n",
        "  \"\"\"\n",
        "  Plots training data, test data and compares predictions.\n",
        "  \"\"\"\n",
        "  plt.figure(figsize=(10, 7))\n",
        "  # Plot training data in blue\n",
        "  plt.scatter(train_data, train_labels, c=\"b\", label=\"Training data\")\n",
        "  # Plot test data in green\n",
        "  plt.scatter(test_data, test_labels, c=\"g\", label=\"Testing data\")\n",
        "  # Plot the predictions in red (predictions were made on the test data)\n",
        "  plt.scatter(test_data, predictions, c=\"r\", label=\"Predictions\")\n",
        "  # Show the legend\n",
        "  plt.legend();"
      ],
      "execution_count": 39,
      "outputs": []
    },
    {
      "cell_type": "code",
      "metadata": {
        "colab": {
          "base_uri": "https://localhost:8080/",
          "height": 428
        },
        "id": "JJ87p-Zuuk0b",
        "outputId": "3bf9fdc0-1915-4c08-e3d4-8f9ba8b9ea30"
      },
      "source": [
        "plot_predictions()"
      ],
      "execution_count": 40,
      "outputs": [
        {
          "output_type": "display_data",
          "data": {
            "image/png": "[encoded data removed]",
            "text/plain": [
              "<Figure size 720x504 with 1 Axes>"
            ]
          },
          "metadata": {
            "tags": [],
            "needs_background": "light"
          }
        }
      ]
    },
    {
      "cell_type": "code",
      "metadata": {
        "colab": {
          "base_uri": "https://localhost:8080/",
          "height": 428
        },
        "id": "jhUmIDxnu2Gs",
        "outputId": "ad2a43c9-1bdf-4236-cd4f-2eccdd37168d"
      },
      "source": [
        "plot_predictions(train_data=X_train,\n",
        "                 train_labels=y_train,\n",
        "                 test_data=X_test,\n",
        "                 test_labels=y_test,\n",
        "                 predictions=y_preds)"
      ],
      "execution_count": 41,
      "outputs": [
        {
          "output_type": "display_data",
          "data": {
            "image/png": "[encoded data removed]",
            "text/plain": [
              "<Figure size 720x504 with 1 Axes>"
            ]
          },
          "metadata": {
            "tags": [],
            "needs_background": "light"
          }
        }
      ]
    },
    {
      "cell_type": "markdown",
      "metadata": {
        "id": "xhwIJK5rvARx"
      },
      "source": [
        "\n",
        "\n",
        "From the plot we can see our predictions aren't totally outlandish but they definitely aren't anything special either.\n"
      ]
    },
    {
      "cell_type": "markdown",
      "metadata": {
        "id": "1COvfZycvBP1"
      },
      "source": [
        "# Evaluating predictions\n",
        "\n",
        "Alongisde visualizations, evaulation metrics are your alternative best option for evaluating your model.\n",
        "\n",
        "Depending on the problem you're working on, different models have different evaluation metrics.\n",
        "\n",
        "Two of the main metrics used for regression problems are:\n",
        "\n",
        "    Mean absolute error (MAE) - the mean difference between each of the predictions.\n",
        "    Mean squared error (MSE) - the squared mean difference between of the predictions (use if larger errors are more detrimental than smaller errors).\n",
        "\n",
        "The lower each of these values, the better.\n",
        "\n",
        "You can also use model.evaluate() which will return the loss of the model as well as any metrics setup during the compile step.\n"
      ]
    },
    {
      "cell_type": "code",
      "metadata": {
        "colab": {
          "base_uri": "https://localhost:8080/"
        },
        "id": "WFnSdOBVwkHs",
        "outputId": "0062dba0-433d-4484-a1db-270ebfada180"
      },
      "source": [
        "# Evaluate the model on the test set\n",
        "model.evaluate(X_test, y_test)"
      ],
      "execution_count": 42,
      "outputs": [
        {
          "output_type": "stream",
          "text": [
            "1/1 [==============================] - 0s 121ms/step - loss: 3.1969 - mae: 3.1969\n"
          ],
          "name": "stdout"
        },
        {
          "output_type": "execute_result",
          "data": {
            "text/plain": [
              "[3.196942090988159, 3.196942090988159]"
            ]
          },
          "metadata": {
            "tags": []
          },
          "execution_count": 42
        }
      ]
    },
    {
      "cell_type": "markdown",
      "metadata": {
        "id": "KnTrGrGpwqXm"
      },
      "source": [
        "\n",
        "\n",
        "In our case, since we used MAE for the loss function as well as MAE for the metrics, model.evaulate() returns them both.\n",
        "\n",
        "TensorFlow also has built in functions for MSE and MAE.\n",
        "\n",
        "For many evaluation functions, the premise is the same: compare predictions to the ground truth labels.\n"
      ]
    },
    {
      "cell_type": "code",
      "metadata": {
        "colab": {
          "base_uri": "https://localhost:8080/"
        },
        "id": "Q7qeSrIFwu4z",
        "outputId": "8d145011-242e-4104-d494-efcc4f806088"
      },
      "source": [
        "# Calculate the mean absolute error\n",
        "mae = tf.metrics.mean_absolute_error(y_true=y_test, \n",
        "                                     y_pred=tf.constant(y_preds))\n",
        "mae\n",
        "\n"
      ],
      "execution_count": 43,
      "outputs": [
        {
          "output_type": "execute_result",
          "data": {
            "text/plain": [
              "<tf.Tensor: shape=(10,), dtype=float32, numpy=\n",
              "array([17.558258 , 14.1160555, 11.708948 , 10.336929 , 10.       ,\n",
              "       10.698161 , 12.447118 , 15.333002 , 19.253975 , 23.841698 ],\n",
              "      dtype=float32)>"
            ]
          },
          "metadata": {
            "tags": []
          },
          "execution_count": 43
        }
      ]
    },
    {
      "cell_type": "markdown",
      "metadata": {
        "id": "agnrOg5jxUg8"
      },
      "source": [
        "\n",
        "\n",
        "Huh ! That's strange, MAE should be a single output.\n",
        "\n",
        "Instead, we get 10 values.\n",
        "\n",
        "This is because our y_test and y_preds tensors are different shapes.\n"
      ]
    },
    {
      "cell_type": "code",
      "metadata": {
        "colab": {
          "base_uri": "https://localhost:8080/"
        },
        "id": "lLLdIYqCxare",
        "outputId": "fc897d08-40fc-46cd-aa39-9847d59f33ba"
      },
      "source": [
        "# Check the test label tensor values\n",
        "y_test\n"
      ],
      "execution_count": 44,
      "outputs": [
        {
          "output_type": "execute_result",
          "data": {
            "text/plain": [
              "array([ 70,  74,  78,  82,  86,  90,  94,  98, 102, 106])"
            ]
          },
          "metadata": {
            "tags": []
          },
          "execution_count": 44
        }
      ]
    },
    {
      "cell_type": "code",
      "metadata": {
        "colab": {
          "base_uri": "https://localhost:8080/"
        },
        "id": "_QaVDY5xxnGG",
        "outputId": "3846f4bf-6548-4d57-c0b1-fee027daf51a"
      },
      "source": [
        "# Check the predictions tensor values (notice the extra square brackets)\n",
        "y_preds"
      ],
      "execution_count": 45,
      "outputs": [
        {
          "output_type": "execute_result",
          "data": {
            "text/plain": [
              "array([[ 70.55218 ],\n",
              "       [ 75.13991 ],\n",
              "       [ 79.72763 ],\n",
              "       [ 84.31535 ],\n",
              "       [ 88.903076],\n",
              "       [ 93.49081 ],\n",
              "       [ 98.07853 ],\n",
              "       [102.66625 ],\n",
              "       [107.253975],\n",
              "       [111.8417  ]], dtype=float32)"
            ]
          },
          "metadata": {
            "tags": []
          },
          "execution_count": 45
        }
      ]
    },
    {
      "cell_type": "code",
      "metadata": {
        "colab": {
          "base_uri": "https://localhost:8080/"
        },
        "id": "RR31-2Vqx_IO",
        "outputId": "6ab438e6-3ee4-40e1-d0bb-b477d97c15ff"
      },
      "source": [
        "y_test.shape\n"
      ],
      "execution_count": 46,
      "outputs": [
        {
          "output_type": "execute_result",
          "data": {
            "text/plain": [
              "(10,)"
            ]
          },
          "metadata": {
            "tags": []
          },
          "execution_count": 46
        }
      ]
    },
    {
      "cell_type": "code",
      "metadata": {
        "colab": {
          "base_uri": "https://localhost:8080/"
        },
        "id": "IISMzYl6yKYR",
        "outputId": "fd6570e8-3e51-4145-8d3f-e4e9fd0dcd8c"
      },
      "source": [
        "y_preds.shape"
      ],
      "execution_count": 47,
      "outputs": [
        {
          "output_type": "execute_result",
          "data": {
            "text/plain": [
              "(10, 1)"
            ]
          },
          "metadata": {
            "tags": []
          },
          "execution_count": 47
        }
      ]
    },
    {
      "cell_type": "code",
      "metadata": {
        "colab": {
          "base_uri": "https://localhost:8080/"
        },
        "id": "G7PiX6XlyJos",
        "outputId": "cc5c08da-2927-43ab-ec22-8e50ca67e65c"
      },
      "source": [
        "tf.constant(y_preds)"
      ],
      "execution_count": 48,
      "outputs": [
        {
          "output_type": "execute_result",
          "data": {
            "text/plain": [
              "<tf.Tensor: shape=(10, 1), dtype=float32, numpy=\n",
              "array([[ 70.55218 ],\n",
              "       [ 75.13991 ],\n",
              "       [ 79.72763 ],\n",
              "       [ 84.31535 ],\n",
              "       [ 88.903076],\n",
              "       [ 93.49081 ],\n",
              "       [ 98.07853 ],\n",
              "       [102.66625 ],\n",
              "       [107.253975],\n",
              "       [111.8417  ]], dtype=float32)>"
            ]
          },
          "metadata": {
            "tags": []
          },
          "execution_count": 48
        }
      ]
    },
    {
      "cell_type": "code",
      "metadata": {
        "colab": {
          "base_uri": "https://localhost:8080/"
        },
        "id": "6POBCbpdzctl",
        "outputId": "192c0f06-da09-4e11-889f-d5f0acb6202c"
      },
      "source": [
        "# Shape after squeeze()\n",
        "y_preds.squeeze().shape"
      ],
      "execution_count": 49,
      "outputs": [
        {
          "output_type": "execute_result",
          "data": {
            "text/plain": [
              "(10,)"
            ]
          },
          "metadata": {
            "tags": []
          },
          "execution_count": 49
        }
      ]
    },
    {
      "cell_type": "code",
      "metadata": {
        "colab": {
          "base_uri": "https://localhost:8080/"
        },
        "id": "-oObMfDm0CIP",
        "outputId": "26e7099a-8555-466d-8b08-66186e4f1763"
      },
      "source": [
        "# What do they look like?\n",
        "y_test, y_preds.squeeze()"
      ],
      "execution_count": 50,
      "outputs": [
        {
          "output_type": "execute_result",
          "data": {
            "text/plain": [
              "(array([ 70,  74,  78,  82,  86,  90,  94,  98, 102, 106]),\n",
              " array([ 70.55218 ,  75.13991 ,  79.72763 ,  84.31535 ,  88.903076,\n",
              "         93.49081 ,  98.07853 , 102.66625 , 107.253975, 111.8417  ],\n",
              "       dtype=float32))"
            ]
          },
          "metadata": {
            "tags": []
          },
          "execution_count": 50
        }
      ]
    },
    {
      "cell_type": "markdown",
      "metadata": {
        "id": "g1fcnuN70IyK"
      },
      "source": [
        "\n",
        "\n",
        "Okay, now we know how to make our y_test and y_preds tenors the same shape, let's use our evaluation metrics.\n"
      ]
    },
    {
      "cell_type": "code",
      "metadata": {
        "colab": {
          "base_uri": "https://localhost:8080/"
        },
        "id": "eUEQMj850J7D",
        "outputId": "29262807-9425-43f3-d22d-f32e158057e3"
      },
      "source": [
        "# Calcuate the MAE\n",
        "mae = tf.metrics.mean_absolute_error(y_true=y_test, \n",
        "                                     y_pred=y_preds.squeeze()) # use squeeze() to make same shape\n",
        "mae"
      ],
      "execution_count": 51,
      "outputs": [
        {
          "output_type": "execute_result",
          "data": {
            "text/plain": [
              "<tf.Tensor: shape=(), dtype=float32, numpy=3.1969407>"
            ]
          },
          "metadata": {
            "tags": []
          },
          "execution_count": 51
        }
      ]
    },
    {
      "cell_type": "code",
      "metadata": {
        "colab": {
          "base_uri": "https://localhost:8080/"
        },
        "id": "sg21MBMr0ZI_",
        "outputId": "be3011dd-c9bb-4b31-a7d9-8cbbc5ef99ea"
      },
      "source": [
        "# Calculate the MSE\n",
        "mse = tf.metrics.mean_squared_error(y_true=y_test,\n",
        "                                    y_pred=y_preds.squeeze())\n",
        "mse"
      ],
      "execution_count": 52,
      "outputs": [
        {
          "output_type": "execute_result",
          "data": {
            "text/plain": [
              "<tf.Tensor: shape=(), dtype=float32, numpy=13.070143>"
            ]
          },
          "metadata": {
            "tags": []
          },
          "execution_count": 52
        }
      ]
    },
    {
      "cell_type": "markdown",
      "metadata": {
        "id": "3GV4qhNz0zJD"
      },
      "source": [
        "\n",
        "\n",
        "We can also calculate the MAE using pure TensorFlow functions.\n"
      ]
    },
    {
      "cell_type": "code",
      "metadata": {
        "colab": {
          "base_uri": "https://localhost:8080/"
        },
        "id": "fxNMhF7C00SK",
        "outputId": "1e0b6529-614c-43a2-f28d-139700ddd584"
      },
      "source": [
        "# Returns the same as tf.metrics.mean_absolute_error()\n",
        "tf.reduce_mean(tf.abs(y_test-y_preds.squeeze()))\n"
      ],
      "execution_count": 53,
      "outputs": [
        {
          "output_type": "execute_result",
          "data": {
            "text/plain": [
              "<tf.Tensor: shape=(), dtype=float64, numpy=3.196940612792969>"
            ]
          },
          "metadata": {
            "tags": []
          },
          "execution_count": 53
        }
      ]
    },
    {
      "cell_type": "markdown",
      "metadata": {
        "id": "yf5AWVxB07Up"
      },
      "source": [
        "\n",
        "\n",
        "Again, it's a good idea to functionize anything you think you might use over again (or find yourself using over and over again).\n",
        "\n",
        "Let's make functions for our evaluation metrics.\n"
      ]
    },
    {
      "cell_type": "code",
      "metadata": {
        "id": "NuoVwFXJ08mX"
      },
      "source": [
        "# Make some functions to reuse MAE and MSE\n",
        "def mae(y_true, y_preds):\n",
        "  return tf.metrics.Mean_absolute_error(y_true=y_true,\n",
        "                                        y_preds=y_preds)\n",
        "def mse(y_true, y_preds):\n",
        "  return tf.metrics.mean_squared_error(y_true=y_true,\n",
        "                                       y_preds=y_preds)\n",
        "  mae, mse\n",
        "  \n"
      ],
      "execution_count": 54,
      "outputs": []
    },
    {
      "cell_type": "code",
      "metadata": {
        "id": "D1uiORhy3aC2"
      },
      "source": [
        "def mae(y_test, y_pred):\n",
        "  \"\"\"\n",
        "  Calculuates mean absolute error between y_test and y_preds.\n",
        "  \"\"\"\n",
        "  return tf.metrics.mean_absolute_error(y_test,\n",
        "                                        y_pred)\n",
        "  \n",
        "def mse(y_test, y_pred):\n",
        "  \"\"\"\n",
        "  Calculates mean squared error between y_test and y_preds.\n",
        "  \"\"\"\n",
        "  return tf.metrics.mean_squared_error(y_test,\n",
        "                                       y_pred)"
      ],
      "execution_count": 55,
      "outputs": []
    },
    {
      "cell_type": "markdown",
      "metadata": {
        "id": "iG_1Cagj3mAk"
      },
      "source": [
        "# Running experiments to improve a model\n",
        "\n",
        "After seeing the evaluation metrics and the predictions your model makes, it's likely you'll want to improve it.\n",
        "\n",
        "Again, there are many different ways you can do this, but 3 of the main ones are:\n",
        "\n",
        "    Get more data - get more examples for your model to train on (more opportunities to learn patterns).\n",
        "    Make your model larger (use a more complex model) - this might come in the form of more layers or more hidden units in each layer.\n",
        "    Train for longer - give your model more of a chance to find the patterns in the data.\n",
        "\n",
        "Since we created our dataset, we could easily make more data but this isn't always the case when you're working with real-world datasets.\n",
        "\n",
        "So let's take a look at how we can improve our model using 2 and 3.\n",
        "\n",
        "To do so, we'll build 3 models and compare their results:\n",
        "\n",
        "    model_1 - same as original model, 1 layer, trained for 100 epochs.\n",
        "    model_2 - 2 layers, trained for 100 epochs.\n",
        "    model_3 - 2 layers, trained for 500 epochs.\n"
      ]
    },
    {
      "cell_type": "code",
      "metadata": {
        "colab": {
          "base_uri": "https://localhost:8080/"
        },
        "id": "E9xre5anIotH",
        "outputId": "9db95d50-c450-45d1-c562-d0afa281a5ab"
      },
      "source": [
        "X_train, y_train"
      ],
      "execution_count": 56,
      "outputs": [
        {
          "output_type": "execute_result",
          "data": {
            "text/plain": [
              "(array([-100,  -96,  -92,  -88,  -84,  -80,  -76,  -72,  -68,  -64,  -60,\n",
              "         -56,  -52,  -48,  -44,  -40,  -36,  -32,  -28,  -24,  -20,  -16,\n",
              "         -12,   -8,   -4,    0,    4,    8,   12,   16,   20,   24,   28,\n",
              "          32,   36,   40,   44,   48,   52,   56]),\n",
              " array([-90, -86, -82, -78, -74, -70, -66, -62, -58, -54, -50, -46, -42,\n",
              "        -38, -34, -30, -26, -22, -18, -14, -10,  -6,  -2,   2,   6,  10,\n",
              "         14,  18,  22,  26,  30,  34,  38,  42,  46,  50,  54,  58,  62,\n",
              "         66]))"
            ]
          },
          "metadata": {
            "tags": []
          },
          "execution_count": 56
        }
      ]
    },
    {
      "cell_type": "code",
      "metadata": {
        "colab": {
          "base_uri": "https://localhost:8080/"
        },
        "id": "t1c1T776ID-9",
        "outputId": "710c5362-4919-4a92-e59e-cf049c1526a0"
      },
      "source": [
        "# Set random seed\n",
        "tf.random.set_seed(42)\n",
        "\n",
        "# Replicate original model\n",
        "model_1 = tf.keras.Sequential([\n",
        "  tf.keras.layers.Dense(1)\n",
        "])\n",
        "\n",
        "# Compile the model\n",
        "model_1.compile(loss=tf.keras.losses.mae,\n",
        "                optimizer=tf.keras.optimizers.SGD(),\n",
        "                metrics=['mae'])\n",
        "\n",
        "# Fit the model\n",
        "model_1.fit(X_train, y_train, epochs=100)"
      ],
      "execution_count": 57,
      "outputs": [
        {
          "output_type": "stream",
          "text": [
            "Epoch 1/100\n",
            "2/2 [==============================] - 0s 4ms/step - loss: 15.9024 - mae: 15.9024\n",
            "Epoch 2/100\n",
            "2/2 [==============================] - 0s 5ms/step - loss: 11.2837 - mae: 11.2837\n",
            "Epoch 3/100\n",
            "2/2 [==============================] - 0s 3ms/step - loss: 11.1074 - mae: 11.1074\n",
            "Epoch 4/100\n",
            "2/2 [==============================] - 0s 3ms/step - loss: 9.2991 - mae: 9.2991\n",
            "Epoch 5/100\n",
            "2/2 [==============================] - 0s 4ms/step - loss: 10.1677 - mae: 10.1677\n",
            "Epoch 6/100\n",
            "2/2 [==============================] - 0s 3ms/step - loss: 9.4303 - mae: 9.4303\n",
            "Epoch 7/100\n",
            "2/2 [==============================] - 0s 3ms/step - loss: 8.5704 - mae: 8.5704\n",
            "Epoch 8/100\n",
            "2/2 [==============================] - 0s 3ms/step - loss: 9.0442 - mae: 9.0442\n",
            "Epoch 9/100\n",
            "2/2 [==============================] - 0s 3ms/step - loss: 18.7517 - mae: 18.7517\n",
            "Epoch 10/100\n",
            "2/2 [==============================] - 0s 3ms/step - loss: 10.1142 - mae: 10.1142\n",
            "Epoch 11/100\n",
            "2/2 [==============================] - 0s 5ms/step - loss: 8.3980 - mae: 8.3980\n",
            "Epoch 12/100\n",
            "2/2 [==============================] - 0s 3ms/step - loss: 10.6639 - mae: 10.6639\n",
            "Epoch 13/100\n",
            "2/2 [==============================] - 0s 3ms/step - loss: 9.7977 - mae: 9.7977\n",
            "Epoch 14/100\n",
            "2/2 [==============================] - 0s 3ms/step - loss: 16.0103 - mae: 16.0103\n",
            "Epoch 15/100\n",
            "2/2 [==============================] - 0s 3ms/step - loss: 11.4068 - mae: 11.4068\n",
            "Epoch 16/100\n",
            "2/2 [==============================] - 0s 6ms/step - loss: 8.5393 - mae: 8.5393\n",
            "Epoch 17/100\n",
            "2/2 [==============================] - 0s 3ms/step - loss: 13.6348 - mae: 13.6348\n",
            "Epoch 18/100\n",
            "2/2 [==============================] - 0s 3ms/step - loss: 11.4629 - mae: 11.4629\n",
            "Epoch 19/100\n",
            "2/2 [==============================] - 0s 6ms/step - loss: 17.9148 - mae: 17.9148\n",
            "Epoch 20/100\n",
            "2/2 [==============================] - 0s 5ms/step - loss: 15.0494 - mae: 15.0494\n",
            "Epoch 21/100\n",
            "2/2 [==============================] - 0s 4ms/step - loss: 11.0216 - mae: 11.0216\n",
            "Epoch 22/100\n",
            "2/2 [==============================] - 0s 3ms/step - loss: 8.1558 - mae: 8.1558\n",
            "Epoch 23/100\n",
            "2/2 [==============================] - 0s 5ms/step - loss: 9.5138 - mae: 9.5138\n",
            "Epoch 24/100\n",
            "2/2 [==============================] - 0s 4ms/step - loss: 7.6617 - mae: 7.6617\n",
            "Epoch 25/100\n",
            "2/2 [==============================] - 0s 6ms/step - loss: 13.1859 - mae: 13.1859\n",
            "Epoch 26/100\n",
            "2/2 [==============================] - 0s 4ms/step - loss: 16.4211 - mae: 16.4211\n",
            "Epoch 27/100\n",
            "2/2 [==============================] - 0s 4ms/step - loss: 13.1660 - mae: 13.1660\n",
            "Epoch 28/100\n",
            "2/2 [==============================] - 0s 3ms/step - loss: 14.2559 - mae: 14.2559\n",
            "Epoch 29/100\n",
            "2/2 [==============================] - 0s 9ms/step - loss: 10.0670 - mae: 10.0670\n",
            "Epoch 30/100\n",
            "2/2 [==============================] - 0s 3ms/step - loss: 16.3409 - mae: 16.3409\n",
            "Epoch 31/100\n",
            "2/2 [==============================] - 0s 11ms/step - loss: 23.6444 - mae: 23.6444\n",
            "Epoch 32/100\n",
            "2/2 [==============================] - 0s 7ms/step - loss: 7.6215 - mae: 7.6215\n",
            "Epoch 33/100\n",
            "2/2 [==============================] - 0s 4ms/step - loss: 9.3221 - mae: 9.3221\n",
            "Epoch 34/100\n",
            "2/2 [==============================] - 0s 4ms/step - loss: 13.7313 - mae: 13.7313\n",
            "Epoch 35/100\n",
            "2/2 [==============================] - 0s 4ms/step - loss: 11.1276 - mae: 11.1276\n",
            "Epoch 36/100\n",
            "2/2 [==============================] - 0s 4ms/step - loss: 13.3222 - mae: 13.3222\n",
            "Epoch 37/100\n",
            "2/2 [==============================] - 0s 3ms/step - loss: 9.4763 - mae: 9.4763\n",
            "Epoch 38/100\n",
            "2/2 [==============================] - 0s 3ms/step - loss: 10.1381 - mae: 10.1381\n",
            "Epoch 39/100\n",
            "2/2 [==============================] - 0s 3ms/step - loss: 10.1793 - mae: 10.1793\n",
            "Epoch 40/100\n",
            "2/2 [==============================] - 0s 4ms/step - loss: 10.9137 - mae: 10.9137\n",
            "Epoch 41/100\n",
            "2/2 [==============================] - 0s 7ms/step - loss: 7.9063 - mae: 7.9063\n",
            "Epoch 42/100\n",
            "2/2 [==============================] - 0s 4ms/step - loss: 10.0914 - mae: 10.0914\n",
            "Epoch 43/100\n",
            "2/2 [==============================] - 0s 6ms/step - loss: 8.7006 - mae: 8.7006\n",
            "Epoch 44/100\n",
            "2/2 [==============================] - 0s 4ms/step - loss: 12.2047 - mae: 12.2047\n",
            "Epoch 45/100\n",
            "2/2 [==============================] - 0s 4ms/step - loss: 13.7970 - mae: 13.7970\n",
            "Epoch 46/100\n",
            "2/2 [==============================] - 0s 3ms/step - loss: 8.4687 - mae: 8.4687\n",
            "Epoch 47/100\n",
            "2/2 [==============================] - 0s 4ms/step - loss: 9.1330 - mae: 9.1330\n",
            "Epoch 48/100\n",
            "2/2 [==============================] - 0s 4ms/step - loss: 10.6190 - mae: 10.6190\n",
            "Epoch 49/100\n",
            "2/2 [==============================] - 0s 8ms/step - loss: 7.7503 - mae: 7.7503\n",
            "Epoch 50/100\n",
            "2/2 [==============================] - 0s 8ms/step - loss: 9.5407 - mae: 9.5407\n",
            "Epoch 51/100\n",
            "2/2 [==============================] - 0s 4ms/step - loss: 9.1584 - mae: 9.1584\n",
            "Epoch 52/100\n",
            "2/2 [==============================] - 0s 5ms/step - loss: 16.3630 - mae: 16.3630\n",
            "Epoch 53/100\n",
            "2/2 [==============================] - 0s 9ms/step - loss: 14.1299 - mae: 14.1299\n",
            "Epoch 54/100\n",
            "2/2 [==============================] - 0s 4ms/step - loss: 21.1247 - mae: 21.1247\n",
            "Epoch 55/100\n",
            "2/2 [==============================] - 0s 5ms/step - loss: 16.3961 - mae: 16.3961\n",
            "Epoch 56/100\n",
            "2/2 [==============================] - 0s 4ms/step - loss: 9.9806 - mae: 9.9806\n",
            "Epoch 57/100\n",
            "2/2 [==============================] - 0s 4ms/step - loss: 9.9606 - mae: 9.9606\n",
            "Epoch 58/100\n",
            "2/2 [==============================] - 0s 4ms/step - loss: 9.2209 - mae: 9.2209\n",
            "Epoch 59/100\n",
            "2/2 [==============================] - 0s 4ms/step - loss: 8.4239 - mae: 8.4239\n",
            "Epoch 60/100\n",
            "2/2 [==============================] - 0s 3ms/step - loss: 9.4869 - mae: 9.4869\n",
            "Epoch 61/100\n",
            "2/2 [==============================] - 0s 4ms/step - loss: 11.4355 - mae: 11.4355\n",
            "Epoch 62/100\n",
            "2/2 [==============================] - 0s 4ms/step - loss: 11.6887 - mae: 11.6887\n",
            "Epoch 63/100\n",
            "2/2 [==============================] - 0s 3ms/step - loss: 7.0838 - mae: 7.0838\n",
            "Epoch 64/100\n",
            "2/2 [==============================] - 0s 4ms/step - loss: 16.9675 - mae: 16.9675\n",
            "Epoch 65/100\n",
            "2/2 [==============================] - 0s 4ms/step - loss: 12.4599 - mae: 12.4599\n",
            "Epoch 66/100\n",
            "2/2 [==============================] - 0s 4ms/step - loss: 13.0184 - mae: 13.0184\n",
            "Epoch 67/100\n",
            "2/2 [==============================] - 0s 4ms/step - loss: 8.0600 - mae: 8.0600\n",
            "Epoch 68/100\n",
            "2/2 [==============================] - 0s 12ms/step - loss: 10.1888 - mae: 10.1888\n",
            "Epoch 69/100\n",
            "2/2 [==============================] - 0s 6ms/step - loss: 12.3633 - mae: 12.3633\n",
            "Epoch 70/100\n",
            "2/2 [==============================] - 0s 8ms/step - loss: 9.0516 - mae: 9.0516\n",
            "Epoch 71/100\n",
            "2/2 [==============================] - 0s 6ms/step - loss: 10.0378 - mae: 10.0378\n",
            "Epoch 72/100\n",
            "2/2 [==============================] - 0s 4ms/step - loss: 10.0516 - mae: 10.0516\n",
            "Epoch 73/100\n",
            "2/2 [==============================] - 0s 12ms/step - loss: 12.6151 - mae: 12.6151\n",
            "Epoch 74/100\n",
            "2/2 [==============================] - 0s 3ms/step - loss: 10.3819 - mae: 10.3819\n",
            "Epoch 75/100\n",
            "2/2 [==============================] - 0s 4ms/step - loss: 9.7229 - mae: 9.7229\n",
            "Epoch 76/100\n",
            "2/2 [==============================] - 0s 3ms/step - loss: 11.2252 - mae: 11.2252\n",
            "Epoch 77/100\n",
            "2/2 [==============================] - 0s 7ms/step - loss: 8.3642 - mae: 8.3642\n",
            "Epoch 78/100\n",
            "2/2 [==============================] - 0s 5ms/step - loss: 9.1274 - mae: 9.1274\n",
            "Epoch 79/100\n",
            "2/2 [==============================] - 0s 6ms/step - loss: 19.5039 - mae: 19.5039\n",
            "Epoch 80/100\n",
            "2/2 [==============================] - 0s 4ms/step - loss: 14.8945 - mae: 14.8945\n",
            "Epoch 81/100\n",
            "2/2 [==============================] - 0s 3ms/step - loss: 9.0034 - mae: 9.0034\n",
            "Epoch 82/100\n",
            "2/2 [==============================] - 0s 11ms/step - loss: 13.0206 - mae: 13.0206\n",
            "Epoch 83/100\n",
            "2/2 [==============================] - 0s 8ms/step - loss: 7.9299 - mae: 7.9299\n",
            "Epoch 84/100\n",
            "2/2 [==============================] - 0s 6ms/step - loss: 7.6872 - mae: 7.6872\n",
            "Epoch 85/100\n",
            "2/2 [==============================] - 0s 5ms/step - loss: 10.0328 - mae: 10.0328\n",
            "Epoch 86/100\n",
            "2/2 [==============================] - 0s 3ms/step - loss: 9.2433 - mae: 9.2433\n",
            "Epoch 87/100\n",
            "2/2 [==============================] - 0s 6ms/step - loss: 12.0209 - mae: 12.0209\n",
            "Epoch 88/100\n",
            "2/2 [==============================] - 0s 4ms/step - loss: 10.6389 - mae: 10.6389\n",
            "Epoch 89/100\n",
            "2/2 [==============================] - 0s 5ms/step - loss: 7.2667 - mae: 7.2667\n",
            "Epoch 90/100\n",
            "2/2 [==============================] - 0s 3ms/step - loss: 12.7786 - mae: 12.7786\n",
            "Epoch 91/100\n",
            "2/2 [==============================] - 0s 4ms/step - loss: 7.3481 - mae: 7.3481\n",
            "Epoch 92/100\n",
            "2/2 [==============================] - 0s 3ms/step - loss: 7.7175 - mae: 7.7175\n",
            "Epoch 93/100\n",
            "2/2 [==============================] - 0s 6ms/step - loss: 7.1263 - mae: 7.1263\n",
            "Epoch 94/100\n",
            "2/2 [==============================] - 0s 3ms/step - loss: 12.6190 - mae: 12.6190\n",
            "Epoch 95/100\n",
            "2/2 [==============================] - 0s 3ms/step - loss: 10.0912 - mae: 10.0912\n",
            "Epoch 96/100\n",
            "2/2 [==============================] - 0s 5ms/step - loss: 9.3558 - mae: 9.3558\n",
            "Epoch 97/100\n",
            "2/2 [==============================] - 0s 4ms/step - loss: 12.6834 - mae: 12.6834\n",
            "Epoch 98/100\n",
            "2/2 [==============================] - 0s 6ms/step - loss: 8.6762 - mae: 8.6762\n",
            "Epoch 99/100\n",
            "2/2 [==============================] - 0s 15ms/step - loss: 9.4693 - mae: 9.4693\n",
            "Epoch 100/100\n",
            "2/2 [==============================] - 0s 6ms/step - loss: 8.7067 - mae: 8.7067\n"
          ],
          "name": "stdout"
        },
        {
          "output_type": "execute_result",
          "data": {
            "text/plain": [
              "<tensorflow.python.keras.callbacks.History at 0x7fb8ee9b9ed0>"
            ]
          },
          "metadata": {
            "tags": []
          },
          "execution_count": 57
        }
      ]
    },
    {
      "cell_type": "code",
      "metadata": {
        "colab": {
          "base_uri": "https://localhost:8080/",
          "height": 465
        },
        "id": "iARQqXL2IKYf",
        "outputId": "85f8b161-e07e-4780-c4a9-6dbf584e67e5"
      },
      "source": [
        "# Make and plot predictions for model_1\n",
        "y_preds_1 = model_1.predict(X_test)\n",
        "plot_predictions(predictions=y_preds_1)"
      ],
      "execution_count": 58,
      "outputs": [
        {
          "output_type": "stream",
          "text": [
            "WARNING:tensorflow:6 out of the last 6 calls to <function Model.make_predict_function.<locals>.predict_function at 0x7fb901c5d3b0> triggered tf.function retracing. Tracing is expensive and the excessive number of tracings could be due to (1) creating @tf.function repeatedly in a loop, (2) passing tensors with different shapes, (3) passing Python objects instead of tensors. For (1), please define your @tf.function outside of the loop. For (2), @tf.function has experimental_relax_shapes=True option that relaxes argument shapes that can avoid unnecessary retracing. For (3), please refer to https://www.tensorflow.org/guide/function#controlling_retracing and https://www.tensorflow.org/api_docs/python/tf/function for  more details.\n"
          ],
          "name": "stdout"
        },
        {
          "output_type": "display_data",
          "data": {
            "image/png": "[encoded data removed]",
            "text/plain": [
              "<Figure size 720x504 with 1 Axes>"
            ]
          },
          "metadata": {
            "tags": [],
            "needs_background": "light"
          }
        }
      ]
    },
    {
      "cell_type": "code",
      "metadata": {
        "colab": {
          "base_uri": "https://localhost:8080/"
        },
        "id": "nRTmA96VKMuv",
        "outputId": "834959ec-4c4d-44d7-f4f1-6c3547a5c07a"
      },
      "source": [
        "# Calculate model_1 metrics\n",
        "mae_1 = mae(y_test, y_preds_1.squeeze()).numpy()\n",
        "mse_1 = mse(y_test, y_preds_1.squeeze()).numpy()\n",
        "mae_1, mse_1"
      ],
      "execution_count": 59,
      "outputs": [
        {
          "output_type": "execute_result",
          "data": {
            "text/plain": [
              "(18.745327, 353.57336)"
            ]
          },
          "metadata": {
            "tags": []
          },
          "execution_count": 59
        }
      ]
    },
    {
      "cell_type": "code",
      "metadata": {
        "colab": {
          "base_uri": "https://localhost:8080/"
        },
        "id": "PC3rq2LxKtYP",
        "outputId": "b82411d5-17d4-4efe-a5d2-f441253e6b23"
      },
      "source": [
        "tf.constant(y_preds_1), tf.squeeze(y_preds_1)"
      ],
      "execution_count": 60,
      "outputs": [
        {
          "output_type": "execute_result",
          "data": {
            "text/plain": [
              "(<tf.Tensor: shape=(10, 1), dtype=float32, numpy=\n",
              " array([[53.57109 ],\n",
              "        [57.05633 ],\n",
              "        [60.541573],\n",
              "        [64.02681 ],\n",
              "        [67.512054],\n",
              "        [70.99729 ],\n",
              "        [74.48254 ],\n",
              "        [77.96777 ],\n",
              "        [81.45301 ],\n",
              "        [84.938255]], dtype=float32)>,\n",
              " <tf.Tensor: shape=(10,), dtype=float32, numpy=\n",
              " array([53.57109 , 57.05633 , 60.541573, 64.02681 , 67.512054, 70.99729 ,\n",
              "        74.48254 , 77.96777 , 81.45301 , 84.938255], dtype=float32)>)"
            ]
          },
          "metadata": {
            "tags": []
          },
          "execution_count": 60
        }
      ]
    },
    {
      "cell_type": "markdown",
      "metadata": {
        "id": "HtLz9CjmLXVP"
      },
      "source": [
        "\n",
        "\n",
        "Build model_2\n",
        "\n",
        "This time we'll add an extra dense layer (so now our model will have 2 layers) whilst keeping everything else the same.\n"
      ]
    },
    {
      "cell_type": "code",
      "metadata": {
        "colab": {
          "base_uri": "https://localhost:8080/"
        },
        "id": "zw6DwCgcK7sX",
        "outputId": "4c3e6d79-04d0-450b-efaf-ea03312bfb31"
      },
      "source": [
        "# Set random seed\n",
        "tf.random.set_seed(42)\n",
        "\n",
        "# Replicate model_1 and add an extra layer\n",
        "model_2 = tf.keras.Sequential([\n",
        "  tf.keras.layers.Dense(1),\n",
        "  tf.keras.layers.Dense(1) # add a second layer\n",
        "])\n",
        "\n",
        "# Compile the model\n",
        "model_2.compile(loss=tf.keras.losses.mae,\n",
        "                optimizer=tf.keras.optimizers.SGD(),\n",
        "                metrics=['mse'])\n",
        "\n",
        "# Fit the model\n",
        "model_2.fit(X_train, y_train, epochs=100)#, verbose=0) # set verbose to 0 for less output"
      ],
      "execution_count": 61,
      "outputs": [
        {
          "output_type": "stream",
          "text": [
            "Epoch 1/100\n",
            "2/2 [==============================] - 0s 4ms/step - loss: 22.6625 - mse: 730.7203\n",
            "Epoch 2/100\n",
            "2/2 [==============================] - 0s 4ms/step - loss: 16.9439 - mse: 457.8568\n",
            "Epoch 3/100\n",
            "2/2 [==============================] - 0s 4ms/step - loss: 13.8059 - mse: 246.0893\n",
            "Epoch 4/100\n",
            "2/2 [==============================] - 0s 4ms/step - loss: 17.4504 - mse: 427.5064\n",
            "Epoch 5/100\n",
            "2/2 [==============================] - 0s 5ms/step - loss: 12.0637 - mse: 183.7775\n",
            "Epoch 6/100\n",
            "2/2 [==============================] - 0s 5ms/step - loss: 9.8335 - mse: 113.4307\n",
            "Epoch 7/100\n",
            "2/2 [==============================] - 0s 7ms/step - loss: 10.7023 - mse: 138.7539\n",
            "Epoch 8/100\n",
            "2/2 [==============================] - 0s 5ms/step - loss: 10.8713 - mse: 139.0908\n",
            "Epoch 9/100\n",
            "2/2 [==============================] - 0s 4ms/step - loss: 38.0435 - mse: 2242.6597\n",
            "Epoch 10/100\n",
            "2/2 [==============================] - 0s 6ms/step - loss: 25.6226 - mse: 922.2128\n",
            "Epoch 11/100\n",
            "2/2 [==============================] - 0s 8ms/step - loss: 10.2375 - mse: 148.0953\n",
            "Epoch 12/100\n",
            "2/2 [==============================] - 0s 6ms/step - loss: 25.1960 - mse: 884.4738\n",
            "Epoch 13/100\n",
            "2/2 [==============================] - 0s 7ms/step - loss: 17.0177 - mse: 401.7120\n",
            "Epoch 14/100\n",
            "2/2 [==============================] - 0s 6ms/step - loss: 25.9747 - mse: 1054.3958\n",
            "Epoch 15/100\n",
            "2/2 [==============================] - 0s 5ms/step - loss: 18.0366 - mse: 452.3427\n",
            "Epoch 16/100\n",
            "2/2 [==============================] - 0s 6ms/step - loss: 7.3513 - mse: 80.3572\n",
            "Epoch 17/100\n",
            "2/2 [==============================] - 0s 9ms/step - loss: 10.8516 - mse: 174.5898\n",
            "Epoch 18/100\n",
            "2/2 [==============================] - 0s 6ms/step - loss: 19.5119 - mse: 564.6961\n",
            "Epoch 19/100\n",
            "2/2 [==============================] - 0s 7ms/step - loss: 10.3378 - mse: 167.9056\n",
            "Epoch 20/100\n",
            "2/2 [==============================] - 0s 6ms/step - loss: 17.6840 - mse: 454.6942\n",
            "Epoch 21/100\n",
            "2/2 [==============================] - 0s 3ms/step - loss: 15.8826 - mse: 346.4473\n",
            "Epoch 22/100\n",
            "2/2 [==============================] - 0s 6ms/step - loss: 14.1778 - mse: 284.4783\n",
            "Epoch 23/100\n",
            "2/2 [==============================] - 0s 4ms/step - loss: 8.7814 - mse: 91.6130\n",
            "Epoch 24/100\n",
            "2/2 [==============================] - 0s 4ms/step - loss: 11.0673 - mse: 153.6725\n",
            "Epoch 25/100\n",
            "2/2 [==============================] - 0s 4ms/step - loss: 12.6998 - mse: 234.4242\n",
            "Epoch 26/100\n",
            "2/2 [==============================] - 0s 6ms/step - loss: 26.2395 - mse: 1029.1600\n",
            "Epoch 27/100\n",
            "2/2 [==============================] - 0s 5ms/step - loss: 11.7524 - mse: 195.8459\n",
            "Epoch 28/100\n",
            "2/2 [==============================] - 0s 9ms/step - loss: 22.9252 - mse: 839.5217\n",
            "Epoch 29/100\n",
            "2/2 [==============================] - 0s 4ms/step - loss: 9.2439 - mse: 96.5096\n",
            "Epoch 30/100\n",
            "2/2 [==============================] - 0s 7ms/step - loss: 29.3121 - mse: 1541.4504\n",
            "Epoch 31/100\n",
            "2/2 [==============================] - 0s 4ms/step - loss: 53.1141 - mse: 5048.5186\n",
            "Epoch 32/100\n",
            "2/2 [==============================] - 0s 3ms/step - loss: 12.3708 - mse: 223.5310\n",
            "Epoch 33/100\n",
            "2/2 [==============================] - 0s 5ms/step - loss: 12.1831 - mse: 182.1444\n",
            "Epoch 34/100\n",
            "2/2 [==============================] - 0s 3ms/step - loss: 23.9483 - mse: 869.1888\n",
            "Epoch 35/100\n",
            "2/2 [==============================] - 0s 3ms/step - loss: 12.6223 - mse: 243.1389\n",
            "Epoch 36/100\n",
            "2/2 [==============================] - 0s 3ms/step - loss: 21.5243 - mse: 660.7559\n",
            "Epoch 37/100\n",
            "2/2 [==============================] - 0s 7ms/step - loss: 11.3913 - mse: 150.3677\n",
            "Epoch 38/100\n",
            "2/2 [==============================] - 0s 3ms/step - loss: 13.4744 - mse: 269.5719\n",
            "Epoch 39/100\n",
            "2/2 [==============================] - 0s 4ms/step - loss: 10.7992 - mse: 139.4418\n",
            "Epoch 40/100\n",
            "2/2 [==============================] - 0s 5ms/step - loss: 16.6026 - mse: 399.9462\n",
            "Epoch 41/100\n",
            "2/2 [==============================] - 0s 7ms/step - loss: 10.9797 - mse: 180.0730\n",
            "Epoch 42/100\n",
            "2/2 [==============================] - 0s 6ms/step - loss: 9.3049 - mse: 115.2751\n",
            "Epoch 43/100\n",
            "2/2 [==============================] - 0s 6ms/step - loss: 9.5985 - mse: 111.1603\n",
            "Epoch 44/100\n",
            "2/2 [==============================] - 0s 6ms/step - loss: 27.9750 - mse: 1255.0880\n",
            "Epoch 45/100\n",
            "2/2 [==============================] - 0s 3ms/step - loss: 11.2865 - mse: 146.9482\n",
            "Epoch 46/100\n",
            "2/2 [==============================] - 0s 5ms/step - loss: 14.0574 - mse: 288.2434\n",
            "Epoch 47/100\n",
            "2/2 [==============================] - 0s 6ms/step - loss: 13.5113 - mse: 256.8898\n",
            "Epoch 48/100\n",
            "2/2 [==============================] - 0s 5ms/step - loss: 17.3531 - mse: 408.5315\n",
            "Epoch 49/100\n",
            "2/2 [==============================] - 0s 5ms/step - loss: 9.5141 - mse: 98.5780\n",
            "Epoch 50/100\n",
            "2/2 [==============================] - 0s 5ms/step - loss: 13.6965 - mse: 252.8125\n",
            "Epoch 51/100\n",
            "2/2 [==============================] - 0s 6ms/step - loss: 11.5602 - mse: 152.9112\n",
            "Epoch 52/100\n",
            "2/2 [==============================] - 0s 6ms/step - loss: 30.1688 - mse: 1569.2102\n",
            "Epoch 53/100\n",
            "2/2 [==============================] - 0s 5ms/step - loss: 13.7142 - mse: 277.9872\n",
            "Epoch 54/100\n",
            "2/2 [==============================] - 0s 6ms/step - loss: 26.3987 - mse: 1068.3807\n",
            "Epoch 55/100\n",
            "2/2 [==============================] - 0s 6ms/step - loss: 25.9838 - mse: 1024.2789\n",
            "Epoch 56/100\n",
            "2/2 [==============================] - 0s 7ms/step - loss: 11.2307 - mse: 171.5243\n",
            "Epoch 57/100\n",
            "2/2 [==============================] - 0s 14ms/step - loss: 13.2025 - mse: 217.5930\n",
            "Epoch 58/100\n",
            "2/2 [==============================] - 0s 7ms/step - loss: 9.8624 - mse: 107.3248\n",
            "Epoch 59/100\n",
            "2/2 [==============================] - 0s 8ms/step - loss: 13.3870 - mse: 253.6116\n",
            "Epoch 60/100\n",
            "2/2 [==============================] - 0s 5ms/step - loss: 10.9240 - mse: 141.0092\n",
            "Epoch 61/100\n",
            "2/2 [==============================] - 0s 4ms/step - loss: 13.5375 - mse: 244.9044\n",
            "Epoch 62/100\n",
            "2/2 [==============================] - 0s 10ms/step - loss: 17.6004 - mse: 472.9572\n",
            "Epoch 63/100\n",
            "2/2 [==============================] - 0s 6ms/step - loss: 9.1937 - mse: 88.0222\n",
            "Epoch 64/100\n",
            "2/2 [==============================] - 0s 4ms/step - loss: 18.4644 - mse: 495.5126\n",
            "Epoch 65/100\n",
            "2/2 [==============================] - 0s 10ms/step - loss: 10.1481 - mse: 115.8306\n",
            "Epoch 66/100\n",
            "2/2 [==============================] - 0s 9ms/step - loss: 24.3358 - mse: 894.4567\n",
            "Epoch 67/100\n",
            "2/2 [==============================] - 0s 8ms/step - loss: 10.9262 - mse: 144.0203\n",
            "Epoch 68/100\n",
            "2/2 [==============================] - 0s 4ms/step - loss: 10.8005 - mse: 160.7119\n",
            "Epoch 69/100\n",
            "2/2 [==============================] - 0s 5ms/step - loss: 23.3093 - mse: 785.6154\n",
            "Epoch 70/100\n",
            "2/2 [==============================] - 0s 7ms/step - loss: 8.8134 - mse: 143.8698\n",
            "Epoch 71/100\n",
            "2/2 [==============================] - 0s 8ms/step - loss: 15.9715 - mse: 347.1664\n",
            "Epoch 72/100\n",
            "2/2 [==============================] - 0s 11ms/step - loss: 8.1469 - mse: 109.9948\n",
            "Epoch 73/100\n",
            "2/2 [==============================] - 0s 5ms/step - loss: 9.4683 - mse: 153.5231\n",
            "Epoch 74/100\n",
            "2/2 [==============================] - 0s 4ms/step - loss: 28.1492 - mse: 1109.9485\n",
            "Epoch 75/100\n",
            "2/2 [==============================] - 0s 3ms/step - loss: 10.2183 - mse: 145.7852\n",
            "Epoch 76/100\n",
            "2/2 [==============================] - 0s 4ms/step - loss: 13.1686 - mse: 219.4318\n",
            "Epoch 77/100\n",
            "2/2 [==============================] - 0s 3ms/step - loss: 18.4013 - mse: 531.0851\n",
            "Epoch 78/100\n",
            "2/2 [==============================] - 0s 4ms/step - loss: 9.0304 - mse: 91.7328\n",
            "Epoch 79/100\n",
            "2/2 [==============================] - 0s 4ms/step - loss: 23.4407 - mse: 821.9720\n",
            "Epoch 80/100\n",
            "2/2 [==============================] - 0s 4ms/step - loss: 26.1121 - mse: 1047.6493\n",
            "Epoch 81/100\n",
            "2/2 [==============================] - 0s 7ms/step - loss: 11.4009 - mse: 158.5122\n",
            "Epoch 82/100\n",
            "2/2 [==============================] - 0s 4ms/step - loss: 12.5022 - mse: 227.8562\n",
            "Epoch 83/100\n",
            "2/2 [==============================] - 0s 3ms/step - loss: 17.1948 - mse: 384.5736\n",
            "Epoch 84/100\n",
            "2/2 [==============================] - 0s 3ms/step - loss: 6.6097 - mse: 64.8605\n",
            "Epoch 85/100\n",
            "2/2 [==============================] - 0s 3ms/step - loss: 20.2735 - mse: 574.6544\n",
            "Epoch 86/100\n",
            "2/2 [==============================] - 0s 3ms/step - loss: 10.1761 - mse: 115.6941\n",
            "Epoch 87/100\n",
            "2/2 [==============================] - 0s 4ms/step - loss: 24.3047 - mse: 826.4015\n",
            "Epoch 88/100\n",
            "2/2 [==============================] - 0s 3ms/step - loss: 18.9693 - mse: 511.1575\n",
            "Epoch 89/100\n",
            "2/2 [==============================] - 0s 4ms/step - loss: 7.1749 - mse: 70.5006\n",
            "Epoch 90/100\n",
            "2/2 [==============================] - 0s 4ms/step - loss: 18.2784 - mse: 496.0709\n",
            "Epoch 91/100\n",
            "2/2 [==============================] - 0s 3ms/step - loss: 13.3343 - mse: 256.6013\n",
            "Epoch 92/100\n",
            "2/2 [==============================] - 0s 4ms/step - loss: 8.7404 - mse: 127.3696\n",
            "Epoch 93/100\n",
            "2/2 [==============================] - 0s 5ms/step - loss: 14.1947 - mse: 276.4909\n",
            "Epoch 94/100\n",
            "2/2 [==============================] - 0s 3ms/step - loss: 17.1954 - mse: 437.7806\n",
            "Epoch 95/100\n",
            "2/2 [==============================] - 0s 3ms/step - loss: 16.7777 - mse: 385.2820\n",
            "Epoch 96/100\n",
            "2/2 [==============================] - 0s 3ms/step - loss: 11.1365 - mse: 209.8283\n",
            "Epoch 97/100\n",
            "2/2 [==============================] - 0s 3ms/step - loss: 21.1982 - mse: 641.4230\n",
            "Epoch 98/100\n",
            "2/2 [==============================] - 0s 14ms/step - loss: 10.4874 - mse: 139.7856\n",
            "Epoch 99/100\n",
            "2/2 [==============================] - 0s 4ms/step - loss: 14.5632 - mse: 294.5455\n",
            "Epoch 100/100\n",
            "2/2 [==============================] - 0s 3ms/step - loss: 17.7188 - mse: 465.6695\n"
          ],
          "name": "stdout"
        },
        {
          "output_type": "execute_result",
          "data": {
            "text/plain": [
              "<tensorflow.python.keras.callbacks.History at 0x7fb8eeb55b90>"
            ]
          },
          "metadata": {
            "tags": []
          },
          "execution_count": 61
        }
      ]
    },
    {
      "cell_type": "code",
      "metadata": {
        "colab": {
          "base_uri": "https://localhost:8080/",
          "height": 428
        },
        "id": "ognx9e8BLraA",
        "outputId": "370d4ce3-a0b7-4205-a2c9-919fd9351ebd"
      },
      "source": [
        "# Make and plot predictions for model_2\n",
        "y_preds_2 = model_2.predict(X_test)\n",
        "plot_predictions(predictions=y_preds_2)\n",
        "\n"
      ],
      "execution_count": 62,
      "outputs": [
        {
          "output_type": "display_data",
          "data": {
            "image/png": "[encoded data removed]",
            "text/plain": [
              "<Figure size 720x504 with 1 Axes>"
            ]
          },
          "metadata": {
            "tags": [],
            "needs_background": "light"
          }
        }
      ]
    },
    {
      "cell_type": "code",
      "metadata": {
        "colab": {
          "base_uri": "https://localhost:8080/"
        },
        "id": "4CEX91nIM35E",
        "outputId": "250b338f-3497-4bd5-fe14-b4a4bf99e487"
      },
      "source": [
        "# Calculate model_2 metrics\n",
        "mae_2 = mae(y_test, y_preds_2.squeeze()).numpy()\n",
        "mse_2 = mse(y_test, y_preds_2.squeeze()).numpy()\n",
        "mae_2, mse_2"
      ],
      "execution_count": 63,
      "outputs": [
        {
          "output_type": "execute_result",
          "data": {
            "text/plain": [
              "(1.9098114, 5.459232)"
            ]
          },
          "metadata": {
            "tags": []
          },
          "execution_count": 63
        }
      ]
    },
    {
      "cell_type": "markdown",
      "metadata": {
        "id": "vSSvRYGzNErn"
      },
      "source": [
        "\n",
        "\n",
        "Build model_3\n",
        "\n",
        "For our 3rd model, we'll keep everything the same as model_2 except this time we'll train for longer (500 epochs instead of 100).\n",
        "\n",
        "This will give our model more of a chance to learn the patterns in the data.\n"
      ]
    },
    {
      "cell_type": "code",
      "metadata": {
        "colab": {
          "base_uri": "https://localhost:8080/"
        },
        "id": "X26P6AAFNF1M",
        "outputId": "5c517510-a313-4c02-fae4-ad3b0a62b7d4"
      },
      "source": [
        "# Set random seed\n",
        "tf.random.set_seed(42)\n",
        "\n",
        "# Replicate model_2\n",
        "model_3 = tf.keras.Sequential([\n",
        "  tf.keras.layers.Dense(1),\n",
        "  tf.keras.layers.Dense(1)\n",
        "])\n",
        "\n",
        "# Compile the model\n",
        "model_3.compile(loss=tf.keras.losses.mae,\n",
        "                optimizer=tf.keras.optimizers.SGD(),\n",
        "                metrics=['mae'])\n",
        "\n",
        "# Fit the model (this time for 500 epochs, not 100)\n",
        "model_3.fit(X_train, y_train, epochs=500, verbose=0) # set verbose to 0 for less output"
      ],
      "execution_count": 64,
      "outputs": [
        {
          "output_type": "execute_result",
          "data": {
            "text/plain": [
              "<tensorflow.python.keras.callbacks.History at 0x7fb8eeae6710>"
            ]
          },
          "metadata": {
            "tags": []
          },
          "execution_count": 64
        }
      ]
    },
    {
      "cell_type": "code",
      "metadata": {
        "colab": {
          "base_uri": "https://localhost:8080/",
          "height": 428
        },
        "id": "Ccl60HyKNLnp",
        "outputId": "841ebe9e-7e62-4ab8-d180-8e91d84029f3"
      },
      "source": [
        "# Make and plot predictions for model_3\n",
        "y_preds_3 = model_3.predict(X_test)\n",
        "plot_predictions(predictions=y_preds_3)"
      ],
      "execution_count": 65,
      "outputs": [
        {
          "output_type": "display_data",
          "data": {
            "image/png": "[encoded data removed]",
            "text/plain": [
              "<Figure size 720x504 with 1 Axes>"
            ]
          },
          "metadata": {
            "tags": [],
            "needs_background": "light"
          }
        }
      ]
    },
    {
      "cell_type": "markdown",
      "metadata": {
        "id": "LWy8N1rRNwac"
      },
      "source": [
        "\n",
        "\n",
        "Strange, we trained for longer but our model performed worse?\n",
        "\n",
        "As it turns out, our model might've trained too long and has thus resulted in worse results (we'll see ways to prevent training for too long later on).\n"
      ]
    },
    {
      "cell_type": "code",
      "metadata": {
        "colab": {
          "base_uri": "https://localhost:8080/"
        },
        "id": "zA42QQVKNxaT",
        "outputId": "4b434630-3adc-4102-e583-cec3b42259aa"
      },
      "source": [
        "# Calculate model_3 metrics\n",
        "mae_3 = mae(y_test, y_preds_3.squeeze()).numpy()\n",
        "mse_3 = mse(y_test, y_preds_3.squeeze()).numpy()\n",
        "mae_3, mse_3\n"
      ],
      "execution_count": 66,
      "outputs": [
        {
          "output_type": "execute_result",
          "data": {
            "text/plain": [
              "(68.68786, 4804.4717)"
            ]
          },
          "metadata": {
            "tags": []
          },
          "execution_count": 66
        }
      ]
    },
    {
      "cell_type": "markdown",
      "metadata": {
        "id": "myW1XfvXN3FV"
      },
      "source": [
        "#Comparing results\n",
        "\n",
        "Now we've got results for 3 similar but slightly different results, let's compare them.\n"
      ]
    },
    {
      "cell_type": "code",
      "metadata": {
        "id": "TG4lVH8hN6EO"
      },
      "source": [
        "model_results = [[\"model_1\", mae_1, mse_1],\n",
        "                 [\"model_2\", mae_2, mse_2],\n",
        "                 [\"model_3\", mae_3, mae_3]]\n",
        "\n"
      ],
      "execution_count": 67,
      "outputs": []
    },
    {
      "cell_type": "code",
      "metadata": {
        "colab": {
          "base_uri": "https://localhost:8080/",
          "height": 143
        },
        "id": "dyywsNZpOUdQ",
        "outputId": "9bc143e7-b952-4fbd-f172-af51fd38ad57"
      },
      "source": [
        "import pandas as pd\n",
        "all_results = pd.DataFrame(model_results, columns=[\"model\", \"mae\", \"mse\"])\n",
        "all_results\n",
        "\n"
      ],
      "execution_count": 68,
      "outputs": [
        {
          "output_type": "execute_result",
          "data": {
            "text/html": [
              "<div>\n",
              "<style scoped>\n",
              "    .dataframe tbody tr th:only-of-type {\n",
              "        vertical-align: middle;\n",
              "    }\n",
              "\n",
              "    .dataframe tbody tr th {\n",
              "        vertical-align: top;\n",
              "    }\n",
              "\n",
              "    .dataframe thead th {\n",
              "        text-align: right;\n",
              "    }\n",
              "</style>\n",
              "<table border=\"1\" class=\"dataframe\">\n",
              "  <thead>\n",
              "    <tr style=\"text-align: right;\">\n",
              "      <th></th>\n",
              "      <th>model</th>\n",
              "      <th>mae</th>\n",
              "      <th>mse</th>\n",
              "    </tr>\n",
              "  </thead>\n",
              "  <tbody>\n",
              "    <tr>\n",
              "      <th>0</th>\n",
              "      <td>model_1</td>\n",
              "      <td>18.745327</td>\n",
              "      <td>353.573364</td>\n",
              "    </tr>\n",
              "    <tr>\n",
              "      <th>1</th>\n",
              "      <td>model_2</td>\n",
              "      <td>1.909811</td>\n",
              "      <td>5.459232</td>\n",
              "    </tr>\n",
              "    <tr>\n",
              "      <th>2</th>\n",
              "      <td>model_3</td>\n",
              "      <td>68.687859</td>\n",
              "      <td>68.687859</td>\n",
              "    </tr>\n",
              "  </tbody>\n",
              "</table>\n",
              "</div>"
            ],
            "text/plain": [
              "     model        mae         mse\n",
              "0  model_1  18.745327  353.573364\n",
              "1  model_2   1.909811    5.459232\n",
              "2  model_3  68.687859   68.687859"
            ]
          },
          "metadata": {
            "tags": []
          },
          "execution_count": 68
        }
      ]
    },
    {
      "cell_type": "code",
      "metadata": {
        "colab": {
          "base_uri": "https://localhost:8080/",
          "height": 143
        },
        "id": "VazP8vx_OmJ-",
        "outputId": "305de79b-ecd6-4fe7-eccd-f3d1e6bc482f"
      },
      "source": [
        "import pandas as pd\n",
        "\n",
        "model_results = [[\"model_1\", mae_1, mse_1],\n",
        "                 [\"model_2\", mae_2, mse_2],\n",
        "                 [\"model_3\", mae_3, mae_3]]\n",
        "\n",
        "all_results = pd.DataFrame(model_results, columns=[\"model\", \"mae\", \"mse\"])\n",
        "all_results\n"
      ],
      "execution_count": 69,
      "outputs": [
        {
          "output_type": "execute_result",
          "data": {
            "text/html": [
              "<div>\n",
              "<style scoped>\n",
              "    .dataframe tbody tr th:only-of-type {\n",
              "        vertical-align: middle;\n",
              "    }\n",
              "\n",
              "    .dataframe tbody tr th {\n",
              "        vertical-align: top;\n",
              "    }\n",
              "\n",
              "    .dataframe thead th {\n",
              "        text-align: right;\n",
              "    }\n",
              "</style>\n",
              "<table border=\"1\" class=\"dataframe\">\n",
              "  <thead>\n",
              "    <tr style=\"text-align: right;\">\n",
              "      <th></th>\n",
              "      <th>model</th>\n",
              "      <th>mae</th>\n",
              "      <th>mse</th>\n",
              "    </tr>\n",
              "  </thead>\n",
              "  <tbody>\n",
              "    <tr>\n",
              "      <th>0</th>\n",
              "      <td>model_1</td>\n",
              "      <td>18.745327</td>\n",
              "      <td>353.573364</td>\n",
              "    </tr>\n",
              "    <tr>\n",
              "      <th>1</th>\n",
              "      <td>model_2</td>\n",
              "      <td>1.909811</td>\n",
              "      <td>5.459232</td>\n",
              "    </tr>\n",
              "    <tr>\n",
              "      <th>2</th>\n",
              "      <td>model_3</td>\n",
              "      <td>68.687859</td>\n",
              "      <td>68.687859</td>\n",
              "    </tr>\n",
              "  </tbody>\n",
              "</table>\n",
              "</div>"
            ],
            "text/plain": [
              "     model        mae         mse\n",
              "0  model_1  18.745327  353.573364\n",
              "1  model_2   1.909811    5.459232\n",
              "2  model_3  68.687859   68.687859"
            ]
          },
          "metadata": {
            "tags": []
          },
          "execution_count": 69
        }
      ]
    },
    {
      "cell_type": "markdown",
      "metadata": {
        "id": "yONbTCrnO80t"
      },
      "source": [
        "\n",
        "\n",
        "From our experiments, it looks like model_2 performed the best.\n",
        "\n",
        "And now, you might be thinking, \"wow, comparing models is tedious...\" and it definitely can be, we've only compared 3 models here.\n",
        "\n",
        "But this is part of what machine learning modelling is about, trying many different combinations of models and seeing which performs best.\n",
        "\n",
        "Each model you build is a small experiment.\n",
        "\n",
        "    🔑 Note: One of your main goals should be to minimize the time between your experiments. The more experiments you do, the more things you'll figure out which don't work and in turn, get closer to figuring out what does work. Remember the machine learning practitioner's motto: \"experiment, experiment, experiment\".\n",
        "\n",
        "Another thing you'll also find is what you thought may work (such as training a model for longer) may not always work and the exact opposite is also often the case."
      ]
    },
    {
      "cell_type": "markdown",
      "metadata": {
        "id": "-vqIQ6_SPgY3"
      },
      "source": [
        "Tracking your experiments\n",
        "\n",
        "One really good habit to get into is tracking your modelling experiments to see which perform better than others.\n",
        "\n",
        "We've done a simple version of this above (keeping the results in different variables).\n",
        "\n",
        "    📖 Resource: But as you build more models, you'll want to look into using tools such as:\n",
        "\n",
        "        TensorBoard - a component of the TensorFlow library to help track modelling experiments (we'll see this later).\n",
        "        Weights & Biases - a tool for tracking all kinds of machine learning experiments (the good news for Weights & Biases is it plugs into TensorBoard).\n",
        "\n"
      ]
    },
    {
      "cell_type": "markdown",
      "metadata": {
        "id": "eHrclyvwPhlH"
      },
      "source": [
        "#Saving a model\n",
        "\n",
        "Once you've trained a model and found one which performs to your liking, you'll probably want to save it for use elsewhere (like a web application or mobile device).\n",
        "\n",
        "You can save a TensorFlow/Keras model using model.save().\n",
        "\n",
        "There are two ways to save a model in TensorFlow:\n",
        "\n",
        "    The SavedModel format (default).\n",
        "    The HDF5 format.\n",
        "\n",
        "The main difference between the two is the SavedModel is automatically able to save custom objects (such as special layers) without additional modifications when loading the model back in.\n",
        "\n",
        "Which one should you use?\n",
        "\n",
        "It depends on your situation but the SavedModel format will suffice most of the time.\n",
        "\n",
        "Both methods use the same method call.\n"
      ]
    },
    {
      "cell_type": "markdown",
      "metadata": {
        "id": "qnBBXg5bQxRV"
      },
      "source": [
        "SavedModel format\n",
        "The SavedModel format is another way to serialize models. Models saved in this format can be restored using tf.keras.models.load_model and are compatible with TensorFlow Serving. The SavedModel guide goes into detail about how to serve/inspect the SavedModel. The section below illustrates the steps to save and restore the model."
      ]
    },
    {
      "cell_type": "code",
      "metadata": {
        "colab": {
          "base_uri": "https://localhost:8080/"
        },
        "id": "vpsqmRWrPorh",
        "outputId": "4761df81-8bbb-4c0d-e5a7-460f4355b725"
      },
      "source": [
        "# Save a model using the SavedModel format\n",
        "model_2.save('best_model_SavedModel_format')"
      ],
      "execution_count": 70,
      "outputs": [
        {
          "output_type": "stream",
          "text": [
            "INFO:tensorflow:Assets written to: best_model_SavedModel_format/assets\n"
          ],
          "name": "stdout"
        }
      ]
    },
    {
      "cell_type": "code",
      "metadata": {
        "colab": {
          "base_uri": "https://localhost:8080/"
        },
        "id": "5VwBC_KFQ0d7",
        "outputId": "13f0abdd-f600-473b-ee5d-8eece8232a0e"
      },
      "source": [
        "# Check it out - outputs a protobuf binary file (.pb) as well as other files\n",
        "!ls best_model_SavedModel_format\n",
        "\n"
      ],
      "execution_count": 71,
      "outputs": [
        {
          "output_type": "stream",
          "text": [
            "assets\tkeras_metadata.pb  saved_model.pb  variables\n"
          ],
          "name": "stdout"
        }
      ]
    },
    {
      "cell_type": "markdown",
      "metadata": {
        "id": "9m9tqVsWRLin"
      },
      "source": [
        "\n",
        "\n",
        "Now let's save the model in the HDF5 format, we'll use the same method but with a different filename.\n"
      ]
    },
    {
      "cell_type": "code",
      "metadata": {
        "id": "XfGs-4PxRNXo"
      },
      "source": [
        "# Save a model using the HDF5 format\n",
        "model_2.save(\"best_model_HDF5_format.h5\") # note the addition of '.h5' on the end\n",
        "\n"
      ],
      "execution_count": 72,
      "outputs": []
    },
    {
      "cell_type": "code",
      "metadata": {
        "colab": {
          "base_uri": "https://localhost:8080/"
        },
        "id": "buOCpltzRSr3",
        "outputId": "cf6b19f4-08a4-4853-e849-20322eae83db"
      },
      "source": [
        "\n",
        "\n",
        "# Check it out\n",
        "!ls best_model_HDF5_format.h5\n",
        "\n"
      ],
      "execution_count": 73,
      "outputs": [
        {
          "output_type": "stream",
          "text": [
            "best_model_HDF5_format.h5\n"
          ],
          "name": "stdout"
        }
      ]
    },
    {
      "cell_type": "markdown",
      "metadata": {
        "id": "6DZWxo6ASYul"
      },
      "source": [
        "#Loading a model\n",
        "\n",
        "We can load a saved model using the load_model() method.\n",
        "\n",
        "Loading a model for the different formats (SavedModel and HDF5) is the same (as long as the pathnames to the particuluar formats are correct).\n"
      ]
    },
    {
      "cell_type": "code",
      "metadata": {
        "colab": {
          "base_uri": "https://localhost:8080/"
        },
        "id": "9N0gdH-dSeq-",
        "outputId": "64113522-c3e7-4247-8ff1-a02fa1ed5e8a"
      },
      "source": [
        "# Load a model from the SavedModel format\n",
        "loaded_saved_model = tf.keras.models.load_model(\"best_model_SavedModel_format\")\n",
        "loaded_saved_model.summary()"
      ],
      "execution_count": 74,
      "outputs": [
        {
          "output_type": "stream",
          "text": [
            "Model: \"sequential_6\"\n",
            "_________________________________________________________________\n",
            "Layer (type)                 Output Shape              Param #   \n",
            "=================================================================\n",
            "dense_8 (Dense)              (None, 1)                 2         \n",
            "_________________________________________________________________\n",
            "dense_9 (Dense)              (None, 1)                 2         \n",
            "=================================================================\n",
            "Total params: 4\n",
            "Trainable params: 4\n",
            "Non-trainable params: 0\n",
            "_________________________________________________________________\n"
          ],
          "name": "stdout"
        }
      ]
    },
    {
      "cell_type": "code",
      "metadata": {
        "colab": {
          "base_uri": "https://localhost:8080/"
        },
        "id": "JselWYnPTFTz",
        "outputId": "afc05d4c-97d1-43d4-9d9e-826868b1046c"
      },
      "source": [
        "# Compare model_2 with the SavedModel version (should return True)\n",
        "model_2_preds = model_2.predict(X_test)\n",
        "saved_model_preds = loaded_saved_model.predict(X_test)\n",
        "mae(y_test, saved_model_preds.squeeze()).numpy() == mae(y_test, model_2_preds.squeeze()).numpy()"
      ],
      "execution_count": 75,
      "outputs": [
        {
          "output_type": "execute_result",
          "data": {
            "text/plain": [
              "True"
            ]
          },
          "metadata": {
            "tags": []
          },
          "execution_count": 75
        }
      ]
    },
    {
      "cell_type": "code",
      "metadata": {
        "colab": {
          "base_uri": "https://localhost:8080/"
        },
        "id": "TY1F4RLEThJI",
        "outputId": "04713f63-1098-4919-cf31-1ed6a214b16f"
      },
      "source": [
        "# Load a model from the HDF5 format\n",
        "loaded_h5_model = tf.keras.models.load_model(\"best_model_HDF5_format.h5\")\n",
        "loaded_h5_model.summary()\n",
        "\n"
      ],
      "execution_count": 76,
      "outputs": [
        {
          "output_type": "stream",
          "text": [
            "Model: \"sequential_6\"\n",
            "_________________________________________________________________\n",
            "Layer (type)                 Output Shape              Param #   \n",
            "=================================================================\n",
            "dense_8 (Dense)              (None, 1)                 2         \n",
            "_________________________________________________________________\n",
            "dense_9 (Dense)              (None, 1)                 2         \n",
            "=================================================================\n",
            "Total params: 4\n",
            "Trainable params: 4\n",
            "Non-trainable params: 0\n",
            "_________________________________________________________________\n"
          ],
          "name": "stdout"
        }
      ]
    },
    {
      "cell_type": "code",
      "metadata": {
        "colab": {
          "base_uri": "https://localhost:8080/"
        },
        "id": "2l0-U6OJTnqW",
        "outputId": "93082c18-e2ba-45ff-d070-e60176a3b747"
      },
      "source": [
        "# Compare model_2 with the loaded HDF5 version (should return True)\n",
        "h5_model_preds = loaded_h5_model.predict(X_test)\n",
        "mae(y_test, h5_model_preds.squeeze()).numpy() == mae(y_test, model_2_preds.squeeze()).numpy()"
      ],
      "execution_count": 77,
      "outputs": [
        {
          "output_type": "execute_result",
          "data": {
            "text/plain": [
              "True"
            ]
          },
          "metadata": {
            "tags": []
          },
          "execution_count": 77
        }
      ]
    },
    {
      "cell_type": "markdown",
      "metadata": {
        "id": "5CYWsRa8T452"
      },
      "source": [
        "#Downloading a model (from Google Colab)\n",
        "\n",
        "Say you wanted to get your model from Google Colab to your local machine, you can do one of the following things:\n",
        "\n",
        "    Right click on the file in the files pane and click 'download'.\n",
        "    Use the code below.\n",
        "\n"
      ]
    },
    {
      "cell_type": "code",
      "metadata": {
        "colab": {
          "base_uri": "https://localhost:8080/",
          "height": 17
        },
        "id": "XKfxPNMhT8Yu",
        "outputId": "17d99a1b-2459-4560-afc1-a48e9810c1ee"
      },
      "source": [
        "# Download the model (or any file) from Google Colab\n",
        "from google.colab import files\n",
        "files.download(\"best_model_HDF5_format.h5\")"
      ],
      "execution_count": 78,
      "outputs": [
        {
          "output_type": "display_data",
          "data": {
            "application/javascript": [
              "\n",
              "    async function download(id, filename, size) {\n",
              "      if (!google.colab.kernel.accessAllowed) {\n",
              "        return;\n",
              "      }\n",
              "      const div = document.createElement('div');\n",
              "      const label = document.createElement('label');\n",
              "      label.textContent = `Downloading \"${filename}\": `;\n",
              "      div.appendChild(label);\n",
              "      const progress = document.createElement('progress');\n",
              "      progress.max = size;\n",
              "      div.appendChild(progress);\n",
              "      document.body.appendChild(div);\n",
              "\n",
              "      const buffers = [];\n",
              "      let downloaded = 0;\n",
              "\n",
              "      const channel = await google.colab.kernel.comms.open(id);\n",
              "      // Send a message to notify the kernel that we're ready.\n",
              "      channel.send({})\n",
              "\n",
              "      for await (const message of channel.messages) {\n",
              "        // Send a message to notify the kernel that we're ready.\n",
              "        channel.send({})\n",
              "        if (message.buffers) {\n",
              "          for (const buffer of message.buffers) {\n",
              "            buffers.push(buffer);\n",
              "            downloaded += buffer.byteLength;\n",
              "            progress.value = downloaded;\n",
              "          }\n",
              "        }\n",
              "      }\n",
              "      const blob = new Blob(buffers, {type: 'application/binary'});\n",
              "      const a = document.createElement('a');\n",
              "      a.href = window.URL.createObjectURL(blob);\n",
              "      a.download = filename;\n",
              "      div.appendChild(a);\n",
              "      a.click();\n",
              "      div.remove();\n",
              "    }\n",
              "  "
            ],
            "text/plain": [
              "<IPython.core.display.Javascript object>"
            ]
          },
          "metadata": {
            "tags": []
          }
        },
        {
          "output_type": "display_data",
          "data": {
            "application/javascript": [
              "download(\"download_637a9869-e3fb-41a7-9894-fefe09f58645\", \"best_model_HDF5_format.h5\", 17040)"
            ],
            "text/plain": [
              "<IPython.core.display.Javascript object>"
            ]
          },
          "metadata": {
            "tags": []
          }
        }
      ]
    },
    {
      "cell_type": "markdown",
      "metadata": {
        "id": "v-V1-odU6n8Q"
      },
      "source": [
        "#A larger example\n",
        "\n",
        "Alright, we've seen the fundamentals of building neural network regression models in TensorFlow.\n",
        "\n",
        "Let's step it up a notch and build a model for a more feature rich datase.\n",
        "\n",
        "More specifically we're going to try predict the cost of medical insurance for individuals based on a number of different parameters such as, age, sex, bmi, children, smoking_status and residential_region.\n",
        "\n",
        "To do, we'll leverage the pubically available Medical Cost dataset available from Kaggle and hosted on GitHub.\n",
        "\n",
        "    🔑 Note: When learning machine learning paradigms, you'll often go through a series of foundational techniques and then practice them by working with open-source datasets and examples. Just as we're doing now, learn foundations, put them to work with different problems. Every time you work on something new, it's a good idea to search for something like \"problem X example with Python/TensorFlow\" where you substitute X for your problem.\n",
        "\n"
      ]
    },
    {
      "cell_type": "code",
      "metadata": {
        "id": "Klk7EyRp6uJP"
      },
      "source": [
        "# Import required libraries\n",
        "import tensorflow as tf\n",
        "import pandas as pd\n",
        "import matplotlib.pyplot as plt"
      ],
      "execution_count": 79,
      "outputs": []
    },
    {
      "cell_type": "code",
      "metadata": {
        "colab": {
          "base_uri": "https://localhost:8080/",
          "height": 424
        },
        "id": "nIzwUyTq7mJJ",
        "outputId": "58a3c5cf-b521-4fb7-9374-73d1a3f9fdcf"
      },
      "source": [
        "# Read in the insurance dataset\n",
        "insurance = pd.read_csv(\"https://raw.githubusercontent.com/stedy/Machine-Learning-with-R-datasets/master/insurance.csv\")\n",
        "insurance"
      ],
      "execution_count": 82,
      "outputs": [
        {
          "output_type": "execute_result",
          "data": {
            "text/html": [
              "<div>\n",
              "<style scoped>\n",
              "    .dataframe tbody tr th:only-of-type {\n",
              "        vertical-align: middle;\n",
              "    }\n",
              "\n",
              "    .dataframe tbody tr th {\n",
              "        vertical-align: top;\n",
              "    }\n",
              "\n",
              "    .dataframe thead th {\n",
              "        text-align: right;\n",
              "    }\n",
              "</style>\n",
              "<table border=\"1\" class=\"dataframe\">\n",
              "  <thead>\n",
              "    <tr style=\"text-align: right;\">\n",
              "      <th></th>\n",
              "      <th>age</th>\n",
              "      <th>sex</th>\n",
              "      <th>bmi</th>\n",
              "      <th>children</th>\n",
              "      <th>smoker</th>\n",
              "      <th>region</th>\n",
              "      <th>charges</th>\n",
              "    </tr>\n",
              "  </thead>\n",
              "  <tbody>\n",
              "    <tr>\n",
              "      <th>0</th>\n",
              "      <td>19</td>\n",
              "      <td>female</td>\n",
              "      <td>27.900</td>\n",
              "      <td>0</td>\n",
              "      <td>yes</td>\n",
              "      <td>southwest</td>\n",
              "      <td>16884.92400</td>\n",
              "    </tr>\n",
              "    <tr>\n",
              "      <th>1</th>\n",
              "      <td>18</td>\n",
              "      <td>male</td>\n",
              "      <td>33.770</td>\n",
              "      <td>1</td>\n",
              "      <td>no</td>\n",
              "      <td>southeast</td>\n",
              "      <td>1725.55230</td>\n",
              "    </tr>\n",
              "    <tr>\n",
              "      <th>2</th>\n",
              "      <td>28</td>\n",
              "      <td>male</td>\n",
              "      <td>33.000</td>\n",
              "      <td>3</td>\n",
              "      <td>no</td>\n",
              "      <td>southeast</td>\n",
              "      <td>4449.46200</td>\n",
              "    </tr>\n",
              "    <tr>\n",
              "      <th>3</th>\n",
              "      <td>33</td>\n",
              "      <td>male</td>\n",
              "      <td>22.705</td>\n",
              "      <td>0</td>\n",
              "      <td>no</td>\n",
              "      <td>northwest</td>\n",
              "      <td>21984.47061</td>\n",
              "    </tr>\n",
              "    <tr>\n",
              "      <th>4</th>\n",
              "      <td>32</td>\n",
              "      <td>male</td>\n",
              "      <td>28.880</td>\n",
              "      <td>0</td>\n",
              "      <td>no</td>\n",
              "      <td>northwest</td>\n",
              "      <td>3866.85520</td>\n",
              "    </tr>\n",
              "    <tr>\n",
              "      <th>...</th>\n",
              "      <td>...</td>\n",
              "      <td>...</td>\n",
              "      <td>...</td>\n",
              "      <td>...</td>\n",
              "      <td>...</td>\n",
              "      <td>...</td>\n",
              "      <td>...</td>\n",
              "    </tr>\n",
              "    <tr>\n",
              "      <th>1333</th>\n",
              "      <td>50</td>\n",
              "      <td>male</td>\n",
              "      <td>30.970</td>\n",
              "      <td>3</td>\n",
              "      <td>no</td>\n",
              "      <td>northwest</td>\n",
              "      <td>10600.54830</td>\n",
              "    </tr>\n",
              "    <tr>\n",
              "      <th>1334</th>\n",
              "      <td>18</td>\n",
              "      <td>female</td>\n",
              "      <td>31.920</td>\n",
              "      <td>0</td>\n",
              "      <td>no</td>\n",
              "      <td>northeast</td>\n",
              "      <td>2205.98080</td>\n",
              "    </tr>\n",
              "    <tr>\n",
              "      <th>1335</th>\n",
              "      <td>18</td>\n",
              "      <td>female</td>\n",
              "      <td>36.850</td>\n",
              "      <td>0</td>\n",
              "      <td>no</td>\n",
              "      <td>southeast</td>\n",
              "      <td>1629.83350</td>\n",
              "    </tr>\n",
              "    <tr>\n",
              "      <th>1336</th>\n",
              "      <td>21</td>\n",
              "      <td>female</td>\n",
              "      <td>25.800</td>\n",
              "      <td>0</td>\n",
              "      <td>no</td>\n",
              "      <td>southwest</td>\n",
              "      <td>2007.94500</td>\n",
              "    </tr>\n",
              "    <tr>\n",
              "      <th>1337</th>\n",
              "      <td>61</td>\n",
              "      <td>female</td>\n",
              "      <td>29.070</td>\n",
              "      <td>0</td>\n",
              "      <td>yes</td>\n",
              "      <td>northwest</td>\n",
              "      <td>29141.36030</td>\n",
              "    </tr>\n",
              "  </tbody>\n",
              "</table>\n",
              "<p>1338 rows × 7 columns</p>\n",
              "</div>"
            ],
            "text/plain": [
              "      age     sex     bmi  children smoker     region      charges\n",
              "0      19  female  27.900         0    yes  southwest  16884.92400\n",
              "1      18    male  33.770         1     no  southeast   1725.55230\n",
              "2      28    male  33.000         3     no  southeast   4449.46200\n",
              "3      33    male  22.705         0     no  northwest  21984.47061\n",
              "4      32    male  28.880         0     no  northwest   3866.85520\n",
              "...   ...     ...     ...       ...    ...        ...          ...\n",
              "1333   50    male  30.970         3     no  northwest  10600.54830\n",
              "1334   18  female  31.920         0     no  northeast   2205.98080\n",
              "1335   18  female  36.850         0     no  southeast   1629.83350\n",
              "1336   21  female  25.800         0     no  southwest   2007.94500\n",
              "1337   61  female  29.070         0    yes  northwest  29141.36030\n",
              "\n",
              "[1338 rows x 7 columns]"
            ]
          },
          "metadata": {
            "tags": []
          },
          "execution_count": 82
        }
      ]
    },
    {
      "cell_type": "code",
      "metadata": {
        "colab": {
          "base_uri": "https://localhost:8080/",
          "height": 206
        },
        "id": "p6XmCRv07whC",
        "outputId": "55818611-1aee-4e9f-d37d-069901771a5a"
      },
      "source": [
        "# Check out the insurance dataset\n",
        "insurance.head()"
      ],
      "execution_count": 81,
      "outputs": [
        {
          "output_type": "execute_result",
          "data": {
            "text/html": [
              "<div>\n",
              "<style scoped>\n",
              "    .dataframe tbody tr th:only-of-type {\n",
              "        vertical-align: middle;\n",
              "    }\n",
              "\n",
              "    .dataframe tbody tr th {\n",
              "        vertical-align: top;\n",
              "    }\n",
              "\n",
              "    .dataframe thead th {\n",
              "        text-align: right;\n",
              "    }\n",
              "</style>\n",
              "<table border=\"1\" class=\"dataframe\">\n",
              "  <thead>\n",
              "    <tr style=\"text-align: right;\">\n",
              "      <th></th>\n",
              "      <th>age</th>\n",
              "      <th>sex</th>\n",
              "      <th>bmi</th>\n",
              "      <th>children</th>\n",
              "      <th>smoker</th>\n",
              "      <th>region</th>\n",
              "      <th>charges</th>\n",
              "    </tr>\n",
              "  </thead>\n",
              "  <tbody>\n",
              "    <tr>\n",
              "      <th>0</th>\n",
              "      <td>19</td>\n",
              "      <td>female</td>\n",
              "      <td>27.900</td>\n",
              "      <td>0</td>\n",
              "      <td>yes</td>\n",
              "      <td>southwest</td>\n",
              "      <td>16884.92400</td>\n",
              "    </tr>\n",
              "    <tr>\n",
              "      <th>1</th>\n",
              "      <td>18</td>\n",
              "      <td>male</td>\n",
              "      <td>33.770</td>\n",
              "      <td>1</td>\n",
              "      <td>no</td>\n",
              "      <td>southeast</td>\n",
              "      <td>1725.55230</td>\n",
              "    </tr>\n",
              "    <tr>\n",
              "      <th>2</th>\n",
              "      <td>28</td>\n",
              "      <td>male</td>\n",
              "      <td>33.000</td>\n",
              "      <td>3</td>\n",
              "      <td>no</td>\n",
              "      <td>southeast</td>\n",
              "      <td>4449.46200</td>\n",
              "    </tr>\n",
              "    <tr>\n",
              "      <th>3</th>\n",
              "      <td>33</td>\n",
              "      <td>male</td>\n",
              "      <td>22.705</td>\n",
              "      <td>0</td>\n",
              "      <td>no</td>\n",
              "      <td>northwest</td>\n",
              "      <td>21984.47061</td>\n",
              "    </tr>\n",
              "    <tr>\n",
              "      <th>4</th>\n",
              "      <td>32</td>\n",
              "      <td>male</td>\n",
              "      <td>28.880</td>\n",
              "      <td>0</td>\n",
              "      <td>no</td>\n",
              "      <td>northwest</td>\n",
              "      <td>3866.85520</td>\n",
              "    </tr>\n",
              "  </tbody>\n",
              "</table>\n",
              "</div>"
            ],
            "text/plain": [
              "   age     sex     bmi  children smoker     region      charges\n",
              "0   19  female  27.900         0    yes  southwest  16884.92400\n",
              "1   18    male  33.770         1     no  southeast   1725.55230\n",
              "2   28    male  33.000         3     no  southeast   4449.46200\n",
              "3   33    male  22.705         0     no  northwest  21984.47061\n",
              "4   32    male  28.880         0     no  northwest   3866.85520"
            ]
          },
          "metadata": {
            "tags": []
          },
          "execution_count": 81
        }
      ]
    },
    {
      "cell_type": "code",
      "metadata": {
        "colab": {
          "base_uri": "https://localhost:8080/"
        },
        "id": "yR_GjouL8mPm",
        "outputId": "71ca4691-c6cd-4ffd-fa1c-63f9ca875451"
      },
      "source": [
        "insurance[\"sex\"], insurance[\"smoker\"], insurance[\"age\"]"
      ],
      "execution_count": 86,
      "outputs": [
        {
          "output_type": "execute_result",
          "data": {
            "text/plain": [
              "(0       female\n",
              " 1         male\n",
              " 2         male\n",
              " 3         male\n",
              " 4         male\n",
              "          ...  \n",
              " 1333      male\n",
              " 1334    female\n",
              " 1335    female\n",
              " 1336    female\n",
              " 1337    female\n",
              " Name: sex, Length: 1338, dtype: object, 0       yes\n",
              " 1        no\n",
              " 2        no\n",
              " 3        no\n",
              " 4        no\n",
              "        ... \n",
              " 1333     no\n",
              " 1334     no\n",
              " 1335     no\n",
              " 1336     no\n",
              " 1337    yes\n",
              " Name: smoker, Length: 1338, dtype: object, 0       19\n",
              " 1       18\n",
              " 2       28\n",
              " 3       33\n",
              " 4       32\n",
              "         ..\n",
              " 1333    50\n",
              " 1334    18\n",
              " 1335    18\n",
              " 1336    21\n",
              " 1337    61\n",
              " Name: age, Length: 1338, dtype: int64)"
            ]
          },
          "metadata": {
            "tags": []
          },
          "execution_count": 86
        }
      ]
    },
    {
      "cell_type": "markdown",
      "metadata": {
        "id": "XxfduC3V-KfU"
      },
      "source": [
        "We're going to have to turn the non-numerical columns into numbers (because a neural network can't handle non-numerical inputs).\n",
        "\n",
        "To do so, we'll use the get_dummies() method in pandas.\n",
        "\n",
        "It converts categorical variables (like the sex, smoker and region columns) into numerical variables using one-hot encoding.\n"
      ]
    },
    {
      "cell_type": "markdown",
      "metadata": {
        "id": "fGTbmIqK-g99"
      },
      "source": [
        "#How to Convert Categorical Data to Numerical Data?\n",
        "\n",
        "This involves two steps:\n",
        "\n",
        "    Integer Encoding\n",
        "    One-Hot Encoding\n",
        "\n",
        "1. Integer Encoding\n",
        "\n",
        "As a first step, each unique category value is assigned an integer value.\n",
        "\n",
        "For example, “red” is 1, “green” is 2, and “blue” is 3.\n",
        "\n",
        "This is called a label encoding or an integer encoding and is easily reversible.\n",
        "\n",
        "For some variables, this may be enough.\n",
        "\n",
        "The integer values have a natural ordered relationship between each other and machine learning algorithms may be able to understand and harness this relationship.\n",
        "\n",
        "For example, ordinal variables like the “place” example above would be a good example where a label encoding would be sufficient.\n",
        "2. One-Hot Encoding\n",
        "\n",
        "For categorical variables where no such ordinal relationship exists, the integer encoding is not enough.\n",
        "\n",
        "In fact, using this encoding and allowing the model to assume a natural ordering between categories may result in poor performance or unexpected results (predictions halfway between categories).\n",
        "\n",
        "In this case, a one-hot encoding can be applied to the integer representation. This is where the integer encoded variable is removed and a new binary variable is added for each unique integer value.\n",
        "\n",
        "In the “color” variable example, there are 3 categories and therefore 3 binary variables are needed. A “1” value is placed in the binary variable for the color and “0” values for the other colors.\n",
        "\n"
      ]
    },
    {
      "cell_type": "code",
      "metadata": {
        "colab": {
          "base_uri": "https://localhost:8080/",
          "height": 226
        },
        "id": "Y8pWfcmE-nca",
        "outputId": "856b2ebc-44fd-4041-f971-bdd323d6cb96"
      },
      "source": [
        "# Turn all categories into numbers\n",
        "insurance_one_hot = pd.get_dummies(insurance)\n",
        "insurance_one_hot.head() # view the converted columns"
      ],
      "execution_count": 87,
      "outputs": [
        {
          "output_type": "execute_result",
          "data": {
            "text/html": [
              "<div>\n",
              "<style scoped>\n",
              "    .dataframe tbody tr th:only-of-type {\n",
              "        vertical-align: middle;\n",
              "    }\n",
              "\n",
              "    .dataframe tbody tr th {\n",
              "        vertical-align: top;\n",
              "    }\n",
              "\n",
              "    .dataframe thead th {\n",
              "        text-align: right;\n",
              "    }\n",
              "</style>\n",
              "<table border=\"1\" class=\"dataframe\">\n",
              "  <thead>\n",
              "    <tr style=\"text-align: right;\">\n",
              "      <th></th>\n",
              "      <th>age</th>\n",
              "      <th>bmi</th>\n",
              "      <th>children</th>\n",
              "      <th>charges</th>\n",
              "      <th>sex_female</th>\n",
              "      <th>sex_male</th>\n",
              "      <th>smoker_no</th>\n",
              "      <th>smoker_yes</th>\n",
              "      <th>region_northeast</th>\n",
              "      <th>region_northwest</th>\n",
              "      <th>region_southeast</th>\n",
              "      <th>region_southwest</th>\n",
              "    </tr>\n",
              "  </thead>\n",
              "  <tbody>\n",
              "    <tr>\n",
              "      <th>0</th>\n",
              "      <td>19</td>\n",
              "      <td>27.900</td>\n",
              "      <td>0</td>\n",
              "      <td>16884.92400</td>\n",
              "      <td>1</td>\n",
              "      <td>0</td>\n",
              "      <td>0</td>\n",
              "      <td>1</td>\n",
              "      <td>0</td>\n",
              "      <td>0</td>\n",
              "      <td>0</td>\n",
              "      <td>1</td>\n",
              "    </tr>\n",
              "    <tr>\n",
              "      <th>1</th>\n",
              "      <td>18</td>\n",
              "      <td>33.770</td>\n",
              "      <td>1</td>\n",
              "      <td>1725.55230</td>\n",
              "      <td>0</td>\n",
              "      <td>1</td>\n",
              "      <td>1</td>\n",
              "      <td>0</td>\n",
              "      <td>0</td>\n",
              "      <td>0</td>\n",
              "      <td>1</td>\n",
              "      <td>0</td>\n",
              "    </tr>\n",
              "    <tr>\n",
              "      <th>2</th>\n",
              "      <td>28</td>\n",
              "      <td>33.000</td>\n",
              "      <td>3</td>\n",
              "      <td>4449.46200</td>\n",
              "      <td>0</td>\n",
              "      <td>1</td>\n",
              "      <td>1</td>\n",
              "      <td>0</td>\n",
              "      <td>0</td>\n",
              "      <td>0</td>\n",
              "      <td>1</td>\n",
              "      <td>0</td>\n",
              "    </tr>\n",
              "    <tr>\n",
              "      <th>3</th>\n",
              "      <td>33</td>\n",
              "      <td>22.705</td>\n",
              "      <td>0</td>\n",
              "      <td>21984.47061</td>\n",
              "      <td>0</td>\n",
              "      <td>1</td>\n",
              "      <td>1</td>\n",
              "      <td>0</td>\n",
              "      <td>0</td>\n",
              "      <td>1</td>\n",
              "      <td>0</td>\n",
              "      <td>0</td>\n",
              "    </tr>\n",
              "    <tr>\n",
              "      <th>4</th>\n",
              "      <td>32</td>\n",
              "      <td>28.880</td>\n",
              "      <td>0</td>\n",
              "      <td>3866.85520</td>\n",
              "      <td>0</td>\n",
              "      <td>1</td>\n",
              "      <td>1</td>\n",
              "      <td>0</td>\n",
              "      <td>0</td>\n",
              "      <td>1</td>\n",
              "      <td>0</td>\n",
              "      <td>0</td>\n",
              "    </tr>\n",
              "  </tbody>\n",
              "</table>\n",
              "</div>"
            ],
            "text/plain": [
              "   age     bmi  children  ...  region_northwest  region_southeast  region_southwest\n",
              "0   19  27.900         0  ...                 0                 0                 1\n",
              "1   18  33.770         1  ...                 0                 1                 0\n",
              "2   28  33.000         3  ...                 0                 1                 0\n",
              "3   33  22.705         0  ...                 1                 0                 0\n",
              "4   32  28.880         0  ...                 1                 0                 0\n",
              "\n",
              "[5 rows x 12 columns]"
            ]
          },
          "metadata": {
            "tags": []
          },
          "execution_count": 87
        }
      ]
    },
    {
      "cell_type": "markdown",
      "metadata": {
        "id": "vvxoOL26_kwI"
      },
      "source": [
        "# Turn all categories into numbers\n",
        "insurance_one_hot = pd.get_dummies(insurance)\n",
        "insurance_one_hot.head() # view the converted columns"
      ]
    },
    {
      "cell_type": "code",
      "metadata": {
        "id": "HBjWrI5Z_mJZ"
      },
      "source": [
        "# Create X & y values\n",
        "X = insurance_one_hot.drop(\"charges\", axis=1)\n",
        "y = insurance_one_hot[\"charges\"]"
      ],
      "execution_count": 88,
      "outputs": []
    },
    {
      "cell_type": "code",
      "metadata": {
        "colab": {
          "base_uri": "https://localhost:8080/",
          "height": 226
        },
        "id": "mXaQbOnZ_9NU",
        "outputId": "20645b2a-1912-4ecb-db52-2f7219508933"
      },
      "source": [
        "# View features\n",
        "X.head()\n"
      ],
      "execution_count": 89,
      "outputs": [
        {
          "output_type": "execute_result",
          "data": {
            "text/html": [
              "<div>\n",
              "<style scoped>\n",
              "    .dataframe tbody tr th:only-of-type {\n",
              "        vertical-align: middle;\n",
              "    }\n",
              "\n",
              "    .dataframe tbody tr th {\n",
              "        vertical-align: top;\n",
              "    }\n",
              "\n",
              "    .dataframe thead th {\n",
              "        text-align: right;\n",
              "    }\n",
              "</style>\n",
              "<table border=\"1\" class=\"dataframe\">\n",
              "  <thead>\n",
              "    <tr style=\"text-align: right;\">\n",
              "      <th></th>\n",
              "      <th>age</th>\n",
              "      <th>bmi</th>\n",
              "      <th>children</th>\n",
              "      <th>sex_female</th>\n",
              "      <th>sex_male</th>\n",
              "      <th>smoker_no</th>\n",
              "      <th>smoker_yes</th>\n",
              "      <th>region_northeast</th>\n",
              "      <th>region_northwest</th>\n",
              "      <th>region_southeast</th>\n",
              "      <th>region_southwest</th>\n",
              "    </tr>\n",
              "  </thead>\n",
              "  <tbody>\n",
              "    <tr>\n",
              "      <th>0</th>\n",
              "      <td>19</td>\n",
              "      <td>27.900</td>\n",
              "      <td>0</td>\n",
              "      <td>1</td>\n",
              "      <td>0</td>\n",
              "      <td>0</td>\n",
              "      <td>1</td>\n",
              "      <td>0</td>\n",
              "      <td>0</td>\n",
              "      <td>0</td>\n",
              "      <td>1</td>\n",
              "    </tr>\n",
              "    <tr>\n",
              "      <th>1</th>\n",
              "      <td>18</td>\n",
              "      <td>33.770</td>\n",
              "      <td>1</td>\n",
              "      <td>0</td>\n",
              "      <td>1</td>\n",
              "      <td>1</td>\n",
              "      <td>0</td>\n",
              "      <td>0</td>\n",
              "      <td>0</td>\n",
              "      <td>1</td>\n",
              "      <td>0</td>\n",
              "    </tr>\n",
              "    <tr>\n",
              "      <th>2</th>\n",
              "      <td>28</td>\n",
              "      <td>33.000</td>\n",
              "      <td>3</td>\n",
              "      <td>0</td>\n",
              "      <td>1</td>\n",
              "      <td>1</td>\n",
              "      <td>0</td>\n",
              "      <td>0</td>\n",
              "      <td>0</td>\n",
              "      <td>1</td>\n",
              "      <td>0</td>\n",
              "    </tr>\n",
              "    <tr>\n",
              "      <th>3</th>\n",
              "      <td>33</td>\n",
              "      <td>22.705</td>\n",
              "      <td>0</td>\n",
              "      <td>0</td>\n",
              "      <td>1</td>\n",
              "      <td>1</td>\n",
              "      <td>0</td>\n",
              "      <td>0</td>\n",
              "      <td>1</td>\n",
              "      <td>0</td>\n",
              "      <td>0</td>\n",
              "    </tr>\n",
              "    <tr>\n",
              "      <th>4</th>\n",
              "      <td>32</td>\n",
              "      <td>28.880</td>\n",
              "      <td>0</td>\n",
              "      <td>0</td>\n",
              "      <td>1</td>\n",
              "      <td>1</td>\n",
              "      <td>0</td>\n",
              "      <td>0</td>\n",
              "      <td>1</td>\n",
              "      <td>0</td>\n",
              "      <td>0</td>\n",
              "    </tr>\n",
              "  </tbody>\n",
              "</table>\n",
              "</div>"
            ],
            "text/plain": [
              "   age     bmi  children  ...  region_northwest  region_southeast  region_southwest\n",
              "0   19  27.900         0  ...                 0                 0                 1\n",
              "1   18  33.770         1  ...                 0                 1                 0\n",
              "2   28  33.000         3  ...                 0                 1                 0\n",
              "3   33  22.705         0  ...                 1                 0                 0\n",
              "4   32  28.880         0  ...                 1                 0                 0\n",
              "\n",
              "[5 rows x 11 columns]"
            ]
          },
          "metadata": {
            "tags": []
          },
          "execution_count": 89
        }
      ]
    },
    {
      "cell_type": "code",
      "metadata": {
        "colab": {
          "base_uri": "https://localhost:8080/"
        },
        "id": "EpS1bSFW_9DP",
        "outputId": "1ed787a8-9cf4-47fa-bef0-934fe24c47af"
      },
      "source": [
        "# View features\n",
        "y.head()"
      ],
      "execution_count": 91,
      "outputs": [
        {
          "output_type": "execute_result",
          "data": {
            "text/plain": [
              "0    16884.92400\n",
              "1     1725.55230\n",
              "2     4449.46200\n",
              "3    21984.47061\n",
              "4     3866.85520\n",
              "Name: charges, dtype: float64"
            ]
          },
          "metadata": {
            "tags": []
          },
          "execution_count": 91
        }
      ]
    },
    {
      "cell_type": "markdown",
      "metadata": {
        "id": "2CvvI2zWAFuK"
      },
      "source": [
        "And create training and test sets. We could do this manually, but to make it easier, we'll leverage the already available train_test_split function available from Scikit-Learn."
      ]
    },
    {
      "cell_type": "code",
      "metadata": {
        "colab": {
          "base_uri": "https://localhost:8080/"
        },
        "id": "zMKS2RuSAGuZ",
        "outputId": "d24b460e-a492-4b0b-e9bb-a39edc5e32cb"
      },
      "source": [
        "# Create training and test sets\n",
        "from sklearn.model_selection import train_test_split\n",
        "X_train, X_test, y_train, y_test = train_test_split(X, \n",
        "                                                    y, \n",
        "                                                    test_size=0.2, \n",
        "                                                    random_state=42) # set random state for reproducible splits\n",
        "len(X), len(X_train), len(X_test)                                                    "
      ],
      "execution_count": 92,
      "outputs": [
        {
          "output_type": "execute_result",
          "data": {
            "text/plain": [
              "(1338, 1070, 268)"
            ]
          },
          "metadata": {
            "tags": []
          },
          "execution_count": 92
        }
      ]
    },
    {
      "cell_type": "markdown",
      "metadata": {
        "id": "upJaI3VgA8sf"
      },
      "source": [
        "\n",
        "\n",
        "Now we can build and fit a model (we'll make it the same as model_2).\n"
      ]
    },
    {
      "cell_type": "code",
      "metadata": {
        "colab": {
          "base_uri": "https://localhost:8080/"
        },
        "id": "4gkF8pOsBcth",
        "outputId": "793f7050-2e3a-44e2-bb56-1cae34df9a5d"
      },
      "source": [
        "# Model_1 ( insurance_model)\n",
        "# Set random seed\n",
        "tf.random.set_seed(42)\n",
        "\n",
        "# Create a new model (same as model_2)\n",
        "insurance_model = tf.keras.Sequential([\n",
        "  tf.keras.layers.Dense(1),\n",
        "  tf.keras.layers.Dense(1)\n",
        "])\n",
        "\n",
        "# Compile the model\n",
        "insurance_model.compile(loss=tf.keras.losses.mae,\n",
        "                        optimizer=tf.keras.optimizers.SGD(),\n",
        "                        metrics=['mae'])\n",
        "\n",
        "# Fit the model\n",
        "insurance_model.fit(X_train, y_train, epochs=100)\n"
      ],
      "execution_count": 93,
      "outputs": [
        {
          "output_type": "stream",
          "text": [
            "Epoch 1/100\n",
            "34/34 [==============================] - 0s 1ms/step - loss: 8868.5918 - mae: 8868.5918\n",
            "Epoch 2/100\n",
            "34/34 [==============================] - 0s 937us/step - loss: 7887.1606 - mae: 7887.1606\n",
            "Epoch 3/100\n",
            "34/34 [==============================] - 0s 1ms/step - loss: 7537.0947 - mae: 7537.0947\n",
            "Epoch 4/100\n",
            "34/34 [==============================] - 0s 978us/step - loss: 7859.4346 - mae: 7859.4346\n",
            "Epoch 5/100\n",
            "34/34 [==============================] - 0s 984us/step - loss: 7639.6699 - mae: 7639.6699\n",
            "Epoch 6/100\n",
            "34/34 [==============================] - 0s 1ms/step - loss: 7578.0850 - mae: 7578.0850\n",
            "Epoch 7/100\n",
            "34/34 [==============================] - 0s 949us/step - loss: 7514.6177 - mae: 7514.6177\n",
            "Epoch 8/100\n",
            "34/34 [==============================] - 0s 1ms/step - loss: 7694.1338 - mae: 7694.1338\n",
            "Epoch 9/100\n",
            "34/34 [==============================] - 0s 1ms/step - loss: 7595.9136 - mae: 7595.9136\n",
            "Epoch 10/100\n",
            "34/34 [==============================] - 0s 944us/step - loss: 7735.9116 - mae: 7735.9116\n",
            "Epoch 11/100\n",
            "34/34 [==============================] - 0s 1ms/step - loss: 7444.4189 - mae: 7444.4189\n",
            "Epoch 12/100\n",
            "34/34 [==============================] - 0s 970us/step - loss: 7678.0337 - mae: 7678.0337\n",
            "Epoch 13/100\n",
            "34/34 [==============================] - 0s 1ms/step - loss: 7681.5840 - mae: 7681.5840\n",
            "Epoch 14/100\n",
            "34/34 [==============================] - 0s 1ms/step - loss: 7702.2842 - mae: 7702.2842\n",
            "Epoch 15/100\n",
            "34/34 [==============================] - 0s 1ms/step - loss: 7585.8921 - mae: 7585.8921\n",
            "Epoch 16/100\n",
            "34/34 [==============================] - 0s 1ms/step - loss: 7689.5356 - mae: 7689.5356\n",
            "Epoch 17/100\n",
            "34/34 [==============================] - 0s 1ms/step - loss: 7509.2036 - mae: 7509.2036\n",
            "Epoch 18/100\n",
            "34/34 [==============================] - 0s 1ms/step - loss: 7695.0083 - mae: 7695.0083\n",
            "Epoch 19/100\n",
            "34/34 [==============================] - 0s 1ms/step - loss: 7669.3740 - mae: 7669.3740\n",
            "Epoch 20/100\n",
            "34/34 [==============================] - 0s 1ms/step - loss: 7901.1362 - mae: 7901.1362\n",
            "Epoch 21/100\n",
            "34/34 [==============================] - 0s 1ms/step - loss: 7552.4814 - mae: 7552.4814\n",
            "Epoch 22/100\n",
            "34/34 [==============================] - 0s 1ms/step - loss: 7844.9961 - mae: 7844.9961\n",
            "Epoch 23/100\n",
            "34/34 [==============================] - 0s 1ms/step - loss: 7642.2485 - mae: 7642.2485\n",
            "Epoch 24/100\n",
            "34/34 [==============================] - 0s 1ms/step - loss: 7515.3081 - mae: 7515.3081\n",
            "Epoch 25/100\n",
            "34/34 [==============================] - 0s 1ms/step - loss: 7678.3506 - mae: 7678.3506\n",
            "Epoch 26/100\n",
            "34/34 [==============================] - 0s 1ms/step - loss: 7653.0269 - mae: 7653.0269\n",
            "Epoch 27/100\n",
            "34/34 [==============================] - 0s 1ms/step - loss: 7559.5449 - mae: 7559.5449\n",
            "Epoch 28/100\n",
            "34/34 [==============================] - 0s 1ms/step - loss: 7459.9404 - mae: 7459.9404\n",
            "Epoch 29/100\n",
            "34/34 [==============================] - 0s 1ms/step - loss: 7618.6177 - mae: 7618.6177\n",
            "Epoch 30/100\n",
            "34/34 [==============================] - 0s 1ms/step - loss: 7628.6255 - mae: 7628.6255\n",
            "Epoch 31/100\n",
            "34/34 [==============================] - 0s 1ms/step - loss: 7540.4893 - mae: 7540.4893\n",
            "Epoch 32/100\n",
            "34/34 [==============================] - 0s 1ms/step - loss: 7486.0186 - mae: 7486.0186\n",
            "Epoch 33/100\n",
            "34/34 [==============================] - 0s 1ms/step - loss: 7418.6646 - mae: 7418.6646\n",
            "Epoch 34/100\n",
            "34/34 [==============================] - 0s 991us/step - loss: 7480.7319 - mae: 7480.7319\n",
            "Epoch 35/100\n",
            "34/34 [==============================] - 0s 1ms/step - loss: 7615.3115 - mae: 7615.3115\n",
            "Epoch 36/100\n",
            "34/34 [==============================] - 0s 1ms/step - loss: 7566.7896 - mae: 7566.7896\n",
            "Epoch 37/100\n",
            "34/34 [==============================] - 0s 1ms/step - loss: 7661.0879 - mae: 7661.0879\n",
            "Epoch 38/100\n",
            "34/34 [==============================] - 0s 1ms/step - loss: 7522.6816 - mae: 7522.6816\n",
            "Epoch 39/100\n",
            "34/34 [==============================] - 0s 1ms/step - loss: 7556.0718 - mae: 7556.0718\n",
            "Epoch 40/100\n",
            "34/34 [==============================] - 0s 1ms/step - loss: 7433.5669 - mae: 7433.5669\n",
            "Epoch 41/100\n",
            "34/34 [==============================] - 0s 1ms/step - loss: 7722.4312 - mae: 7722.4312\n",
            "Epoch 42/100\n",
            "34/34 [==============================] - 0s 1ms/step - loss: 7344.2700 - mae: 7344.2700\n",
            "Epoch 43/100\n",
            "34/34 [==============================] - 0s 1ms/step - loss: 7597.4331 - mae: 7597.4331\n",
            "Epoch 44/100\n",
            "34/34 [==============================] - 0s 1ms/step - loss: 7338.0132 - mae: 7338.0132\n",
            "Epoch 45/100\n",
            "34/34 [==============================] - 0s 1ms/step - loss: 7510.3467 - mae: 7510.3467\n",
            "Epoch 46/100\n",
            "34/34 [==============================] - 0s 1ms/step - loss: 7413.5801 - mae: 7413.5801\n",
            "Epoch 47/100\n",
            "34/34 [==============================] - 0s 1ms/step - loss: 7451.0391 - mae: 7451.0391\n",
            "Epoch 48/100\n",
            "34/34 [==============================] - 0s 1ms/step - loss: 7340.5381 - mae: 7340.5381\n",
            "Epoch 49/100\n",
            "34/34 [==============================] - 0s 1ms/step - loss: 7481.9976 - mae: 7481.9976\n",
            "Epoch 50/100\n",
            "34/34 [==============================] - 0s 1ms/step - loss: 7468.2842 - mae: 7468.2842\n",
            "Epoch 51/100\n",
            "34/34 [==============================] - 0s 1ms/step - loss: 7411.3408 - mae: 7411.3408\n",
            "Epoch 52/100\n",
            "34/34 [==============================] - 0s 1ms/step - loss: 7460.0796 - mae: 7460.0796\n",
            "Epoch 53/100\n",
            "34/34 [==============================] - 0s 1ms/step - loss: 7601.6606 - mae: 7601.6606\n",
            "Epoch 54/100\n",
            "34/34 [==============================] - 0s 1ms/step - loss: 7241.2549 - mae: 7241.2549\n",
            "Epoch 55/100\n",
            "34/34 [==============================] - 0s 1ms/step - loss: 7539.6953 - mae: 7539.6953\n",
            "Epoch 56/100\n",
            "34/34 [==============================] - 0s 1ms/step - loss: 7293.2012 - mae: 7293.2012\n",
            "Epoch 57/100\n",
            "34/34 [==============================] - 0s 1ms/step - loss: 7417.9731 - mae: 7417.9731\n",
            "Epoch 58/100\n",
            "34/34 [==============================] - 0s 1ms/step - loss: 7353.0625 - mae: 7353.0625\n",
            "Epoch 59/100\n",
            "34/34 [==============================] - 0s 1ms/step - loss: 7643.8247 - mae: 7643.8247\n",
            "Epoch 60/100\n",
            "34/34 [==============================] - 0s 1ms/step - loss: 7410.4004 - mae: 7410.4004\n",
            "Epoch 61/100\n",
            "34/34 [==============================] - 0s 970us/step - loss: 7612.8330 - mae: 7612.8330\n",
            "Epoch 62/100\n",
            "34/34 [==============================] - 0s 996us/step - loss: 7387.9087 - mae: 7387.9087\n",
            "Epoch 63/100\n",
            "34/34 [==============================] - 0s 1ms/step - loss: 7359.5605 - mae: 7359.5605\n",
            "Epoch 64/100\n",
            "34/34 [==============================] - 0s 1ms/step - loss: 7109.0884 - mae: 7109.0884\n",
            "Epoch 65/100\n",
            "34/34 [==============================] - 0s 1ms/step - loss: 7396.3223 - mae: 7396.3223\n",
            "Epoch 66/100\n",
            "34/34 [==============================] - 0s 1ms/step - loss: 7179.8613 - mae: 7179.8613\n",
            "Epoch 67/100\n",
            "34/34 [==============================] - 0s 1ms/step - loss: 7289.7710 - mae: 7289.7710\n",
            "Epoch 68/100\n",
            "34/34 [==============================] - 0s 1ms/step - loss: 7523.6973 - mae: 7523.6973\n",
            "Epoch 69/100\n",
            "34/34 [==============================] - 0s 1ms/step - loss: 7442.6157 - mae: 7442.6157\n",
            "Epoch 70/100\n",
            "34/34 [==============================] - 0s 1ms/step - loss: 7673.4834 - mae: 7673.4834\n",
            "Epoch 71/100\n",
            "34/34 [==============================] - 0s 1ms/step - loss: 7276.0337 - mae: 7276.0337\n",
            "Epoch 72/100\n",
            "34/34 [==============================] - 0s 1ms/step - loss: 7246.3721 - mae: 7246.3721\n",
            "Epoch 73/100\n",
            "34/34 [==============================] - 0s 1ms/step - loss: 7372.0713 - mae: 7372.0713\n",
            "Epoch 74/100\n",
            "34/34 [==============================] - 0s 980us/step - loss: 7512.0762 - mae: 7512.0762\n",
            "Epoch 75/100\n",
            "34/34 [==============================] - 0s 1ms/step - loss: 7269.7437 - mae: 7269.7437\n",
            "Epoch 76/100\n",
            "34/34 [==============================] - 0s 1ms/step - loss: 7199.5039 - mae: 7199.5039\n",
            "Epoch 77/100\n",
            "34/34 [==============================] - 0s 1ms/step - loss: 7261.2920 - mae: 7261.2920\n",
            "Epoch 78/100\n",
            "34/34 [==============================] - 0s 990us/step - loss: 7185.7627 - mae: 7185.7627\n",
            "Epoch 79/100\n",
            "34/34 [==============================] - 0s 1ms/step - loss: 7301.7495 - mae: 7301.7495\n",
            "Epoch 80/100\n",
            "34/34 [==============================] - 0s 1ms/step - loss: 7002.6309 - mae: 7002.6309\n",
            "Epoch 81/100\n",
            "34/34 [==============================] - 0s 1ms/step - loss: 7289.1357 - mae: 7289.1357\n",
            "Epoch 82/100\n",
            "34/34 [==============================] - 0s 1ms/step - loss: 7155.3945 - mae: 7155.3945\n",
            "Epoch 83/100\n",
            "34/34 [==============================] - 0s 1ms/step - loss: 7475.1709 - mae: 7475.1709\n",
            "Epoch 84/100\n",
            "34/34 [==============================] - 0s 1ms/step - loss: 7387.3672 - mae: 7387.3672\n",
            "Epoch 85/100\n",
            "34/34 [==============================] - 0s 1ms/step - loss: 7289.9458 - mae: 7289.9458\n",
            "Epoch 86/100\n",
            "34/34 [==============================] - 0s 1ms/step - loss: 7268.0942 - mae: 7268.0942\n",
            "Epoch 87/100\n",
            "34/34 [==============================] - 0s 1ms/step - loss: 7238.5869 - mae: 7238.5869\n",
            "Epoch 88/100\n",
            "34/34 [==============================] - 0s 1ms/step - loss: 7201.7354 - mae: 7201.7349\n",
            "Epoch 89/100\n",
            "34/34 [==============================] - 0s 1ms/step - loss: 7538.0757 - mae: 7538.0757\n",
            "Epoch 90/100\n",
            "34/34 [==============================] - 0s 1000us/step - loss: 6967.1187 - mae: 6967.1187\n",
            "Epoch 91/100\n",
            "34/34 [==============================] - 0s 1ms/step - loss: 7314.1299 - mae: 7314.1299\n",
            "Epoch 92/100\n",
            "34/34 [==============================] - 0s 1ms/step - loss: 7192.3115 - mae: 7192.3115\n",
            "Epoch 93/100\n",
            "34/34 [==============================] - 0s 1ms/step - loss: 7530.8770 - mae: 7530.8770\n",
            "Epoch 94/100\n",
            "34/34 [==============================] - 0s 959us/step - loss: 7187.3579 - mae: 7187.3579\n",
            "Epoch 95/100\n",
            "34/34 [==============================] - 0s 1ms/step - loss: 7561.5635 - mae: 7561.5635\n",
            "Epoch 96/100\n",
            "34/34 [==============================] - 0s 1ms/step - loss: 7263.4648 - mae: 7263.4648\n",
            "Epoch 97/100\n",
            "34/34 [==============================] - 0s 1ms/step - loss: 7146.2896 - mae: 7146.2896\n",
            "Epoch 98/100\n",
            "34/34 [==============================] - 0s 1ms/step - loss: 7247.9238 - mae: 7247.9238\n",
            "Epoch 99/100\n",
            "34/34 [==============================] - 0s 1ms/step - loss: 7200.6694 - mae: 7200.6694\n",
            "Epoch 100/100\n",
            "34/34 [==============================] - 0s 1ms/step - loss: 7301.6870 - mae: 7301.6870\n"
          ],
          "name": "stdout"
        },
        {
          "output_type": "execute_result",
          "data": {
            "text/plain": [
              "<tensorflow.python.keras.callbacks.History at 0x7fb8dea37310>"
            ]
          },
          "metadata": {
            "tags": []
          },
          "execution_count": 93
        }
      ]
    },
    {
      "cell_type": "code",
      "metadata": {
        "colab": {
          "base_uri": "https://localhost:8080/"
        },
        "id": "Zr6HOFSHCj1X",
        "outputId": "752d368e-51d5-452e-caca-92b7f2718a55"
      },
      "source": [
        "# Check the results of the insurance model\n",
        "insurance_model.evaluate(X_test, y_test)"
      ],
      "execution_count": 94,
      "outputs": [
        {
          "output_type": "stream",
          "text": [
            "9/9 [==============================] - 0s 2ms/step - loss: 8628.2393 - mae: 8628.2393\n"
          ],
          "name": "stdout"
        },
        {
          "output_type": "execute_result",
          "data": {
            "text/plain": [
              "[8628.2392578125, 8628.2392578125]"
            ]
          },
          "metadata": {
            "tags": []
          },
          "execution_count": 94
        }
      ]
    },
    {
      "cell_type": "markdown",
      "metadata": {
        "id": "CIFVSnCuDAw9"
      },
      "source": [
        "\n",
        "\n",
        "Our model didn't perform very well, let's try a bigger model.\n",
        "\n",
        "We'll try 3 things:\n",
        "\n",
        "    Increasing the number of layers (2 -> 3).\n",
        "    Increasing the number of units in each layer (except for the output layer).\n",
        "    Changing the optimizer (from SGD to Adam).\n",
        "\n",
        "Everything else will stay the same.\n"
      ]
    },
    {
      "cell_type": "code",
      "metadata": {
        "id": "_U9YDxwcDDD9"
      },
      "source": [
        "# Model_2\n",
        "# Set random seed\n",
        "tf.random.set_seed(42)\n",
        "\n",
        "# Add an extra layer and increase number of units\n",
        "insurance_model_2 = tf.keras.Sequential([\n",
        "  tf.keras.layers.Dense(100), # 100 units\n",
        "  tf.keras.layers.Dense(10), # 10 units\n",
        "  tf.keras.layers.Dense(1) # 1 unit (important for output layer)\n",
        "])\n",
        "\n",
        "# Compile the model\n",
        "insurance_model_2.compile(loss=tf.keras.losses.mae,\n",
        "                          optimizer=tf.keras.optimizers.Adam(), # Adam works but SGD doesn't \n",
        "                          metrics=['mae'])\n",
        "\n",
        "# Fit the model and save the history (we can plot this)\n",
        "history = insurance_model_2.fit(X_train, y_train, epochs=100, verbose=0)"
      ],
      "execution_count": 95,
      "outputs": []
    },
    {
      "cell_type": "code",
      "metadata": {
        "colab": {
          "base_uri": "https://localhost:8080/"
        },
        "id": "Z0qxTqn7DPTf",
        "outputId": "193c6b73-68aa-4680-9e26-c56381413fe8"
      },
      "source": [
        "# Evaluate our larger model\n",
        "insurance_model_2.evaluate(X_test, y_test)"
      ],
      "execution_count": 98,
      "outputs": [
        {
          "output_type": "stream",
          "text": [
            "9/9 [==============================] - 0s 2ms/step - loss: 4924.3477 - mae: 4924.3477\n"
          ],
          "name": "stdout"
        },
        {
          "output_type": "execute_result",
          "data": {
            "text/plain": [
              "[4924.34765625, 4924.34765625]"
            ]
          },
          "metadata": {
            "tags": []
          },
          "execution_count": 98
        }
      ]
    },
    {
      "cell_type": "markdown",
      "metadata": {
        "id": "SR1BujCGDXMi"
      },
      "source": [
        "\n",
        "\n",
        "Much better! Using a larger model and the Adam optimizer results in almost half the error as the previous model.\n",
        "\n",
        "    🔑 Note: For many problems, the Adam optimizer is a great starting choice. See Andrei Karpathy's \"Adam is safe\" point from A Recipe for Training Neural Networks for more.\n",
        "\n",
        "Let's check out the loss curves of our model, we should see a downward trend.\n"
      ]
    },
    {
      "cell_type": "code",
      "metadata": {
        "id": "3RaQzzQ6FiKb"
      },
      "source": [
        "# Model_3\n",
        "# Set random seed\n",
        "tf.random.set_seed(42)\n",
        "\n",
        "# Add an extra layer and increase number of units\n",
        "insurance_model_3 = tf.keras.Sequential([\n",
        "  tf.keras.layers.Dense(100), # 100 units\n",
        "  tf.keras.layers.Dense(10), # 10 units\n",
        "  tf.keras.layers.Dense(1) # 1 unit (important for output layer)\n",
        "])\n",
        "\n",
        "# Compile the model\n",
        "insurance_model_3.compile(loss=tf.keras.losses.mae,\n",
        "                          optimizer=tf.keras.optimizers.Adam(), # Adam works but SGD doesn't \n",
        "                          metrics=['mae'])\n",
        "\n",
        "# Fit the model and save the history (we can plot this)\n",
        "history = insurance_model_3.fit(X_train, y_train, epochs=200, verbose=0)"
      ],
      "execution_count": 101,
      "outputs": []
    },
    {
      "cell_type": "code",
      "metadata": {
        "colab": {
          "base_uri": "https://localhost:8080/"
        },
        "id": "oKteC5CsFyTC",
        "outputId": "33582455-6b9f-4fb6-ebe4-45e18b626701"
      },
      "source": [
        "# Evaluate our larger model\n",
        "insurance_model_3.evaluate(X_test, y_test)"
      ],
      "execution_count": 102,
      "outputs": [
        {
          "output_type": "stream",
          "text": [
            "9/9 [==============================] - 0s 2ms/step - loss: 3491.2961 - mae: 3491.2961\n"
          ],
          "name": "stdout"
        },
        {
          "output_type": "execute_result",
          "data": {
            "text/plain": [
              "[3491.296142578125, 3491.296142578125]"
            ]
          },
          "metadata": {
            "tags": []
          },
          "execution_count": 102
        }
      ]
    },
    {
      "cell_type": "code",
      "metadata": {
        "colab": {
          "base_uri": "https://localhost:8080/",
          "height": 279
        },
        "id": "WKk3LknaG2XW",
        "outputId": "8fdd2379-5de7-4354-9295-9f360eea5cdd"
      },
      "source": [
        "# Plot history (also known as a loss curve)\n",
        "pd.DataFrame(history.history).plot()\n",
        "plt.ylabel(\"loss\")\n",
        "plt.xlabel(\"epochs\");"
      ],
      "execution_count": 104,
      "outputs": [
        {
          "output_type": "display_data",
          "data": {
            "image/png": "[encoded data removed]",
            "text/plain": [
              "<Figure size 432x288 with 1 Axes>"
            ]
          },
          "metadata": {
            "tags": [],
            "needs_background": "light"
          }
        }
      ]
    },
    {
      "cell_type": "markdown",
      "metadata": {
        "id": "2FSsZmCeD_MJ"
      },
      "source": [
        "\n",
        "\n",
        "From this, it looks like our model's loss (and MAE) were both still decreasing (in our case, MAE and loss are the same, hence the lines in the plot overlap eachother).\n",
        "\n",
        "What this tells us is the loss might go down if we try training it for longer.\n",
        "\n",
        "    🤔 Question: How long should you train for?\n",
        "\n",
        "    It depends on what problem you're working on. Sometimes training won't take very long, other times it'll take longer than you expect. A common method is to set your model training for a very long time (e.g. 1000's of epochs) but set it up with an EarlyStopping callback so it stops automatically when it stops improving. We'll see this in another module.\n",
        "\n",
        "Let's train the same model as above for a little longer. We can do this but calling fit on it again.\n"
      ]
    },
    {
      "cell_type": "code",
      "metadata": {
        "id": "JWwg6kCxEAre"
      },
      "source": [
        "# Try training for a little longer (100 more epochs)\n",
        "history_2 = insurance_model_2.fit(X_train, y_train, epochs=100, verbose=0)\n",
        "\n"
      ],
      "execution_count": 105,
      "outputs": []
    },
    {
      "cell_type": "markdown",
      "metadata": {
        "id": "i8QyYDDHHwqo"
      },
      "source": [
        "\n",
        "\n",
        "How did the extra training go?\n"
      ]
    },
    {
      "cell_type": "code",
      "metadata": {
        "colab": {
          "base_uri": "https://localhost:8080/"
        },
        "id": "wSz38i31Hx_7",
        "outputId": "3de7f4c1-c00a-4b50-e0ae-f2d409b8ae4b"
      },
      "source": [
        "# Evaluate the model trained for 200 total epochs\n",
        "insurance_model_2_loss, insurance_model_2_mae = insurance_model_2.evaluate(X_test, y_test)\n",
        "insurance_model_2_loss, insurance_model_2_mae\n",
        "\n"
      ],
      "execution_count": 106,
      "outputs": [
        {
          "output_type": "stream",
          "text": [
            "9/9 [==============================] - 0s 2ms/step - loss: 3163.1523 - mae: 3163.1523\n"
          ],
          "name": "stdout"
        },
        {
          "output_type": "execute_result",
          "data": {
            "text/plain": [
              "(3163.15234375, 3163.15234375)"
            ]
          },
          "metadata": {
            "tags": []
          },
          "execution_count": 106
        }
      ]
    },
    {
      "cell_type": "markdown",
      "metadata": {
        "id": "2tgzSiwsIAmv"
      },
      "source": [
        "\n",
        "\n",
        "Boom! Training for an extra 100 epochs we see about a 10% decrease in error.\n",
        "\n",
        "How does the visual look?\n"
      ]
    },
    {
      "cell_type": "markdown",
      "metadata": {
        "id": "5xiC26jOJa0w"
      },
      "source": [
        "# Preprocessing data (normalization and standardization)\n",
        "\n",
        "A common practice when working with neural networks is to make sure all of the data you pass to them is in the range 0 to 1.\n",
        "\n",
        "This practice is called normalization (scaling all values from their original range to, e.g. between 0 and 100,000 to be between 0 and 1).\n",
        "\n",
        "There is another process call standardization which converts all of your data to unit variance and 0 mean.\n",
        "\n",
        "These two practices are often part of a preprocessing pipeline (a series of functions to prepare your data for use with neural networks).\n",
        "\n",
        "Knowing this, some of the major steps you'll take to preprocess your data for a neural network include:\n",
        "\n",
        "    Turning all of your data to numbers (a neural network can't handle strings).\n",
        "    Making sure your data is in the right shape (verifying input and output shapes).\n",
        "    Feature scaling:\n",
        "        Normalizing data (making sure all values are between 0 and 1). This is done by subtracting the minimum value then dividing by the maximum value minus the minmum. This is also referred to as min-max scaling.\n",
        "        Standardization (making sure all values have a mean of 0 and a variance of 1). This is done by substracting the mean value from the target feature and then dividing it by the standard deviation.\n",
        "        Which one should you use?\n",
        "            With neural networks you'll tend to favour normalization as they tend to prefer values between 0 and 1 (you'll see this espcially with image processing), however, you'll often find a neural network can perform pretty well with minimal feature scaling.\n",
        "\n",
        "    📖 Resource: For more on preprocessing data, I'd recommend reading the following resources:\n",
        "\n",
        "        Scikit-Learn's documentation on preprocessing data.\n",
        "        Scale, Standardize or Normalize with Scikit-Learn by Jeff Hale.\n",
        "\n",
        "We've already turned our data into numbers using get_dummies(), let's see how we'd normalize it as well.\n"
      ]
    },
    {
      "cell_type": "code",
      "metadata": {
        "colab": {
          "base_uri": "https://localhost:8080/",
          "height": 282
        },
        "id": "ynDhSrzaJflk",
        "outputId": "753f3d27-ca3a-47a1-a863-1779177f7c52"
      },
      "source": [
        "X[\"age\"].plot()"
      ],
      "execution_count": 109,
      "outputs": [
        {
          "output_type": "execute_result",
          "data": {
            "text/plain": [
              "<matplotlib.axes._subplots.AxesSubplot at 0x7fb93d730b50>"
            ]
          },
          "metadata": {
            "tags": []
          },
          "execution_count": 109
        },
        {
          "output_type": "display_data",
          "data": {
            "image/png": "[encoded data removed]",
            "text/plain": [
              "<Figure size 432x288 with 1 Axes>"
            ]
          },
          "metadata": {
            "tags": [],
            "needs_background": "light"
          }
        }
      ]
    },
    {
      "cell_type": "code",
      "metadata": {
        "colab": {
          "base_uri": "https://localhost:8080/",
          "height": 282
        },
        "id": "ZZIm15PDc6gl",
        "outputId": "ef14a84f-17c1-4036-cb28-440d7f921410"
      },
      "source": [
        "X[\"age\"].plot(kind=\"hist\")"
      ],
      "execution_count": 110,
      "outputs": [
        {
          "output_type": "execute_result",
          "data": {
            "text/plain": [
              "<matplotlib.axes._subplots.AxesSubplot at 0x7fb93d5e9b10>"
            ]
          },
          "metadata": {
            "tags": []
          },
          "execution_count": 110
        },
        {
          "output_type": "display_data",
          "data": {
            "image/png": "[encoded data removed]",
            "text/plain": [
              "<Figure size 432x288 with 1 Axes>"
            ]
          },
          "metadata": {
            "tags": [],
            "needs_background": "light"
          }
        }
      ]
    },
    {
      "cell_type": "code",
      "metadata": {
        "colab": {
          "base_uri": "https://localhost:8080/",
          "height": 282
        },
        "id": "4P3-knlndKu_",
        "outputId": "162f9e46-52ee-4b6f-9534-9233659d7020"
      },
      "source": [
        "X[\"bmi\"].plot(kind=\"hist\")"
      ],
      "execution_count": 111,
      "outputs": [
        {
          "output_type": "execute_result",
          "data": {
            "text/plain": [
              "<matplotlib.axes._subplots.AxesSubplot at 0x7fb93d569790>"
            ]
          },
          "metadata": {
            "tags": []
          },
          "execution_count": 111
        },
        {
          "output_type": "display_data",
          "data": {
            "image/png": "[encoded data removed]",
            "text/plain": [
              "<Figure size 432x288 with 1 Axes>"
            ]
          },
          "metadata": {
            "tags": [],
            "needs_background": "light"
          }
        }
      ]
    },
    {
      "cell_type": "code",
      "metadata": {
        "colab": {
          "base_uri": "https://localhost:8080/"
        },
        "id": "rSGw1Cf4dQKY",
        "outputId": "f6373d8a-0241-4bbc-a379-a84ab374aa5f"
      },
      "source": [
        "X[\"children\"].value_counts()"
      ],
      "execution_count": 113,
      "outputs": [
        {
          "output_type": "execute_result",
          "data": {
            "text/plain": [
              "0    574\n",
              "1    324\n",
              "2    240\n",
              "3    157\n",
              "4     25\n",
              "5     18\n",
              "Name: children, dtype: int64"
            ]
          },
          "metadata": {
            "tags": []
          },
          "execution_count": 113
        }
      ]
    },
    {
      "cell_type": "code",
      "metadata": {
        "id": "WjX6kGvmeUlG"
      },
      "source": [
        "import pandas as pd\n",
        "import matplotlib.pyplot as plt\n",
        "import tensorflow as tf\n",
        "\n",
        "# Read in the insurance dataset\n",
        "insurance = pd.read_csv(\"https://raw.githubusercontent.com/stedy/Machine-Learning-with-R-datasets/master/insurance.csv\")"
      ],
      "execution_count": 114,
      "outputs": []
    },
    {
      "cell_type": "code",
      "metadata": {
        "colab": {
          "base_uri": "https://localhost:8080/",
          "height": 206
        },
        "id": "OGKEqtjweY0V",
        "outputId": "4c9e5a56-5d9c-48aa-f58a-8d915e6870ac"
      },
      "source": [
        "# Check out the data\n",
        "insurance.head()\n",
        "\n"
      ],
      "execution_count": 115,
      "outputs": [
        {
          "output_type": "execute_result",
          "data": {
            "text/html": [
              "<div>\n",
              "<style scoped>\n",
              "    .dataframe tbody tr th:only-of-type {\n",
              "        vertical-align: middle;\n",
              "    }\n",
              "\n",
              "    .dataframe tbody tr th {\n",
              "        vertical-align: top;\n",
              "    }\n",
              "\n",
              "    .dataframe thead th {\n",
              "        text-align: right;\n",
              "    }\n",
              "</style>\n",
              "<table border=\"1\" class=\"dataframe\">\n",
              "  <thead>\n",
              "    <tr style=\"text-align: right;\">\n",
              "      <th></th>\n",
              "      <th>age</th>\n",
              "      <th>sex</th>\n",
              "      <th>bmi</th>\n",
              "      <th>children</th>\n",
              "      <th>smoker</th>\n",
              "      <th>region</th>\n",
              "      <th>charges</th>\n",
              "    </tr>\n",
              "  </thead>\n",
              "  <tbody>\n",
              "    <tr>\n",
              "      <th>0</th>\n",
              "      <td>19</td>\n",
              "      <td>female</td>\n",
              "      <td>27.900</td>\n",
              "      <td>0</td>\n",
              "      <td>yes</td>\n",
              "      <td>southwest</td>\n",
              "      <td>16884.92400</td>\n",
              "    </tr>\n",
              "    <tr>\n",
              "      <th>1</th>\n",
              "      <td>18</td>\n",
              "      <td>male</td>\n",
              "      <td>33.770</td>\n",
              "      <td>1</td>\n",
              "      <td>no</td>\n",
              "      <td>southeast</td>\n",
              "      <td>1725.55230</td>\n",
              "    </tr>\n",
              "    <tr>\n",
              "      <th>2</th>\n",
              "      <td>28</td>\n",
              "      <td>male</td>\n",
              "      <td>33.000</td>\n",
              "      <td>3</td>\n",
              "      <td>no</td>\n",
              "      <td>southeast</td>\n",
              "      <td>4449.46200</td>\n",
              "    </tr>\n",
              "    <tr>\n",
              "      <th>3</th>\n",
              "      <td>33</td>\n",
              "      <td>male</td>\n",
              "      <td>22.705</td>\n",
              "      <td>0</td>\n",
              "      <td>no</td>\n",
              "      <td>northwest</td>\n",
              "      <td>21984.47061</td>\n",
              "    </tr>\n",
              "    <tr>\n",
              "      <th>4</th>\n",
              "      <td>32</td>\n",
              "      <td>male</td>\n",
              "      <td>28.880</td>\n",
              "      <td>0</td>\n",
              "      <td>no</td>\n",
              "      <td>northwest</td>\n",
              "      <td>3866.85520</td>\n",
              "    </tr>\n",
              "  </tbody>\n",
              "</table>\n",
              "</div>"
            ],
            "text/plain": [
              "   age     sex     bmi  children smoker     region      charges\n",
              "0   19  female  27.900         0    yes  southwest  16884.92400\n",
              "1   18    male  33.770         1     no  southeast   1725.55230\n",
              "2   28    male  33.000         3     no  southeast   4449.46200\n",
              "3   33    male  22.705         0     no  northwest  21984.47061\n",
              "4   32    male  28.880         0     no  northwest   3866.85520"
            ]
          },
          "metadata": {
            "tags": []
          },
          "execution_count": 115
        }
      ]
    },
    {
      "cell_type": "markdown",
      "metadata": {
        "id": "fx5KvnosedCj"
      },
      "source": [
        "\n",
        "\n",
        "Now, just as before, we need to transform the non-numerical columns into numbers and this time we'll also be normalizing the numerical columns with different ranges (to make sure they're all between 0 and 1).\n",
        "\n",
        "To do this, we're going to use a few classes from Scikit-Learn:\n",
        "\n",
        "    make_column_transformer - build a multi-step data preprocessing function for the folllowing trnasformations:\n",
        "        MinMaxScaler - make sure all numerical columns are normalized (between 0 and 1).\n",
        "        OneHotEncoder - one hot encode the non-numerical columns.\n",
        "\n",
        "Let's see them in action.\n"
      ]
    },
    {
      "cell_type": "code",
      "metadata": {
        "id": "tili2fZQeeXu"
      },
      "source": [
        "from sklearn.compose import make_column_transformer\n",
        "from sklearn.preprocessing import MinMaxScaler, OneHotEncoder\n",
        "\n",
        "\n",
        "# Create column transformer (this will help us normalize/preprocess our data)\n",
        "ct = make_column_transformer(\n",
        "    (MinMaxScaler(), [\"age\", \"bmi\", \"children\"]), # get all values between 0 and 1\n",
        "    (OneHotEncoder(handle_unknown=\"ignore\"), [\"sex\", \"smoker\", \"region\"])\n",
        ")\n",
        "\n",
        "# Create X & y\n",
        "X = insurance.drop(\"charges\", axis=1)\n",
        "y = insurance[\"charges\"]\n",
        "\n",
        "# Build our train and test sets (use random state to ensure same split as before)\n",
        "X_train, X_test, y_train, y_test = train_test_split(X, y, test_size=0.2, random_state=42)\n",
        "\n",
        "# Fit column transformer on the training data only (doing so on test data would result in data leakage)\n",
        "ct.fit(X_train)\n",
        "\n",
        "# Transform training and test data with normalization (MinMaxScalar) and one hot encoding (OneHotEncoder)\n",
        "X_train_normal = ct.transform(X_train)\n",
        "X_test_normal = ct.transform(X_test)"
      ],
      "execution_count": 118,
      "outputs": []
    },
    {
      "cell_type": "markdown",
      "metadata": {
        "id": "IHWfjQRVepQ4"
      },
      "source": [
        "Now we've normalized it and one-hot encoding it, what does our data look like now?"
      ]
    },
    {
      "cell_type": "code",
      "metadata": {
        "colab": {
          "base_uri": "https://localhost:8080/"
        },
        "id": "L0WO1XgEeqqF",
        "outputId": "e4977754-5122-4479-f1a0-18bf85146eef"
      },
      "source": [
        "# Non-normalized and non-one-hot encoded data example\n",
        "X_train.loc[0]\n",
        "\n"
      ],
      "execution_count": 119,
      "outputs": [
        {
          "output_type": "execute_result",
          "data": {
            "text/plain": [
              "age                19\n",
              "sex            female\n",
              "bmi              27.9\n",
              "children            0\n",
              "smoker            yes\n",
              "region      southwest\n",
              "Name: 0, dtype: object"
            ]
          },
          "metadata": {
            "tags": []
          },
          "execution_count": 119
        }
      ]
    },
    {
      "cell_type": "code",
      "metadata": {
        "colab": {
          "base_uri": "https://localhost:8080/"
        },
        "id": "mzDNisuzhOEj",
        "outputId": "a27dc0ea-2677-4ccb-efed-59d940097cf3"
      },
      "source": [
        "# Normalized and one-hot encoded example\n",
        "X_train_normal[0]\n",
        "\n"
      ],
      "execution_count": 120,
      "outputs": [
        {
          "output_type": "execute_result",
          "data": {
            "text/plain": [
              "array([0.60869565, 0.10734463, 0.4       , 1.        , 0.        ,\n",
              "       1.        , 0.        , 0.        , 1.        , 0.        ,\n",
              "       0.        ])"
            ]
          },
          "metadata": {
            "tags": []
          },
          "execution_count": 120
        }
      ]
    },
    {
      "cell_type": "markdown",
      "metadata": {
        "id": "SWy-ntF_hZ6W"
      },
      "source": [
        "\n",
        "\n",
        "How about the shapes?\n"
      ]
    },
    {
      "cell_type": "code",
      "metadata": {
        "colab": {
          "base_uri": "https://localhost:8080/"
        },
        "id": "reGnCAwxhb_m",
        "outputId": "5bd15407-2e63-4276-fea3-538b03859921"
      },
      "source": [
        "# Notice the normalized/one-hot encoded shape is larger because of the extra columns\n",
        "X_train_normal.shape, X_train.shape\n",
        "\n"
      ],
      "execution_count": 121,
      "outputs": [
        {
          "output_type": "execute_result",
          "data": {
            "text/plain": [
              "((1070, 11), (1070, 6))"
            ]
          },
          "metadata": {
            "tags": []
          },
          "execution_count": 121
        }
      ]
    },
    {
      "cell_type": "markdown",
      "metadata": {
        "id": "RWTQ0npbhrAp"
      },
      "source": [
        "\n",
        "\n",
        "Our data is normalized and numerical, let's model it.\n",
        "\n",
        "We'll use the same model as insurance_model_2.\n"
      ]
    },
    {
      "cell_type": "code",
      "metadata": {
        "colab": {
          "base_uri": "https://localhost:8080/"
        },
        "id": "xCc3Y-lahsdM",
        "outputId": "9d1d6a1f-66ec-455e-fb21-34120921e437"
      },
      "source": [
        "# Set random seed\n",
        "tf.random.set_seed(42)\n",
        "\n",
        "# Build the model (3 layers, 100, 10, 1 units)\n",
        "insurance_model_4 = tf.keras.Sequential([\n",
        "  tf.keras.layers.Dense(100),\n",
        "  tf.keras.layers.Dense(10),\n",
        "  tf.keras.layers.Dense(1)\n",
        "])\n",
        "\n",
        "# Compile the model\n",
        "insurance_model_4.compile(loss=tf.keras.losses.mae,\n",
        "                          optimizer=tf.keras.optimizers.Adam(),\n",
        "                          metrics=['mae'])\n",
        "\n",
        "# Fit the model for 200 epochs (same as insurance_model_2)\n",
        "insurance_model_4.fit(X_train_normal, y_train, epochs=200, verbose=0)"
      ],
      "execution_count": 125,
      "outputs": [
        {
          "output_type": "execute_result",
          "data": {
            "text/plain": [
              "<tensorflow.python.keras.callbacks.History at 0x7fb8ed399f50>"
            ]
          },
          "metadata": {
            "tags": []
          },
          "execution_count": 125
        }
      ]
    },
    {
      "cell_type": "code",
      "metadata": {
        "colab": {
          "base_uri": "https://localhost:8080/"
        },
        "id": "LbuQFIlCh0ig",
        "outputId": "cd58d20a-2d4a-43e0-a5a8-ea3e47cb2cc5"
      },
      "source": [
        "# Evaulate 3rd model\n",
        "insurance_model_4.evaluate(X_test_normal, y_test)"
      ],
      "execution_count": 126,
      "outputs": [
        {
          "output_type": "stream",
          "text": [
            "9/9 [==============================] - 0s 2ms/step - loss: 3171.5774 - mae: 3171.5774\n"
          ],
          "name": "stdout"
        },
        {
          "output_type": "execute_result",
          "data": {
            "text/plain": [
              "[3171.577392578125, 3171.577392578125]"
            ]
          },
          "metadata": {
            "tags": []
          },
          "execution_count": 126
        }
      ]
    },
    {
      "cell_type": "markdown",
      "metadata": {
        "id": "-SwoTjk2h6jI"
      },
      "source": [
        "\n",
        "\n",
        "And finally, let's compare the results from insurance_model_2 (trained on non-normalized data) and insurance_model_3 (trained on normalized data).\n"
      ]
    },
    {
      "cell_type": "markdown",
      "metadata": {
        "id": "CNJHGAX0jirN"
      },
      "source": [
        "\n",
        "\n",
        "From this we can see normalizing the data results in 10% less error using the same model than not normalizing the data.\n",
        "\n",
        "This is one of the main benefits of normalization: faster convergence time (a fancy way of saying, your model gets to better results faster).\n",
        "\n",
        "insurance_model_2 may have eventually achieved the same results as insurance_model_3 if we left it training for longer.\n",
        "\n",
        "Also, the results may change if we were to alter the architectures of the models, e.g. more hidden units per layer or more layers.\n",
        "\n",
        "But since our main goal as neural network practioners is to decrease the time between experiments, anything that helps us get better results sooner is a plus.\n"
      ]
    }
  ]
}